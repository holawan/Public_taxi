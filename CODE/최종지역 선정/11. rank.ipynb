{
 "cells": [
  {
   "cell_type": "markdown",
   "metadata": {},
   "source": [
    "# 11.  최적 군집화 중 가중치를 부여하여 가장 취약한 10개 지역 선정"
   ]
  },
  {
   "cell_type": "code",
   "execution_count": null,
   "metadata": {},
   "outputs": [],
   "source": [
    "import pandas as pd\n",
    "from pandas import DataFrame\n",
    "import numbers\n",
    "import math\n",
    "from sklearn.preprocessing import StandardScaler\n",
    "from sklearn.decomposition import PCA"
   ]
  },
  {
   "cell_type": "code",
   "execution_count": null,
   "metadata": {},
   "outputs": [],
   "source": [
    "raw_df=pd.read_csv(\"grade2.csv\", encoding='euc-kr') # 선택한 군집 파일"
   ]
  },
  {
   "cell_type": "code",
   "execution_count": null,
   "metadata": {},
   "outputs": [],
   "source": [
    "raw_df.head(3)"
   ]
  },
  {
   "cell_type": "markdown",
   "metadata": {},
   "source": [
    "### minmaxScaler"
   ]
  },
  {
   "cell_type": "code",
   "execution_count": null,
   "metadata": {},
   "outputs": [],
   "source": [
    "from sklearn.preprocessing import MinMaxScaler"
   ]
  },
  {
   "cell_type": "code",
   "execution_count": null,
   "metadata": {},
   "outputs": [],
   "source": [
    "cluster_df=raw_df.drop(['name', 'Unnamed: 0', 'cluster_grade', 'X', 'Y'], inplace=False, axis=1)"
   ]
  },
  {
   "cell_type": "code",
   "execution_count": null,
   "metadata": {},
   "outputs": [],
   "source": [
    "cluster_df.head(3)"
   ]
  },
  {
   "cell_type": "code",
   "execution_count": null,
   "metadata": {},
   "outputs": [],
   "source": [
    "# 변수의 서로 다른 값을 표준화하기 위해 minmax 실행\n",
    "scaler=MinMaxScaler()\n",
    "scaler.fit(cluster_df)\n",
    "df_scaled=scaler.transform(cluster_df)"
   ]
  },
  {
   "cell_type": "code",
   "execution_count": null,
   "metadata": {},
   "outputs": [],
   "source": [
    "df_scaled=pd.DataFrame(df_scaled)\n",
    "df_scaled.columns=cluster_df.columns"
   ]
  },
  {
   "cell_type": "code",
   "execution_count": null,
   "metadata": {},
   "outputs": [],
   "source": [
    "df_scaled"
   ]
  },
  {
   "cell_type": "code",
   "execution_count": null,
   "metadata": {},
   "outputs": [],
   "source": [
    "# 상관계수를 토대로 가중치 부여"
   ]
  },
  {
   "cell_type": "code",
   "execution_count": null,
   "metadata": {},
   "outputs": [],
   "source": [
    "# 가중치계산을 위해 0 -> 0.000001\n",
    "df=df_scaled.replace(0, 0.000001)"
   ]
  },
  {
   "cell_type": "code",
   "execution_count": null,
   "metadata": {},
   "outputs": [],
   "source": [
    "# 상관계수를 토대로 가중치 부여"
   ]
  },
  {
   "cell_type": "code",
   "execution_count": null,
   "metadata": {},
   "outputs": [],
   "source": [
    "# 상관계수\n",
    "welfare=0.98; library=0.96; theater=0.84;\n",
    "# 문화서비스는 하나의 영역으로 처리\n",
    "service=(welfare+library+theater)/3\n",
    "busStop=0.79; hospital=0.82; store=0.91\n",
    "busTime=0.51; age=0.97"
   ]
  },
  {
   "cell_type": "code",
   "execution_count": null,
   "metadata": {},
   "outputs": [],
   "source": [
    "# 가중치 비율\n",
    "total=service+busStop+hospital+store+busTime+age\n",
    "\n",
    "service=service/total\n",
    "busStop=busStop/total\n",
    "hospital=hospital/total\n",
    "store=store/total\n",
    "busTime=busTime/total\n",
    "age=age/total\n",
    "\n",
    "service=service/3"
   ]
  },
  {
   "cell_type": "code",
   "execution_count": null,
   "metadata": {},
   "outputs": [],
   "source": [
    "print(service, busStop, hospital, store, busTime, age)"
   ]
  },
  {
   "cell_type": "code",
   "execution_count": null,
   "metadata": {},
   "outputs": [],
   "source": [
    "# 가중치 dataframe\n",
    "weight=pd.Series({\"busStop\":busStop, \"hospital\":hospital, \"store\":store, \"welfare\":service, \"library\":service, \"theater\":service, \"busTime\":busTime, \"age\":age})"
   ]
  },
  {
   "cell_type": "code",
   "execution_count": null,
   "metadata": {},
   "outputs": [],
   "source": [
    "weight=pd.DataFrame(weight)\n",
    "weight.columns=['weight']"
   ]
  },
  {
   "cell_type": "code",
   "execution_count": null,
   "metadata": {},
   "outputs": [],
   "source": [
    "weight"
   ]
  },
  {
   "cell_type": "code",
   "execution_count": null,
   "metadata": {},
   "outputs": [],
   "source": [
    "# 가중치 곱한 값\n",
    "a=df['busStop_distance']*busStop\n",
    "b=df['hospital_distance']*hospital\n",
    "c=df['store_distance']*store\n",
    "d=df['welfare_distance']*welfare\n",
    "e=df['library_distance']*library\n",
    "f=df['theater_distance']*theater\n",
    "g=df['busTime_mean']*busTime\n",
    "h=df['aged_population_ratio']*age"
   ]
  },
  {
   "cell_type": "code",
   "execution_count": null,
   "metadata": {},
   "outputs": [],
   "source": [
    "# 가중치 곱한 최종\n",
    "final=pd.concat([a,b,c,d,e,f,g,h], axis=1, sort=True)\n",
    "final"
   ]
  },
  {
   "cell_type": "code",
   "execution_count": null,
   "metadata": {},
   "outputs": [],
   "source": [
    "#평균값 구하기\n",
    "mean_df=final.mean(axis=1)\n",
    "\n",
    "mean_df=pd.DataFrame(mean_df)\n",
    "mean_df.columns=['mean']\n",
    "mean_df"
   ]
  },
  {
   "cell_type": "code",
   "execution_count": null,
   "metadata": {},
   "outputs": [],
   "source": [
    "rank_df=pd.concat([raw_df['name'],mean_df], axis=1, join='inner')"
   ]
  },
  {
   "cell_type": "code",
   "execution_count": null,
   "metadata": {},
   "outputs": [],
   "source": [
    "# 내림차순 정렬\n",
    "rank=rank_df.sort_values(by=['mean'], axis=0, ascending=False)\n",
    "#rank"
   ]
  },
  {
   "cell_type": "code",
   "execution_count": null,
   "metadata": {},
   "outputs": [],
   "source": [
    "# rank 10 추출\n",
    "rank=rank.drop_duplicates(['mean'])\n",
    "rank_top10=rank.iloc[0:10, :]\n",
    "rank_top10"
   ]
  },
  {
   "cell_type": "code",
   "execution_count": null,
   "metadata": {},
   "outputs": [],
   "source": [
    "senior_df=pd.read_csv(\"final_senior_center.csv\", encoding='utf-8')\n",
    "jeonju_df=senior_df[\"borough\"].str.contains(\"전주시\")\n",
    "senior_center=senior_df[jeonju_df] # 전주시 마을회관 데이터\n",
    "senior_center.head(2)"
   ]
  },
  {
   "cell_type": "code",
   "execution_count": null,
   "metadata": {},
   "outputs": [],
   "source": [
    "senior_center=senior_center[['name', 'X', 'Y']] # 필요 column 추출\n",
    "#senior_center"
   ]
  },
  {
   "cell_type": "code",
   "execution_count": null,
   "metadata": {},
   "outputs": [],
   "source": [
    "# rank top 10 의 X Y 좌표 연결\n",
    "final_rank_10=pd.merge(rank_top10, senior_center, on='name', how='left')\n",
    "final_rank_10=final_rank_10.drop([final_rank_10.index[7]]) # 잘못된 값 삭제\n",
    "final_rank_10"
   ]
  },
  {
   "cell_type": "code",
   "execution_count": null,
   "metadata": {},
   "outputs": [],
   "source": [
    "final_rank_10.to_csv(\"final_rank_10.csv\", encoding='euc-kr') # csv 저장"
   ]
  },
  {
   "cell_type": "code",
   "execution_count": null,
   "metadata": {},
   "outputs": [],
   "source": []
  }
 ],
 "metadata": {
  "kernelspec": {
   "display_name": "Python 3",
   "language": "python",
   "name": "python3"
  },
  "language_info": {
   "codemirror_mode": {
    "name": "ipython",
    "version": 3
   },
   "file_extension": ".py",
   "mimetype": "text/x-python",
   "name": "python",
   "nbconvert_exporter": "python",
   "pygments_lexer": "ipython3",
   "version": "3.9.0"
  }
 },
 "nbformat": 4,
 "nbformat_minor": 4
}

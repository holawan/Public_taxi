{
 "cells": [
  {
   "cell_type": "markdown",
   "metadata": {},
   "source": [
    "# 10. 상관계수"
   ]
  },
  {
   "cell_type": "code",
   "execution_count": 152,
   "metadata": {},
   "outputs": [],
   "source": [
    "import pandas as pd\n",
    "from pandas import DataFrame\n",
    "import numbers\n",
    "import numpy as np"
   ]
  },
  {
   "cell_type": "code",
   "execution_count": 153,
   "metadata": {},
   "outputs": [],
   "source": [
    "# 동별 데이터\n",
    "distance=pd.read_csv(\"final_distance_dong.csv\", encoding='euc-kr') # 버스정류장, 병원, 상권, 문화센터 거리\n",
    "\n",
    "senior_ratio=pd.read_csv(\"senior_population_dong.csv\", encoding='euc-kr') # 노령인구 비율\n",
    "#senior_ratio=senior_ratio['aged_population_ratio']\n",
    "\n",
    "bus_time=pd.read_csv(\"busStop_mean_time_dong.csv\", encoding='euc-kr') # 버스 배차 시간\n",
    "bus_time=bus_time['busStop_mean_time']"
   ]
  },
  {
   "cell_type": "code",
   "execution_count": 154,
   "metadata": {},
   "outputs": [
    {
     "name": "stdout",
     "output_type": "stream",
     "text": [
      "22 23 22\n"
     ]
    }
   ],
   "source": [
    "print(len(distance), len(senior_ratio), len(bus_time))"
   ]
  },
  {
   "cell_type": "code",
   "execution_count": 155,
   "metadata": {},
   "outputs": [],
   "source": [
    "senior_ratio=senior_ratio.drop(senior_ratio.index[0])\n",
    "#senior_ratio"
   ]
  },
  {
   "cell_type": "code",
   "execution_count": 156,
   "metadata": {},
   "outputs": [],
   "source": [
    "merge1=pd.merge(distance, senior_ratio, on='dong', how='left')\n",
    "df=pd.concat([merge1, bus_time], axis=1, join='inner') # 전주시 전체 동 변수 dataframe "
   ]
  },
  {
   "cell_type": "code",
   "execution_count": 158,
   "metadata": {},
   "outputs": [],
   "source": [
    "# 공공형택시를 시행하고 있는 동 추출\n",
    "# 조촌동, 우아동, 삼천동, 호성동\n",
    "df1=df.loc[[19, 16, 9, 17]]"
   ]
  },
  {
   "cell_type": "code",
   "execution_count": 159,
   "metadata": {},
   "outputs": [
    {
     "data": {
      "text/html": [
       "<div>\n",
       "<style scoped>\n",
       "    .dataframe tbody tr th:only-of-type {\n",
       "        vertical-align: middle;\n",
       "    }\n",
       "\n",
       "    .dataframe tbody tr th {\n",
       "        vertical-align: top;\n",
       "    }\n",
       "\n",
       "    .dataframe thead th {\n",
       "        text-align: right;\n",
       "    }\n",
       "</style>\n",
       "<table border=\"1\" class=\"dataframe\">\n",
       "  <thead>\n",
       "    <tr style=\"text-align: right;\">\n",
       "      <th></th>\n",
       "      <th>dong</th>\n",
       "      <th>busStop_distance</th>\n",
       "      <th>hospital_distance</th>\n",
       "      <th>store_distance</th>\n",
       "      <th>welfare_distance</th>\n",
       "      <th>library_distance</th>\n",
       "      <th>theater_distance</th>\n",
       "      <th>Unnamed: 0</th>\n",
       "      <th>total_population</th>\n",
       "      <th>senior_population</th>\n",
       "      <th>aged_population_ratio</th>\n",
       "      <th>busStop_mean_time</th>\n",
       "    </tr>\n",
       "  </thead>\n",
       "  <tbody>\n",
       "    <tr>\n",
       "      <th>19</th>\n",
       "      <td>조촌동</td>\n",
       "      <td>0.149538</td>\n",
       "      <td>0.918896</td>\n",
       "      <td>2.509620</td>\n",
       "      <td>6.587327</td>\n",
       "      <td>2.312499</td>\n",
       "      <td>6.081181</td>\n",
       "      <td>20</td>\n",
       "      <td>12390</td>\n",
       "      <td>2255</td>\n",
       "      <td>0.182002</td>\n",
       "      <td>136.205129</td>\n",
       "    </tr>\n",
       "    <tr>\n",
       "      <th>16</th>\n",
       "      <td>우아동</td>\n",
       "      <td>0.211560</td>\n",
       "      <td>0.622823</td>\n",
       "      <td>1.395453</td>\n",
       "      <td>1.831933</td>\n",
       "      <td>1.149140</td>\n",
       "      <td>3.753784</td>\n",
       "      <td>17</td>\n",
       "      <td>24632</td>\n",
       "      <td>4005</td>\n",
       "      <td>0.162593</td>\n",
       "      <td>158.798747</td>\n",
       "    </tr>\n",
       "    <tr>\n",
       "      <th>9</th>\n",
       "      <td>삼천동</td>\n",
       "      <td>0.159486</td>\n",
       "      <td>0.447414</td>\n",
       "      <td>1.281139</td>\n",
       "      <td>1.820914</td>\n",
       "      <td>1.199177</td>\n",
       "      <td>1.852970</td>\n",
       "      <td>10</td>\n",
       "      <td>48345</td>\n",
       "      <td>7896</td>\n",
       "      <td>0.163326</td>\n",
       "      <td>86.853550</td>\n",
       "    </tr>\n",
       "    <tr>\n",
       "      <th>17</th>\n",
       "      <td>호성동</td>\n",
       "      <td>0.209014</td>\n",
       "      <td>0.978572</td>\n",
       "      <td>1.154572</td>\n",
       "      <td>2.902837</td>\n",
       "      <td>0.972590</td>\n",
       "      <td>2.793214</td>\n",
       "      <td>18</td>\n",
       "      <td>20806</td>\n",
       "      <td>3146</td>\n",
       "      <td>0.151206</td>\n",
       "      <td>174.954576</td>\n",
       "    </tr>\n",
       "  </tbody>\n",
       "</table>\n",
       "</div>"
      ],
      "text/plain": [
       "   dong  busStop_distance  hospital_distance  store_distance  \\\n",
       "19  조촌동          0.149538           0.918896        2.509620   \n",
       "16  우아동          0.211560           0.622823        1.395453   \n",
       "9   삼천동          0.159486           0.447414        1.281139   \n",
       "17  호성동          0.209014           0.978572        1.154572   \n",
       "\n",
       "    welfare_distance  library_distance  theater_distance  Unnamed: 0  \\\n",
       "19          6.587327          2.312499          6.081181          20   \n",
       "16          1.831933          1.149140          3.753784          17   \n",
       "9           1.820914          1.199177          1.852970          10   \n",
       "17          2.902837          0.972590          2.793214          18   \n",
       "\n",
       "    total_population  senior_population  aged_population_ratio  \\\n",
       "19             12390               2255               0.182002   \n",
       "16             24632               4005               0.162593   \n",
       "9              48345               7896               0.163326   \n",
       "17             20806               3146               0.151206   \n",
       "\n",
       "    busStop_mean_time  \n",
       "19         136.205129  \n",
       "16         158.798747  \n",
       "9           86.853550  \n",
       "17         174.954576  "
      ]
     },
     "execution_count": 159,
     "metadata": {},
     "output_type": "execute_result"
    }
   ],
   "source": [
    "df1"
   ]
  },
  {
   "cell_type": "code",
   "execution_count": 162,
   "metadata": {},
   "outputs": [],
   "source": [
    "# x=탑승인구/전체 탑승인구\n",
    "a=3642/21098 # 조촌동\n",
    "b=10397/21098 # 우아동\n",
    "c=2584/21098 # 삼천동\n",
    "d=4475/21098 # 호성동"
   ]
  },
  {
   "cell_type": "code",
   "execution_count": 163,
   "metadata": {},
   "outputs": [],
   "source": [
    "x=[a,b,c,d]"
   ]
  },
  {
   "cell_type": "code",
   "execution_count": 164,
   "metadata": {},
   "outputs": [
    {
     "data": {
      "text/html": [
       "<div>\n",
       "<style scoped>\n",
       "    .dataframe tbody tr th:only-of-type {\n",
       "        vertical-align: middle;\n",
       "    }\n",
       "\n",
       "    .dataframe tbody tr th {\n",
       "        vertical-align: top;\n",
       "    }\n",
       "\n",
       "    .dataframe thead th {\n",
       "        text-align: right;\n",
       "    }\n",
       "</style>\n",
       "<table border=\"1\" class=\"dataframe\">\n",
       "  <thead>\n",
       "    <tr style=\"text-align: right;\">\n",
       "      <th></th>\n",
       "      <th>passenger</th>\n",
       "    </tr>\n",
       "  </thead>\n",
       "  <tbody>\n",
       "    <tr>\n",
       "      <th>0</th>\n",
       "      <td>0.172623</td>\n",
       "    </tr>\n",
       "    <tr>\n",
       "      <th>1</th>\n",
       "      <td>0.492796</td>\n",
       "    </tr>\n",
       "    <tr>\n",
       "      <th>2</th>\n",
       "      <td>0.122476</td>\n",
       "    </tr>\n",
       "    <tr>\n",
       "      <th>3</th>\n",
       "      <td>0.212105</td>\n",
       "    </tr>\n",
       "  </tbody>\n",
       "</table>\n",
       "</div>"
      ],
      "text/plain": [
       "   passenger\n",
       "0   0.172623\n",
       "1   0.492796\n",
       "2   0.122476\n",
       "3   0.212105"
      ]
     },
     "execution_count": 164,
     "metadata": {},
     "output_type": "execute_result"
    }
   ],
   "source": [
    "x=pd.DataFrame(x)\n",
    "x.columns=['passenger']\n",
    "x"
   ]
  },
  {
   "cell_type": "code",
   "execution_count": 165,
   "metadata": {},
   "outputs": [
    {
     "data": {
      "text/html": [
       "<div>\n",
       "<style scoped>\n",
       "    .dataframe tbody tr th:only-of-type {\n",
       "        vertical-align: middle;\n",
       "    }\n",
       "\n",
       "    .dataframe tbody tr th {\n",
       "        vertical-align: top;\n",
       "    }\n",
       "\n",
       "    .dataframe thead th {\n",
       "        text-align: right;\n",
       "    }\n",
       "</style>\n",
       "<table border=\"1\" class=\"dataframe\">\n",
       "  <thead>\n",
       "    <tr style=\"text-align: right;\">\n",
       "      <th></th>\n",
       "      <th>dong</th>\n",
       "      <th>busStop_distance</th>\n",
       "      <th>hospital_distance</th>\n",
       "      <th>store_distance</th>\n",
       "      <th>welfare_distance</th>\n",
       "      <th>library_distance</th>\n",
       "      <th>theater_distance</th>\n",
       "      <th>Unnamed: 0</th>\n",
       "      <th>total_population</th>\n",
       "      <th>senior_population</th>\n",
       "      <th>aged_population_ratio</th>\n",
       "      <th>busStop_mean_time</th>\n",
       "      <th>passenger</th>\n",
       "    </tr>\n",
       "  </thead>\n",
       "  <tbody>\n",
       "    <tr>\n",
       "      <th>0</th>\n",
       "      <td>중앙동</td>\n",
       "      <td>0.114141</td>\n",
       "      <td>0.279026</td>\n",
       "      <td>0.384018</td>\n",
       "      <td>0.709611</td>\n",
       "      <td>0.515291</td>\n",
       "      <td>0.500021</td>\n",
       "      <td>1</td>\n",
       "      <td>7767</td>\n",
       "      <td>2126</td>\n",
       "      <td>0.273722</td>\n",
       "      <td>88.971488</td>\n",
       "      <td>0.172623</td>\n",
       "    </tr>\n",
       "    <tr>\n",
       "      <th>1</th>\n",
       "      <td>풍남동</td>\n",
       "      <td>0.213948</td>\n",
       "      <td>1.157429</td>\n",
       "      <td>1.453672</td>\n",
       "      <td>2.580567</td>\n",
       "      <td>1.249478</td>\n",
       "      <td>2.900363</td>\n",
       "      <td>2</td>\n",
       "      <td>4341</td>\n",
       "      <td>1490</td>\n",
       "      <td>0.343239</td>\n",
       "      <td>109.068206</td>\n",
       "      <td>0.492796</td>\n",
       "    </tr>\n",
       "    <tr>\n",
       "      <th>2</th>\n",
       "      <td>노송동</td>\n",
       "      <td>0.163273</td>\n",
       "      <td>0.698264</td>\n",
       "      <td>0.621190</td>\n",
       "      <td>0.464716</td>\n",
       "      <td>0.571752</td>\n",
       "      <td>1.219143</td>\n",
       "      <td>3</td>\n",
       "      <td>12771</td>\n",
       "      <td>3505</td>\n",
       "      <td>0.274450</td>\n",
       "      <td>97.011564</td>\n",
       "      <td>0.122476</td>\n",
       "    </tr>\n",
       "    <tr>\n",
       "      <th>3</th>\n",
       "      <td>완산동</td>\n",
       "      <td>0.163606</td>\n",
       "      <td>0.550629</td>\n",
       "      <td>0.926139</td>\n",
       "      <td>1.336842</td>\n",
       "      <td>0.809468</td>\n",
       "      <td>2.055115</td>\n",
       "      <td>4</td>\n",
       "      <td>5026</td>\n",
       "      <td>1510</td>\n",
       "      <td>0.300438</td>\n",
       "      <td>114.076284</td>\n",
       "      <td>0.212105</td>\n",
       "    </tr>\n",
       "  </tbody>\n",
       "</table>\n",
       "</div>"
      ],
      "text/plain": [
       "  dong  busStop_distance  hospital_distance  store_distance  welfare_distance  \\\n",
       "0  중앙동          0.114141           0.279026        0.384018          0.709611   \n",
       "1  풍남동          0.213948           1.157429        1.453672          2.580567   \n",
       "2  노송동          0.163273           0.698264        0.621190          0.464716   \n",
       "3  완산동          0.163606           0.550629        0.926139          1.336842   \n",
       "\n",
       "   library_distance  theater_distance  Unnamed: 0  total_population  \\\n",
       "0          0.515291          0.500021           1              7767   \n",
       "1          1.249478          2.900363           2              4341   \n",
       "2          0.571752          1.219143           3             12771   \n",
       "3          0.809468          2.055115           4              5026   \n",
       "\n",
       "   senior_population  aged_population_ratio  busStop_mean_time  passenger  \n",
       "0               2126               0.273722          88.971488   0.172623  \n",
       "1               1490               0.343239         109.068206   0.492796  \n",
       "2               3505               0.274450          97.011564   0.122476  \n",
       "3               1510               0.300438         114.076284   0.212105  "
      ]
     },
     "execution_count": 165,
     "metadata": {},
     "output_type": "execute_result"
    }
   ],
   "source": [
    "corr_df=pd.concat([df, x],axis=1, join='inner')\n",
    "corr_df"
   ]
  },
  {
   "cell_type": "code",
   "execution_count": 166,
   "metadata": {},
   "outputs": [
    {
     "data": {
      "text/html": [
       "<div>\n",
       "<style scoped>\n",
       "    .dataframe tbody tr th:only-of-type {\n",
       "        vertical-align: middle;\n",
       "    }\n",
       "\n",
       "    .dataframe tbody tr th {\n",
       "        vertical-align: top;\n",
       "    }\n",
       "\n",
       "    .dataframe thead th {\n",
       "        text-align: right;\n",
       "    }\n",
       "</style>\n",
       "<table border=\"1\" class=\"dataframe\">\n",
       "  <thead>\n",
       "    <tr style=\"text-align: right;\">\n",
       "      <th></th>\n",
       "      <th>busStop_distance</th>\n",
       "      <th>hospital_distance</th>\n",
       "      <th>store_distance</th>\n",
       "      <th>welfare_distance</th>\n",
       "      <th>library_distance</th>\n",
       "      <th>theater_distance</th>\n",
       "      <th>total_population</th>\n",
       "      <th>senior_population</th>\n",
       "      <th>aged_population_ratio</th>\n",
       "      <th>busStop_mean_time</th>\n",
       "      <th>passenger</th>\n",
       "    </tr>\n",
       "  </thead>\n",
       "  <tbody>\n",
       "    <tr>\n",
       "      <th>0</th>\n",
       "      <td>0.114141</td>\n",
       "      <td>0.279026</td>\n",
       "      <td>0.384018</td>\n",
       "      <td>0.709611</td>\n",
       "      <td>0.515291</td>\n",
       "      <td>0.500021</td>\n",
       "      <td>7767</td>\n",
       "      <td>2126</td>\n",
       "      <td>0.273722</td>\n",
       "      <td>88.971488</td>\n",
       "      <td>0.172623</td>\n",
       "    </tr>\n",
       "    <tr>\n",
       "      <th>1</th>\n",
       "      <td>0.213948</td>\n",
       "      <td>1.157429</td>\n",
       "      <td>1.453672</td>\n",
       "      <td>2.580567</td>\n",
       "      <td>1.249478</td>\n",
       "      <td>2.900363</td>\n",
       "      <td>4341</td>\n",
       "      <td>1490</td>\n",
       "      <td>0.343239</td>\n",
       "      <td>109.068206</td>\n",
       "      <td>0.492796</td>\n",
       "    </tr>\n",
       "    <tr>\n",
       "      <th>2</th>\n",
       "      <td>0.163273</td>\n",
       "      <td>0.698264</td>\n",
       "      <td>0.621190</td>\n",
       "      <td>0.464716</td>\n",
       "      <td>0.571752</td>\n",
       "      <td>1.219143</td>\n",
       "      <td>12771</td>\n",
       "      <td>3505</td>\n",
       "      <td>0.274450</td>\n",
       "      <td>97.011564</td>\n",
       "      <td>0.122476</td>\n",
       "    </tr>\n",
       "    <tr>\n",
       "      <th>3</th>\n",
       "      <td>0.163606</td>\n",
       "      <td>0.550629</td>\n",
       "      <td>0.926139</td>\n",
       "      <td>1.336842</td>\n",
       "      <td>0.809468</td>\n",
       "      <td>2.055115</td>\n",
       "      <td>5026</td>\n",
       "      <td>1510</td>\n",
       "      <td>0.300438</td>\n",
       "      <td>114.076284</td>\n",
       "      <td>0.212105</td>\n",
       "    </tr>\n",
       "  </tbody>\n",
       "</table>\n",
       "</div>"
      ],
      "text/plain": [
       "   busStop_distance  hospital_distance  store_distance  welfare_distance  \\\n",
       "0          0.114141           0.279026        0.384018          0.709611   \n",
       "1          0.213948           1.157429        1.453672          2.580567   \n",
       "2          0.163273           0.698264        0.621190          0.464716   \n",
       "3          0.163606           0.550629        0.926139          1.336842   \n",
       "\n",
       "   library_distance  theater_distance  total_population  senior_population  \\\n",
       "0          0.515291          0.500021              7767               2126   \n",
       "1          1.249478          2.900363              4341               1490   \n",
       "2          0.571752          1.219143             12771               3505   \n",
       "3          0.809468          2.055115              5026               1510   \n",
       "\n",
       "   aged_population_ratio  busStop_mean_time  passenger  \n",
       "0               0.273722          88.971488   0.172623  \n",
       "1               0.343239         109.068206   0.492796  \n",
       "2               0.274450          97.011564   0.122476  \n",
       "3               0.300438         114.076284   0.212105  "
      ]
     },
     "execution_count": 166,
     "metadata": {},
     "output_type": "execute_result"
    }
   ],
   "source": [
    "corr_df.drop(['dong', 'Unnamed: 0'], inplace=True, axis=1)\n",
    "\n",
    "# 최종 dataframe\n",
    "corr_df\n",
    "#list(corr_df)"
   ]
  },
  {
   "cell_type": "markdown",
   "metadata": {},
   "source": [
    "## HeatMap"
   ]
  },
  {
   "cell_type": "markdown",
   "metadata": {},
   "source": [
    "### 변수별 상관계수 확인 후 상관관계가 있는 변수 추출"
   ]
  },
  {
   "cell_type": "code",
   "execution_count": 167,
   "metadata": {},
   "outputs": [],
   "source": [
    "import matplotlib.pyplot as plt\n",
    "import seaborn as sns\n",
    "\n",
    "plt.rcParams['figure.figsize'] = [10, 8]\n"
   ]
  },
  {
   "cell_type": "code",
   "execution_count": 168,
   "metadata": {},
   "outputs": [
    {
     "data": {
      "image/png": "[encoded data removed]",
      "text/plain": [
       "<Figure size 720x576 with 2 Axes>"
      ]
     },
     "metadata": {
      "needs_background": "light"
     },
     "output_type": "display_data"
    }
   ],
   "source": [
    "# 상관계수 Heatmap\n",
    "\n",
    "sns.heatmap(data=corr_df.corr(), annot=True, fmt='.2f', linewidths=.5, cmap='Blues')\n",
    "plt.title(\"Public Taxi heatmap\", fontsize=20)\n",
    "plt.show()"
   ]
  }
 ],
 "metadata": {
  "kernelspec": {
   "display_name": "Python 3",
   "language": "python",
   "name": "python3"
  },
  "language_info": {
   "codemirror_mode": {
    "name": "ipython",
    "version": 3
   },
   "file_extension": ".py",
   "mimetype": "text/x-python",
   "name": "python",
   "nbconvert_exporter": "python",
   "pygments_lexer": "ipython3",
   "version": "3.9.0"
  }
 },
 "nbformat": 4,
 "nbformat_minor": 4
}

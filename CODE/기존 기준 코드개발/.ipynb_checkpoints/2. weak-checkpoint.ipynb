{
 "cells": [
  {
   "cell_type": "markdown",
   "metadata": {},
   "source": [
    "## 2. 배차시간 180분 이상 버스만 지나는 정류장 추출"
   ]
  },
  {
   "cell_type": "code",
   "execution_count": 82,
   "metadata": {},
   "outputs": [],
   "source": [
    "import pandas as pd\n",
    "import numpy as np"
   ]
  },
  {
   "cell_type": "code",
   "execution_count": 83,
   "metadata": {},
   "outputs": [
    {
     "name": "stdout",
     "output_type": "stream",
     "text": [
      "stop:\n",
      "    노선번호  노선순번     정류장명        LAT         LNG\n",
      "0  1000     4  호성동신아파트  35.858156  127.155229\n",
      "1  1000     3     호성주공  35.858132  127.153398\n",
      "2  1000    28     호성주공  35.857849  127.151955\n",
      "route:\n",
      "     노선   편도운행\n",
      "0  109  450.0\n",
      "1   12  180.0\n",
      "2  131  180.0\n"
     ]
    }
   ],
   "source": [
    "stop=pd.read_csv('stop-xy.csv', encoding='utf-8')\n",
    "print(\"stop:\\n\", stop.head(3))\n",
    "route=pd.read_csv('newroute_180.csv', encoding='utf-8')\n",
    "print(\"route:\\n\", route.head(3))\n"
   ]
  },
  {
   "cell_type": "code",
   "execution_count": 97,
   "metadata": {},
   "outputs": [
    {
     "data": {
      "text/plain": [
       "17302"
      ]
     },
     "execution_count": 97,
     "metadata": {},
     "output_type": "execute_result"
    }
   ],
   "source": []
  },
  {
   "cell_type": "code",
   "execution_count": 84,
   "metadata": {},
   "outputs": [],
   "source": [
    "y=pd.DataFrame(stop[\"정류장명\"].value_counts())"
   ]
  },
  {
   "cell_type": "code",
   "execution_count": 85,
   "metadata": {},
   "outputs": [
    {
     "data": {
      "text/html": [
       "<div>\n",
       "<style scoped>\n",
       "    .dataframe tbody tr th:only-of-type {\n",
       "        vertical-align: middle;\n",
       "    }\n",
       "\n",
       "    .dataframe tbody tr th {\n",
       "        vertical-align: top;\n",
       "    }\n",
       "\n",
       "    .dataframe thead th {\n",
       "        text-align: right;\n",
       "    }\n",
       "</style>\n",
       "<table border=\"1\" class=\"dataframe\">\n",
       "  <thead>\n",
       "    <tr style=\"text-align: right;\">\n",
       "      <th></th>\n",
       "      <th>정류장명</th>\n",
       "    </tr>\n",
       "  </thead>\n",
       "  <tbody>\n",
       "    <tr>\n",
       "      <th>전동성당.한옥마을</th>\n",
       "      <td>208</td>\n",
       "    </tr>\n",
       "    <tr>\n",
       "      <th>남부시장</th>\n",
       "      <td>191</td>\n",
       "    </tr>\n",
       "    <tr>\n",
       "      <th>기린대로덕진공원</th>\n",
       "      <td>159</td>\n",
       "    </tr>\n",
       "    <tr>\n",
       "      <th>전주교도소</th>\n",
       "      <td>132</td>\n",
       "    </tr>\n",
       "    <tr>\n",
       "      <th>주공4단지.꽃밭정이아파트</th>\n",
       "      <td>128</td>\n",
       "    </tr>\n",
       "    <tr>\n",
       "      <th>...</th>\n",
       "      <td>...</td>\n",
       "    </tr>\n",
       "    <tr>\n",
       "      <th>팔복예술공장.연탄공장</th>\n",
       "      <td>1</td>\n",
       "    </tr>\n",
       "    <tr>\n",
       "      <th>호성유원아파트</th>\n",
       "      <td>1</td>\n",
       "    </tr>\n",
       "    <tr>\n",
       "      <th>비전대학교입구</th>\n",
       "      <td>1</td>\n",
       "    </tr>\n",
       "    <tr>\n",
       "      <th>건지광장</th>\n",
       "      <td>1</td>\n",
       "    </tr>\n",
       "    <tr>\n",
       "      <th>오공공원</th>\n",
       "      <td>1</td>\n",
       "    </tr>\n",
       "  </tbody>\n",
       "</table>\n",
       "<p>1233 rows × 1 columns</p>\n",
       "</div>"
      ],
      "text/plain": [
       "               정류장명\n",
       "전동성당.한옥마을       208\n",
       "남부시장            191\n",
       "기린대로덕진공원        159\n",
       "전주교도소           132\n",
       "주공4단지.꽃밭정이아파트   128\n",
       "...             ...\n",
       "팔복예술공장.연탄공장       1\n",
       "호성유원아파트           1\n",
       "비전대학교입구           1\n",
       "건지광장              1\n",
       "오공공원              1\n",
       "\n",
       "[1233 rows x 1 columns]"
      ]
     },
     "execution_count": 85,
     "metadata": {},
     "output_type": "execute_result"
    }
   ],
   "source": [
    "y"
   ]
  },
  {
   "cell_type": "code",
   "execution_count": 86,
   "metadata": {},
   "outputs": [
    {
     "name": "stdout",
     "output_type": "stream",
     "text": [
      "       index  정류장명\n",
      "0  전동성당.한옥마을   208\n",
      "1       남부시장   191\n",
      "0    208\n",
      "1    191\n",
      "2    159\n",
      "Name: 정류장명, dtype: int64\n"
     ]
    }
   ],
   "source": [
    "y=pd.DataFrame(stop[\"정류장명\"].value_counts())\n",
    "y.reset_index(inplace=True)\n",
    "print(y.head(2))\n",
    "print(y[\"정류장명\"].head(3))\n",
    "#print(y.head(2))\n",
    "#print(y['정류장명'].head(3))"
   ]
  },
  {
   "cell_type": "code",
   "execution_count": 87,
   "metadata": {},
   "outputs": [
    {
     "data": {
      "text/plain": [
       "0        1000\n",
       "1        1000\n",
       "2        1000\n",
       "3        1000\n",
       "4        1000\n",
       "         ... \n",
       "17297       6\n",
       "17298       6\n",
       "17299       6\n",
       "17300       6\n",
       "17301       6\n",
       "Name: 노선번호, Length: 17302, dtype: int64"
      ]
     },
     "execution_count": 87,
     "metadata": {},
     "output_type": "execute_result"
    }
   ],
   "source": [
    "stop[\"노선번호\"]"
   ]
  },
  {
   "cell_type": "code",
   "execution_count": 88,
   "metadata": {},
   "outputs": [],
   "source": [
    "route.rename(columns = {'노선' : '노선번호'}, inplace = True)"
   ]
  },
  {
   "cell_type": "code",
   "execution_count": 89,
   "metadata": {},
   "outputs": [
    {
     "data": {
      "text/html": [
       "<div>\n",
       "<style scoped>\n",
       "    .dataframe tbody tr th:only-of-type {\n",
       "        vertical-align: middle;\n",
       "    }\n",
       "\n",
       "    .dataframe tbody tr th {\n",
       "        vertical-align: top;\n",
       "    }\n",
       "\n",
       "    .dataframe thead th {\n",
       "        text-align: right;\n",
       "    }\n",
       "</style>\n",
       "<table border=\"1\" class=\"dataframe\">\n",
       "  <thead>\n",
       "    <tr style=\"text-align: right;\">\n",
       "      <th></th>\n",
       "      <th>노선번호</th>\n",
       "      <th>편도운행</th>\n",
       "    </tr>\n",
       "  </thead>\n",
       "  <tbody>\n",
       "    <tr>\n",
       "      <th>0</th>\n",
       "      <td>109</td>\n",
       "      <td>450.0</td>\n",
       "    </tr>\n",
       "    <tr>\n",
       "      <th>1</th>\n",
       "      <td>12</td>\n",
       "      <td>180.0</td>\n",
       "    </tr>\n",
       "    <tr>\n",
       "      <th>2</th>\n",
       "      <td>131</td>\n",
       "      <td>180.0</td>\n",
       "    </tr>\n",
       "  </tbody>\n",
       "</table>\n",
       "</div>"
      ],
      "text/plain": [
       "   노선번호   편도운행\n",
       "0   109  450.0\n",
       "1    12  180.0\n",
       "2   131  180.0"
      ]
     },
     "execution_count": 89,
     "metadata": {},
     "output_type": "execute_result"
    }
   ],
   "source": [
    "route.head(3)"
   ]
  },
  {
   "cell_type": "code",
   "execution_count": 91,
   "metadata": {},
   "outputs": [
    {
     "name": "stdout",
     "output_type": "stream",
     "text": [
      "<class 'pandas.core.frame.DataFrame'>\n"
     ]
    },
    {
     "data": {
      "text/html": [
       "<div>\n",
       "<style scoped>\n",
       "    .dataframe tbody tr th:only-of-type {\n",
       "        vertical-align: middle;\n",
       "    }\n",
       "\n",
       "    .dataframe tbody tr th {\n",
       "        vertical-align: top;\n",
       "    }\n",
       "\n",
       "    .dataframe thead th {\n",
       "        text-align: right;\n",
       "    }\n",
       "</style>\n",
       "<table border=\"1\" class=\"dataframe\">\n",
       "  <thead>\n",
       "    <tr style=\"text-align: right;\">\n",
       "      <th></th>\n",
       "      <th>노선번호</th>\n",
       "      <th>편도운행</th>\n",
       "      <th>노선순번</th>\n",
       "      <th>정류장명</th>\n",
       "      <th>LAT</th>\n",
       "      <th>LNG</th>\n",
       "    </tr>\n",
       "  </thead>\n",
       "  <tbody>\n",
       "    <tr>\n",
       "      <th>0</th>\n",
       "      <td>109</td>\n",
       "      <td>450.0</td>\n",
       "      <td>1.0</td>\n",
       "      <td>하이리</td>\n",
       "      <td>35.859449</td>\n",
       "      <td>127.172589</td>\n",
       "    </tr>\n",
       "    <tr>\n",
       "      <th>1</th>\n",
       "      <td>109</td>\n",
       "      <td>450.0</td>\n",
       "      <td>50.0</td>\n",
       "      <td>하이리</td>\n",
       "      <td>35.859426</td>\n",
       "      <td>127.172674</td>\n",
       "    </tr>\n",
       "    <tr>\n",
       "      <th>2</th>\n",
       "      <td>109</td>\n",
       "      <td>450.0</td>\n",
       "      <td>2.0</td>\n",
       "      <td>하이리교</td>\n",
       "      <td>35.855092</td>\n",
       "      <td>127.173352</td>\n",
       "    </tr>\n",
       "    <tr>\n",
       "      <th>3</th>\n",
       "      <td>109</td>\n",
       "      <td>450.0</td>\n",
       "      <td>49.0</td>\n",
       "      <td>하이리교</td>\n",
       "      <td>35.855016</td>\n",
       "      <td>127.173583</td>\n",
       "    </tr>\n",
       "    <tr>\n",
       "      <th>4</th>\n",
       "      <td>109</td>\n",
       "      <td>450.0</td>\n",
       "      <td>3.0</td>\n",
       "      <td>동적골</td>\n",
       "      <td>35.753015</td>\n",
       "      <td>127.125081</td>\n",
       "    </tr>\n",
       "    <tr>\n",
       "      <th>...</th>\n",
       "      <td>...</td>\n",
       "      <td>...</td>\n",
       "      <td>...</td>\n",
       "      <td>...</td>\n",
       "      <td>...</td>\n",
       "      <td>...</td>\n",
       "    </tr>\n",
       "    <tr>\n",
       "      <th>5339</th>\n",
       "      <td>978</td>\n",
       "      <td>225.0</td>\n",
       "      <td>20.0</td>\n",
       "      <td>모악호수마을</td>\n",
       "      <td>35.728001</td>\n",
       "      <td>127.120025</td>\n",
       "    </tr>\n",
       "    <tr>\n",
       "      <th>5340</th>\n",
       "      <td>978</td>\n",
       "      <td>225.0</td>\n",
       "      <td>21.0</td>\n",
       "      <td>왕벚꽃마을</td>\n",
       "      <td>35.737363</td>\n",
       "      <td>127.120816</td>\n",
       "    </tr>\n",
       "    <tr>\n",
       "      <th>5341</th>\n",
       "      <td>978</td>\n",
       "      <td>225.0</td>\n",
       "      <td>23.0</td>\n",
       "      <td>왕벚꽃마을</td>\n",
       "      <td>35.737363</td>\n",
       "      <td>127.120816</td>\n",
       "    </tr>\n",
       "    <tr>\n",
       "      <th>5342</th>\n",
       "      <td>978</td>\n",
       "      <td>225.0</td>\n",
       "      <td>41.0</td>\n",
       "      <td>왕벚꽃마을</td>\n",
       "      <td>35.737317</td>\n",
       "      <td>127.120672</td>\n",
       "    </tr>\n",
       "    <tr>\n",
       "      <th>5343</th>\n",
       "      <td>978</td>\n",
       "      <td>225.0</td>\n",
       "      <td>2.0</td>\n",
       "      <td>메가월드</td>\n",
       "      <td>35.869810</td>\n",
       "      <td>127.112454</td>\n",
       "    </tr>\n",
       "  </tbody>\n",
       "</table>\n",
       "<p>5344 rows × 6 columns</p>\n",
       "</div>"
      ],
      "text/plain": [
       "      노선번호   편도운행  노선순번    정류장명        LAT         LNG\n",
       "0      109  450.0   1.0     하이리  35.859449  127.172589\n",
       "1      109  450.0  50.0     하이리  35.859426  127.172674\n",
       "2      109  450.0   2.0    하이리교  35.855092  127.173352\n",
       "3      109  450.0  49.0    하이리교  35.855016  127.173583\n",
       "4      109  450.0   3.0     동적골  35.753015  127.125081\n",
       "...    ...    ...   ...     ...        ...         ...\n",
       "5339   978  225.0  20.0  모악호수마을  35.728001  127.120025\n",
       "5340   978  225.0  21.0   왕벚꽃마을  35.737363  127.120816\n",
       "5341   978  225.0  23.0   왕벚꽃마을  35.737363  127.120816\n",
       "5342   978  225.0  41.0   왕벚꽃마을  35.737317  127.120672\n",
       "5343   978  225.0   2.0    메가월드  35.869810  127.112454\n",
       "\n",
       "[5344 rows x 6 columns]"
      ]
     },
     "execution_count": 91,
     "metadata": {},
     "output_type": "execute_result"
    }
   ],
   "source": [
    "merge_df=pd.merge(route, stop, how='left')\n",
    "print(type(merge_df))\n",
    "merge_df\n",
    "#print(len(merge_df))\n",
    "#print(list(merge_df))"
   ]
  },
  {
   "cell_type": "code",
   "execution_count": 69,
   "metadata": {},
   "outputs": [
    {
     "name": "stdout",
     "output_type": "stream",
     "text": [
      "       index  정류장명\n",
      "0  전동성당.한옥마을    74\n",
      "1       남부시장    68\n"
     ]
    }
   ],
   "source": [
    "x=pd.DataFrame(merge_df['정류장명'].value_counts())\n",
    "x.reset_index(inplace=True)\n",
    "print(x.head(2))"
   ]
  },
  {
   "cell_type": "code",
   "execution_count": 93,
   "metadata": {},
   "outputs": [
    {
     "name": "stdout",
     "output_type": "stream",
     "text": [
      "['index', '정류장명']\n",
      "0    전동성당.한옥마을\n",
      "1         남부시장\n",
      "2     기린대로덕진공원\n",
      "Name: index, dtype: object\n",
      "686\n",
      "1233\n"
     ]
    }
   ],
   "source": [
    "print(list(y))\n",
    "print(y['index'].head(3))\n",
    "print(len(x)); print(len(y))"
   ]
  },
  {
   "cell_type": "code",
   "execution_count": 94,
   "metadata": {},
   "outputs": [
    {
     "name": "stdout",
     "output_type": "stream",
     "text": [
      "      x_count  x_count\n",
      "0   전동성당.한옥마을       74\n",
      "1        남부시장       68\n",
      "2  전주생명과학고등학교       52\n",
      "        정류장명  y_count\n",
      "0  전동성당.한옥마을      208\n",
      "1       남부시장      191\n",
      "2   기린대로덕진공원      159\n"
     ]
    }
   ],
   "source": [
    "\n",
    "x=x.rename({'index':'정류장명', '정류장명':'x_count'}, axis='columns')\n",
    "print(x.head(3))\n",
    "y=y.rename({'index':'정류장명', '정류장명':'y_count'}, axis='columns')\n",
    "print(y.head(3))\n",
    "    "
   ]
  },
  {
   "cell_type": "code",
   "execution_count": 72,
   "metadata": {},
   "outputs": [
    {
     "name": "stdout",
     "output_type": "stream",
     "text": [
      "         정류장명  x_count  y_count\n",
      "0   전동성당.한옥마을       74      208\n",
      "1        남부시장       68      191\n",
      "2  전주생명과학고등학교       52       93\n"
     ]
    }
   ],
   "source": [
    "merge_xy=pd.merge(x, y, how='left')\n",
    "print(merge_xy.head(3))"
   ]
  },
  {
   "cell_type": "code",
   "execution_count": 73,
   "metadata": {},
   "outputs": [],
   "source": [
    "result=pd.DataFrame(merge_xy[merge_xy['x_count']==merge_xy['y_count']])"
   ]
  },
  {
   "cell_type": "code",
   "execution_count": 74,
   "metadata": {},
   "outputs": [
    {
     "name": "stdout",
     "output_type": "stream",
     "text": [
      "          정류장명  x_count  y_count\n",
      "127       양전마을       12       12\n",
      "128       황제식품       12       12\n",
      "144       지암입구       12       12\n",
      "153      신지동마을       12       12\n",
      "203      하이삼거리        8        8\n",
      "..         ...      ...      ...\n",
      "652     오성풍류학교        1        1\n",
      "654        원쌍정        1        1\n",
      "663      원용암마을        1        1\n",
      "668  고려온천아파트입구        1        1\n",
      "681        원성덕        1        1\n",
      "\n",
      "[143 rows x 3 columns]\n"
     ]
    }
   ],
   "source": [
    "print(result)"
   ]
  },
  {
   "cell_type": "code",
   "execution_count": 100,
   "metadata": {},
   "outputs": [
    {
     "name": "stdout",
     "output_type": "stream",
     "text": [
      "127         양전마을\n",
      "128         황제식품\n",
      "144         지암입구\n",
      "153        신지동마을\n",
      "203        하이삼거리\n",
      "         ...    \n",
      "652       오성풍류학교\n",
      "654          원쌍정\n",
      "663        원용암마을\n",
      "668    고려온천아파트입구\n",
      "681          원성덕\n",
      "Name: 정류장명, Length: 143, dtype: object\n"
     ]
    }
   ],
   "source": [
    "print(result['정류장명'])ㅠ"
   ]
  },
  {
   "cell_type": "code",
   "execution_count": 103,
   "metadata": {},
   "outputs": [],
   "source": [
    "result=result['정류장명']"
   ]
  },
  {
   "cell_type": "code",
   "execution_count": 106,
   "metadata": {},
   "outputs": [
    {
     "data": {
      "text/plain": [
       "127         양전마을\n",
       "128         황제식품\n",
       "144         지암입구\n",
       "153        신지동마을\n",
       "203        하이삼거리\n",
       "         ...    \n",
       "652       오성풍류학교\n",
       "654          원쌍정\n",
       "663        원용암마을\n",
       "668    고려온천아파트입구\n",
       "681          원성덕\n",
       "Name: 정류장명, Length: 143, dtype: object"
      ]
     },
     "execution_count": 106,
     "metadata": {},
     "output_type": "execute_result"
    }
   ],
   "source": [
    "result"
   ]
  },
  {
   "cell_type": "code",
   "execution_count": 107,
   "metadata": {},
   "outputs": [],
   "source": [
    "result.to_csv(\"weak_stop_1.csv\",encoding=\"utf-8\")"
   ]
  },
  {
   "cell_type": "code",
   "execution_count": 35,
   "metadata": {},
   "outputs": [
    {
     "data": {
      "text/html": [
       "<div>\n",
       "<style scoped>\n",
       "    .dataframe tbody tr th:only-of-type {\n",
       "        vertical-align: middle;\n",
       "    }\n",
       "\n",
       "    .dataframe tbody tr th {\n",
       "        vertical-align: top;\n",
       "    }\n",
       "\n",
       "    .dataframe thead th {\n",
       "        text-align: right;\n",
       "    }\n",
       "</style>\n",
       "<table border=\"1\" class=\"dataframe\">\n",
       "  <thead>\n",
       "    <tr style=\"text-align: right;\">\n",
       "      <th></th>\n",
       "      <th>정류장명</th>\n",
       "      <th>x_count</th>\n",
       "      <th>y_count</th>\n",
       "    </tr>\n",
       "  </thead>\n",
       "  <tbody>\n",
       "    <tr>\n",
       "      <th>128</th>\n",
       "      <td>황제식품</td>\n",
       "      <td>12</td>\n",
       "      <td>12</td>\n",
       "    </tr>\n",
       "    <tr>\n",
       "      <th>132</th>\n",
       "      <td>지암입구</td>\n",
       "      <td>12</td>\n",
       "      <td>12</td>\n",
       "    </tr>\n",
       "    <tr>\n",
       "      <th>135</th>\n",
       "      <td>신지동마을</td>\n",
       "      <td>12</td>\n",
       "      <td>12</td>\n",
       "    </tr>\n",
       "    <tr>\n",
       "      <th>142</th>\n",
       "      <td>양전마을</td>\n",
       "      <td>12</td>\n",
       "      <td>12</td>\n",
       "    </tr>\n",
       "    <tr>\n",
       "      <th>196</th>\n",
       "      <td>상삼마을</td>\n",
       "      <td>8</td>\n",
       "      <td>8</td>\n",
       "    </tr>\n",
       "    <tr>\n",
       "      <th>...</th>\n",
       "      <td>...</td>\n",
       "      <td>...</td>\n",
       "      <td>...</td>\n",
       "    </tr>\n",
       "    <tr>\n",
       "      <th>653</th>\n",
       "      <td>원쌍정</td>\n",
       "      <td>1</td>\n",
       "      <td>1</td>\n",
       "    </tr>\n",
       "    <tr>\n",
       "      <th>667</th>\n",
       "      <td>오성풍류학교</td>\n",
       "      <td>1</td>\n",
       "      <td>1</td>\n",
       "    </tr>\n",
       "    <tr>\n",
       "      <th>675</th>\n",
       "      <td>고려온천아파트입구</td>\n",
       "      <td>1</td>\n",
       "      <td>1</td>\n",
       "    </tr>\n",
       "    <tr>\n",
       "      <th>681</th>\n",
       "      <td>원용암마을</td>\n",
       "      <td>1</td>\n",
       "      <td>1</td>\n",
       "    </tr>\n",
       "    <tr>\n",
       "      <th>684</th>\n",
       "      <td>원성덕</td>\n",
       "      <td>1</td>\n",
       "      <td>1</td>\n",
       "    </tr>\n",
       "  </tbody>\n",
       "</table>\n",
       "<p>143 rows × 3 columns</p>\n",
       "</div>"
      ],
      "text/plain": [
       "          정류장명  x_count  y_count\n",
       "128       황제식품       12       12\n",
       "132       지암입구       12       12\n",
       "135      신지동마을       12       12\n",
       "142       양전마을       12       12\n",
       "196       상삼마을        8        8\n",
       "..         ...      ...      ...\n",
       "653        원쌍정        1        1\n",
       "667     오성풍류학교        1        1\n",
       "675  고려온천아파트입구        1        1\n",
       "681      원용암마을        1        1\n",
       "684        원성덕        1        1\n",
       "\n",
       "[143 rows x 3 columns]"
      ]
     },
     "execution_count": 35,
     "metadata": {},
     "output_type": "execute_result"
    }
   ],
   "source": [
    "result"
   ]
  },
  {
   "cell_type": "code",
   "execution_count": null,
   "metadata": {},
   "outputs": [],
   "source": []
  }
 ],
 "metadata": {
  "kernelspec": {
   "display_name": "Python 3",
   "language": "python",
   "name": "python3"
  },
  "language_info": {
   "codemirror_mode": {
    "name": "ipython",
    "version": 3
   },
   "file_extension": ".py",
   "mimetype": "text/x-python",
   "name": "python",
   "nbconvert_exporter": "python",
   "pygments_lexer": "ipython3",
   "version": "3.9.0"
  }
 },
 "nbformat": 4,
 "nbformat_minor": 4
}

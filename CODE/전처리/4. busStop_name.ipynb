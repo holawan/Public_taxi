{
 "cells": [
  {
   "cell_type": "markdown",
   "metadata": {},
   "source": [
    "# 4. 최단 거리 버스 정류장의 이름과 X Y 좌표 확인"
   ]
  },
  {
   "cell_type": "code",
   "execution_count": null,
   "metadata": {},
   "outputs": [],
   "source": [
    "import pandas as pd\n",
    "from pandas import DataFrame\n",
    "import numbers\n",
    "import math\n",
    "from openpyxl import load_workbook\n",
    "import numpy as np"
   ]
  },
  {
   "cell_type": "code",
   "execution_count": null,
   "metadata": {
    "colab": {},
    "colab_type": "code",
    "id": "isGWEJRMMLwt"
   },
   "outputs": [],
   "source": [
    "senior_df=pd.read_csv('final_senior_center.csv', encoding='utf-8') # 경로당 데이터\n",
    "#print(senior_df.head(5))\n",
    "\n",
    "jeonju_df=senior_df[\"borough\"].str.contains(\"전주시\") # 전주시만 추출\n",
    "\n",
    "df=senior_df[jeonju_df]\n",
    "print(df[\"address\"].tail(2))"
   ]
  },
  {
   "cell_type": "code",
   "execution_count": null,
   "metadata": {
    "colab": {
     "base_uri": "https://localhost:8080/",
     "height": 106
    },
    "colab_type": "code",
    "id": "fSabBr8oRyVb",
    "outputId": "50270239-ff1a-44cd-fdce-130ee39e69a5"
   },
   "outputs": [],
   "source": [
    "bus_df=pd.read_csv('busStop.csv', encoding='utf-8') # 버스정류장 데이터\n",
    "bus_df.head(2)"
   ]
  },
  {
   "cell_type": "code",
   "execution_count": null,
   "metadata": {
    "colab": {},
    "colab_type": "code",
    "id": "GSTDTnzTKIMi"
   },
   "outputs": [],
   "source": [
    "class GeoUtil: # x좌표 y좌표 km로 변환해서 x1 y1 x2 y2 차이 구하기\n",
    "    \"\"\"\n",
    "    Geographical Utils\n",
    "    \"\"\"\n",
    "    @staticmethod\n",
    "    def degree2radius(degree):\n",
    "        return degree * (math.pi / 180)\n",
    "\n",
    "    @staticmethod\n",
    "    def get_harversion_distance(x1, y1, x2, y2, round_decimal_digits=5):\n",
    "        \"\"\"\n",
    "        경위도 (x1,y1)과 (x2,y2) 점의 거리를 반환\n",
    "        Harversion Formula 이용하여 2개의 경위도간 거래를 구함(단위:Km)\n",
    "        \"\"\"\n",
    "        if x1 is None or y1 is None or x2 is None or y2 is None:\n",
    "            return None\n",
    "\n",
    "        R = 6371  # 지구의 반경(단위: km)\n",
    "        dLon = GeoUtil.degree2radius(x2 - x1)\n",
    "        dLat = GeoUtil.degree2radius(y2 - y1)\n",
    "\n",
    "        a = math.sin(dLat / 2) * math.sin(dLat / 2) \\\n",
    "            + (math.cos(GeoUtil.degree2radius(y1)) \\\n",
    "               * math.cos(GeoUtil.degree2radius(y2)) \\\n",
    "               * math.sin(dLon / 2) * math.sin(dLon / 2))\n",
    "        b = 2 * math.atan2(math.sqrt(a), math.sqrt(1 - a))\n",
    "        return round(R * b, round_decimal_digits)"
   ]
  },
  {
   "cell_type": "code",
   "execution_count": null,
   "metadata": {
    "colab": {},
    "colab_type": "code",
    "id": "1S7omLTCMI33"
   },
   "outputs": [],
   "source": [
    "center_x=df['X'] # 경로당(마을회관) x 좌표\n",
    "center_y=df['Y'] # 경로당(마을회관) y 좌표\n",
    "\n",
    "busStop_x=bus_df['X'] # 버스정류장 x 좌표\n",
    "busStop_y=bus_df['Y'] # 버스정류장 y 좌표"
   ]
  },
  {
   "cell_type": "code",
   "execution_count": null,
   "metadata": {
    "colab": {},
    "colab_type": "code",
    "id": "eM86UuOaVAG7"
   },
   "outputs": [],
   "source": [
    "min_distance=10000 # 최솟값 초기화\n",
    "distance=[] # 경로당에서 버스정류장까지 거리 리스트\n",
    "busStop_name=[] # 최단 거리 버스 정류장 이름 리스트\n",
    "bus_X=[]; bus_Y=[]\n",
    "\n",
    "#str(name)\n",
    "\n",
    "for k in range(len(df)): # 리스트 초기화\n",
    "    distance.append(0)\n",
    "    busStop_name.append(0)\n",
    "    bus_X.append(0)\n",
    "    bus_Y.append(0)\n",
    "\n",
    "stop_name=bus_df['busStop']\n",
    "busX=bus_df['X']; busY=bus_df['Y']\n",
    "\n",
    "    \n",
    "for i in range(0, len(df)): # 경로당에서 제일 가까운 버스정류장까지 거리\n",
    "    for j in range(0, len(bus_df)):\n",
    "        if (GeoUtil.get_harversion_distance(center_x[i], center_y[i], busStop_x[j], busStop_y[j])) <= min_distance:\n",
    "            min_distance = GeoUtil.get_harversion_distance(center_x[i], center_y[i], busStop_x[j], busStop_y[j])\n",
    "            name=stop_name[j]\n",
    "            X=busX[j]; Y=busY[j]\n",
    "    distance[i]=min_distance\n",
    "    busStop_name[i]=name\n",
    "    bus_X[i]=X; bus_Y[i]=Y\n",
    "    \n",
    "    min_distance=10000\n",
    "\n"
   ]
  },
  {
   "cell_type": "code",
   "execution_count": null,
   "metadata": {},
   "outputs": [],
   "source": [
    "#print(busStop_name)\n",
    "#print(len(busStop_name))\n",
    "\n",
    "busStop_df=pd.DataFrame(busStop_name)\n",
    "#print(busStop_df.tail(2))\n",
    "busStop_df.columns=[\"busStop\"]\n",
    "print(busStop_df.head(2))\n",
    "\n",
    "busX=pd.DataFrame(bus_X); busX.columns=[\"bus_X\"]\n",
    "busY=pd.DataFrame(bus_Y); busY.columns=[\"bus_Y\"]"
   ]
  },
  {
   "cell_type": "code",
   "execution_count": null,
   "metadata": {
    "colab": {
     "base_uri": "https://localhost:8080/",
     "height": 334
    },
    "colab_type": "code",
    "id": "LHIhoNAdXqym",
    "outputId": "fba76263-6fab-422f-c4c4-15660d988f12"
   },
   "outputs": [],
   "source": [
    "distance_df=pd.DataFrame(distance) # 리스트 -> 데이터프레임\n",
    "distance_df.columns=['distance'] # column name 변환\n",
    "print(distance_df.head(10))\n",
    "print(len(distance_df))\n",
    "\n",
    "print(\"평균 거리: \", distance_df.mean(), \"\\n최대 거리: \", distance_df.max(), \"\\n최소 거리: \", distance_df.min())\n"
   ]
  },
  {
   "cell_type": "code",
   "execution_count": null,
   "metadata": {
    "colab": {
     "base_uri": "https://localhost:8080/",
     "height": 158
    },
    "colab_type": "code",
    "id": "VdL5uKeTdHtD",
    "outputId": "e8ee4391-1d0b-452a-bfc8-42317260b792"
   },
   "outputs": [],
   "source": [
    "#final_df=pd.concat([df,distance_df],axis=1, join='inner')\n",
    "#df=final_df.dropna(axis=1)\n",
    "#print(df.head(5))\n",
    "\n",
    "final_df=pd.concat([df, distance_df, busStop_df, busX, busY], axis=1, join='inner')\n",
    "df=final_df.dropna(axis=1)\n",
    "print(df.head(5))"
   ]
  },
  {
   "cell_type": "code",
   "execution_count": null,
   "metadata": {},
   "outputs": [],
   "source": [
    "print(len(df))\n",
    "\n",
    "df.to_csv(\"real_final_busStop.csv\",encoding=\"EUC-KR\")"
   ]
  },
  {
   "cell_type": "code",
   "execution_count": null,
   "metadata": {
    "colab": {},
    "colab_type": "code",
    "id": "lvV4egoooWYT"
   },
   "outputs": [],
   "source": [
    "# 동별 plot 그려보기\n",
    "import seaborn as sns\n",
    "\n",
    "#sns.boxplot(x=\"dong\", y=\"distance\", data=subset_중앙동)"
   ]
  },
  {
   "cell_type": "code",
   "execution_count": null,
   "metadata": {
    "colab": {
     "base_uri": "https://localhost:8080/",
     "height": 87
    },
    "colab_type": "code",
    "id": "eFIXC3yKqo1H",
    "outputId": "6d0eb660-443e-4612-e2b8-dc5da1ff6c0d"
   },
   "outputs": [],
   "source": [
    "#중앙동_distance=subset_중앙동['distance'].mean()\n",
    "\n",
    "# 그냥 동별 경로당에서 정류장까지 거리를 평균값으로 계산\n",
    "\n",
    "# 완산구 행정동 거리 평균값\n",
    "중앙동_mean=(df['distance'].groupby(df[\"dong\"]==\"중앙동\")).mean()\n",
    "풍남동_mean=(df['distance'].groupby(df[\"dong\"]==\"풍남동\")).mean()\n",
    "노송동_mean=(df['distance'].groupby(df[\"dong\"]==\"노송동\")).mean()\n",
    "완산동_mean=(df['distance'].groupby(df[\"dong\"]==\"완산동\")).mean()\n",
    "서서학동_mean=(df['distance'].groupby(df[\"dong\"]==\"서서학동\")).mean()\n",
    "중화산동_mean=(df['distance'].groupby(df[\"dong\"]==\"중화산동\")).mean()\n",
    "평화동_mean=(df['distance'].groupby(df[\"dong\"]==\"평화동\")).mean()\n",
    "서신동_mean=(df['distance'].groupby(df[\"dong\"]==\"서신동\")).mean()\n",
    "삼천동_mean=(df['distance'].groupby(df[\"dong\"]==\"삼천동\")).mean()\n",
    "효자동_mean=(df['distance'].groupby(df[\"dong\"]==\"효자동\")).mean()\n",
    "\n",
    "# 덕진구 행정도 거리 평균값\n",
    "진북동_mean=(df['distance'].groupby(df[\"dong\"]==\"진북동\")).mean()\n",
    "인후동_mean=(df['distance'].groupby(df[\"dong\"]==\"인후동\")).mean()\n",
    "덕진동_mean=(df['distance'].groupby(df[\"dong\"]==\"덕진동\")).mean()\n",
    "금암동_mean=(df['distance'].groupby(df[\"dong\"]==\"금암동\")).mean()\n",
    "팔복동_mean=(df['distance'].groupby(df[\"dong\"]==\"팔복동\")).mean()\n",
    "우아동_mean=(df['distance'].groupby(df[\"dong\"]==\"우아동\")).mean()\n",
    "호성동_mean=(df['distance'].groupby(df[\"dong\"]==\"호성동\")).mean()\n",
    "송천동_mean=(df['distance'].groupby(df[\"dong\"]==\"송천동\")).mean()\n"
   ]
  },
  {
   "cell_type": "code",
   "execution_count": null,
   "metadata": {
    "colab": {},
    "colab_type": "code",
    "id": "Xib_ba7UfxBm"
   },
   "outputs": [],
   "source": [
    "wansan_dict={\"중앙동\": 중앙동_mean, \"풍남동\": 풍남동_mean, \"노송동\": 노송동_mean, \"완산동\": 완산동_mean, \"서서학동\": 서서학동_mean,\n",
    "             \"중화산동\": 중화산동_mean, \"평화동\": 평화동_mean, \"서신동\": 서신동_mean, \"삼천동\": 삼천동_mean, \"효자동\": 효자동_mean,}\n",
    "\n",
    "deokjin_dict={\"진북동\": 진북동_mean, \"인후동\": 인후동_mean, \"덕진동\": 덕진동_mean, \"금암동\": 금암동_mean, \"팔복동\": 팔복동_mean, \n",
    "              \"우아동\": 우아동_mean, \"호성동\": 호성동_mean, \"송천동\": 송천동_mean,}\n",
    "\n",
    "wansan=pd.DataFrame(wansan_dict)\n",
    "deokjin=pd.DataFrame(deokjin_dict)\n"
   ]
  },
  {
   "cell_type": "code",
   "execution_count": null,
   "metadata": {
    "colab": {
     "base_uri": "https://localhost:8080/",
     "height": 369
    },
    "colab_type": "code",
    "id": "5ArN5JoB2X-l",
    "outputId": "c079f6d7-3412-490d-b4e5-6e53844c6e8c"
   },
   "outputs": [],
   "source": [
    "wansan=np.transpose(wansan)\n",
    "deokjin=np.transpose(deokjin)"
   ]
  },
  {
   "cell_type": "code",
   "execution_count": null,
   "metadata": {
    "colab": {
     "base_uri": "https://localhost:8080/",
     "height": 70
    },
    "colab_type": "code",
    "id": "cQQJAGaq44Kr",
    "outputId": "fa08651f-062c-4f4a-8512-3b83c96aa5a6"
   },
   "outputs": [],
   "source": [
    "dong_distance=pd.concat([wansan,deokjin],axis=0, join='inner') # 완산구 + 덕진구 거리 데이터프레임\n",
    "dong_distance=dong_distance.dropna(axis=1)\n",
    "#print(dong_distance.head(5))\n",
    "\n",
    "dong_distance=dong_distance.drop([False], axis='columns') # False열 삭제\n"
   ]
  },
  {
   "cell_type": "code",
   "execution_count": null,
   "metadata": {},
   "outputs": [],
   "source": [
    "dong_distance.head(5)"
   ]
  },
  {
   "cell_type": "code",
   "execution_count": null,
   "metadata": {},
   "outputs": [],
   "source": []
  }
 ],
 "metadata": {
  "accelerator": "GPU",
  "colab": {
   "collapsed_sections": [],
   "name": "distance",
   "provenance": []
  },
  "kernelspec": {
   "display_name": "Python 3",
   "language": "python",
   "name": "python3"
  },
  "language_info": {
   "codemirror_mode": {
    "name": "ipython",
    "version": 3
   },
   "file_extension": ".py",
   "mimetype": "text/x-python",
   "name": "python",
   "nbconvert_exporter": "python",
   "pygments_lexer": "ipython3",
   "version": "3.9.0"
  }
 },
 "nbformat": 4,
 "nbformat_minor": 4
}

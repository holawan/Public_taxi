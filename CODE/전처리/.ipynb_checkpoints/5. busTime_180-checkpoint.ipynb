{
 "cells": [
  {
   "cell_type": "markdown",
   "metadata": {},
   "source": [
    "# 마을회관 500m 내 180분 이상 버스정류장 수"
   ]
  },
  {
   "cell_type": "code",
   "execution_count": 48,
   "metadata": {},
   "outputs": [],
   "source": [
    "import pandas as pd\n",
    "import numpy as np\n",
    "from pandas import DataFrame"
   ]
  },
  {
   "cell_type": "code",
   "execution_count": 49,
   "metadata": {},
   "outputs": [
    {
     "name": "stdout",
     "output_type": "stream",
     "text": [
      "route:\n",
      "         노선ID 노선번호 분선코드  방향       경로ID  노선순번      정류장명      정류장ID  정류장번호  \\\n",
      "0  305001017   62    B   2  305301577     3  송천노인복지센터  316132258  32258   \n",
      "1  305001104   19    0   2  305301505    14  송천노인복지센터  316132258  32258   \n",
      "2  305001106   49    0   2  305301507    12  송천노인복지센터  316132258  32258   \n",
      "\n",
      "   운행거리합계  정류장간거리        LAT         LNG  \n",
      "0    1144     761  35.868326  127.130574  \n",
      "1    6360     546  35.868326  127.130574  \n",
      "2    5084     677  35.868326  127.130574  \n",
      "time:\n",
      "   노선번호  운행횟수  배차간격\n",
      "0  514     5   458\n",
      "1  521     9   446\n",
      "2  520     9   446\n"
     ]
    }
   ],
   "source": [
    "route=pd.read_csv('dongwan_busRoute.csv', encoding='utf-8')\n",
    "print(\"route:\\n\", route.head(3))\n",
    "\n",
    "bus_time=pd.read_csv('busTime_all.csv', encoding='utf-8')\n",
    "print(\"time:\\n\", bus_time.head(3))\n"
   ]
  },
  {
   "cell_type": "code",
   "execution_count": 50,
   "metadata": {},
   "outputs": [],
   "source": [
    "busTime_180=bus_time[bus_time['배차간격']>=180]\n",
    "#print(busTime_180)"
   ]
  },
  {
   "cell_type": "code",
   "execution_count": 51,
   "metadata": {},
   "outputs": [],
   "source": [
    "y=pd.DataFrame(route[\"정류장명\"].value_counts())\n",
    "y.reset_index(inplace=True)\n",
    "\n",
    "#print(y.head(2))\n",
    "#print(y['정류장명'].head(3))"
   ]
  },
  {
   "cell_type": "code",
   "execution_count": 52,
   "metadata": {},
   "outputs": [
    {
     "name": "stdout",
     "output_type": "stream",
     "text": [
      "<class 'pandas.core.frame.DataFrame'>\n"
     ]
    }
   ],
   "source": [
    "merge_df=pd.merge(busTime_180, route, how='left')\n",
    "print(type(merge_df))\n",
    "#print(len(merge_df))\n",
    "#print(list(merge_df))"
   ]
  },
  {
   "cell_type": "code",
   "execution_count": 53,
   "metadata": {},
   "outputs": [
    {
     "name": "stdout",
     "output_type": "stream",
     "text": [
      "       index  정류장명\n",
      "0  전동성당.한옥마을   110\n",
      "1       남부시장   102\n"
     ]
    }
   ],
   "source": [
    "x=pd.DataFrame(merge_df['정류장명'].value_counts())\n",
    "x.reset_index(inplace=True)\n",
    "print(x.head(2))"
   ]
  },
  {
   "cell_type": "code",
   "execution_count": 54,
   "metadata": {},
   "outputs": [
    {
     "name": "stdout",
     "output_type": "stream",
     "text": [
      "['index', '정류장명']\n",
      "0    전동성당.한옥마을\n",
      "1         남부시장\n",
      "2     기린대로덕진공원\n",
      "Name: index, dtype: object\n",
      "799\n",
      "1255\n"
     ]
    }
   ],
   "source": [
    "print(list(y))\n",
    "print(y['index'].head(3))\n",
    "print(len(x)); print(len(y))"
   ]
  },
  {
   "cell_type": "code",
   "execution_count": 55,
   "metadata": {},
   "outputs": [
    {
     "name": "stdout",
     "output_type": "stream",
     "text": [
      "        정류장명  x_count\n",
      "0  전동성당.한옥마을      110\n",
      "1       남부시장      102\n",
      "2      전주교도소       73\n",
      "        정류장명  y_count\n",
      "0  전동성당.한옥마을      218\n",
      "1       남부시장      198\n",
      "2   기린대로덕진공원      164\n"
     ]
    }
   ],
   "source": [
    "\n",
    "x=x.rename({'index':'정류장명', '정류장명':'x_count'}, axis='columns')\n",
    "print(x.head(3))\n",
    "y=y.rename({'index':'정류장명', '정류장명':'y_count'}, axis='columns')\n",
    "print(y.head(3))\n",
    "    "
   ]
  },
  {
   "cell_type": "code",
   "execution_count": 56,
   "metadata": {},
   "outputs": [
    {
     "name": "stdout",
     "output_type": "stream",
     "text": [
      "        정류장명  x_count  y_count\n",
      "0  전동성당.한옥마을      110      218\n",
      "1       남부시장      102      198\n",
      "2      전주교도소       73      134\n"
     ]
    }
   ],
   "source": [
    "merge_xy=pd.merge(x, y, how='left')\n",
    "print(merge_xy.head(3))"
   ]
  },
  {
   "cell_type": "code",
   "execution_count": 57,
   "metadata": {},
   "outputs": [],
   "source": [
    "result=pd.DataFrame(merge_xy[merge_xy['x_count']==merge_xy['y_count']])"
   ]
  },
  {
   "cell_type": "code",
   "execution_count": 58,
   "metadata": {},
   "outputs": [
    {
     "name": "stdout",
     "output_type": "stream",
     "text": [
      "           정류장명  x_count  y_count\n",
      "120        초포초교       17       17\n",
      "123         화정리       17       17\n",
      "128  오송중.예비군훈련장       16       16\n",
      "131    송천노인복지센터       16       16\n",
      "155        운곡마을       14       14\n",
      "..          ...      ...      ...\n",
      "784         원쌍정        1        1\n",
      "785      오성풍류학교        1        1\n",
      "789         원성덕        1        1\n",
      "794   고려온천아파트입구        1        1\n",
      "795         용진중        1        1\n",
      "\n",
      "[240 rows x 3 columns]\n"
     ]
    }
   ],
   "source": [
    "print(result)"
   ]
  },
  {
   "cell_type": "code",
   "execution_count": 59,
   "metadata": {},
   "outputs": [
    {
     "name": "stdout",
     "output_type": "stream",
     "text": [
      "120          초포초교\n",
      "123           화정리\n",
      "128    오송중.예비군훈련장\n",
      "131      송천노인복지센터\n",
      "155          운곡마을\n",
      "          ...    \n",
      "784           원쌍정\n",
      "785        오성풍류학교\n",
      "789           원성덕\n",
      "794     고려온천아파트입구\n",
      "795           용진중\n",
      "Name: 정류장명, Length: 240, dtype: object\n"
     ]
    }
   ],
   "source": [
    "print(result['정류장명'])"
   ]
  },
  {
   "cell_type": "code",
   "execution_count": 60,
   "metadata": {},
   "outputs": [],
   "source": [
    "bus_180=pd.merge(result, route, on='정류장명', how='left')"
   ]
  },
  {
   "cell_type": "code",
   "execution_count": 61,
   "metadata": {},
   "outputs": [],
   "source": [
    "bus_180=bus_180.drop_duplicates(['정류장명'])\n",
    "bus_180=bus_180.reset_index(drop=True, inplace=False)"
   ]
  },
  {
   "cell_type": "code",
   "execution_count": 62,
   "metadata": {},
   "outputs": [
    {
     "name": "stdout",
     "output_type": "stream",
     "text": [
      "           정류장명  x_count  y_count       노선ID 노선번호 분선코드  방향       경로ID  노선순번  \\\n",
      "0          초포초교       17       17  305001103   19    0   1  305301504    38   \n",
      "1           화정리       17       17  305001103   19    0   1  305301504    37   \n",
      "2    오송중.예비군훈련장       16       16  305001017   62    B   2  305301577     4   \n",
      "3      송천노인복지센터       16       16  305001017   62    B   2  305301577     3   \n",
      "4          운곡마을       14       14  305001079   34    A   2  305301527    33   \n",
      "..          ...      ...      ...        ...  ...  ...  ..        ...   ...   \n",
      "235         원쌍정        1        1  305001154  375    0   2  305301039     2   \n",
      "236      오성풍류학교        1        1  305001227  806    0   1  305301124    57   \n",
      "237         원성덕        1        1  305000997  511    A   2  305301432     4   \n",
      "238   고려온천아파트입구        1        1  305001153  375    0   1  305301038    48   \n",
      "239         용진중        1        1  305001116   58    0   2  305301114     6   \n",
      "\n",
      "         정류장ID  정류장번호  운행거리합계  정류장간거리        LAT         LNG  \n",
      "0    306101459  31458   16442     217  35.875959  127.140046  \n",
      "1    306101441  31440   16225     922  35.875107  127.141656  \n",
      "2    306101330  31329    1491     347  35.865226  127.128775  \n",
      "3    316132258  32258    1144     761  35.868326  127.130574  \n",
      "4    312102032  32032   14278     116  35.904092  127.157522  \n",
      "..         ...    ...     ...     ...        ...         ...  \n",
      "235  305032508  36442     352     352  35.921951  127.055153  \n",
      "236  305032477  36411   26076     562  35.904337  127.244470  \n",
      "237  312101751  31750    2528    1806  35.924902  127.153183  \n",
      "238  308101747  31746   22624     511  35.923756  127.053286  \n",
      "239  312101509  31508    3484     757  35.881629  127.154612  \n",
      "\n",
      "[240 rows x 15 columns]\n"
     ]
    }
   ],
   "source": [
    "print(bus_180)"
   ]
  },
  {
   "cell_type": "code",
   "execution_count": 63,
   "metadata": {},
   "outputs": [],
   "source": [
    "senior_df=pd.read_csv('final_senior_center.csv', encoding='utf-8') # 경로당 데이터\n",
    "#print(senior_df.head(5))\n",
    "\n",
    "jeonju_df=senior_df[\"borough\"].str.contains(\"전주시\") # 전주시만 추출\n",
    "\n",
    "df=senior_df[jeonju_df]\n",
    "#print(df[\"address\"].tail(2))"
   ]
  },
  {
   "cell_type": "code",
   "execution_count": 64,
   "metadata": {},
   "outputs": [],
   "source": [
    "bus_df=pd.read_csv('busStop.csv', encoding='utf-8') # 버스정류장 데이터\n",
    "#bus_df.head(2)"
   ]
  },
  {
   "cell_type": "code",
   "execution_count": 65,
   "metadata": {},
   "outputs": [
    {
     "name": "stdout",
     "output_type": "stream",
     "text": [
      "Requirement already satisfied: import_ipynb in c:\\programdata\\anaconda3\\lib\\site-packages (0.1.3)\n"
     ]
    }
   ],
   "source": [
    "!pip install import_ipynb\n",
    "import import_ipynb\n",
    "import busStop_distance\n",
    "\n",
    "GeoUtil=busStop_distance.GeoUtil()\n"
   ]
  },
  {
   "cell_type": "code",
   "execution_count": 66,
   "metadata": {},
   "outputs": [],
   "source": [
    "center_x=df['X'] # 경로당(마을회관) x 좌표\n",
    "center_y=df['Y'] # 경로당(마을회관) y 좌표\n",
    "\n",
    "busStop_x=bus_df['X'] # 버스정류장 x 좌표\n",
    "busStop_y=bus_df['Y'] # 버스정류장 y 좌표\n",
    "\n",
    "bus_180_x=bus_180['LNG'] # 180분 이상 버정 x\n",
    "bus_180_y=bus_180['LAT'] # 180분 이상 버정 y"
   ]
  },
  {
   "cell_type": "code",
   "execution_count": 67,
   "metadata": {},
   "outputs": [
    {
     "name": "stdout",
     "output_type": "stream",
     "text": [
      "0    127.140046\n",
      "1    127.141656\n",
      "Name: LNG, dtype: float64\n",
      "0    35.875959\n",
      "1    35.875107\n",
      "Name: LAT, dtype: float64\n",
      "0    127.140363\n",
      "1    127.136285\n",
      "Name: X, dtype: float64\n",
      "0    35.814468\n",
      "1    35.822145\n",
      "Name: Y, dtype: float64\n"
     ]
    }
   ],
   "source": [
    "print(bus_180_x.head(2)); print(bus_180_y.head(2))\n",
    "\n",
    "print(center_x.head(2)); print(center_y.head(2))"
   ]
  },
  {
   "cell_type": "code",
   "execution_count": 68,
   "metadata": {},
   "outputs": [],
   "source": [
    "cnt_all=[] # 경로당에서 버스정류장까지 거리 리스트\n",
    "cnt_180=[]\n",
    "\n",
    "for k in range(len(df)): # 리스트 초기화\n",
    "    cnt_all.append(0)\n",
    "    cnt_180.append(0)\n",
    "    \n",
    "#stop_name=bus_df['busStop']\n",
    "#stop_name_180=result['정류장명']\n",
    "\n",
    "\n",
    "for i in range(0, len(df)): # 경로당에서 제일 가까운 버스정류장까지 거리\n",
    "    for j in range(0, len(bus_df)):\n",
    "        if (GeoUtil.get_harversion_distance(center_x[i], center_y[i], busStop_x[j], busStop_y[j])) <= 0.5:\n",
    "            cnt_all[i]+=1\n",
    "            \n",
    "    for j in range(0, len(bus_180)):\n",
    "        if (GeoUtil.get_harversion_distance(center_x[i], center_y[i], bus_180_x[j], bus_180_y[j])) <= 0.5:\n",
    "            cnt_180[i]+=1\n",
    "           "
   ]
  },
  {
   "cell_type": "code",
   "execution_count": 69,
   "metadata": {},
   "outputs": [],
   "source": [
    "cnt_all=pd.DataFrame(cnt_all)\n",
    "cnt_all.columns=['busStop_num']\n",
    "\n",
    "cnt_180=pd.DataFrame(cnt_180)\n",
    "cnt_180.columns=['busStop_180_num']"
   ]
  },
  {
   "cell_type": "code",
   "execution_count": 70,
   "metadata": {},
   "outputs": [
    {
     "data": {
      "text/html": [
       "<div>\n",
       "<style scoped>\n",
       "    .dataframe tbody tr th:only-of-type {\n",
       "        vertical-align: middle;\n",
       "    }\n",
       "\n",
       "    .dataframe tbody tr th {\n",
       "        vertical-align: top;\n",
       "    }\n",
       "\n",
       "    .dataframe thead th {\n",
       "        text-align: right;\n",
       "    }\n",
       "</style>\n",
       "<table border=\"1\" class=\"dataframe\">\n",
       "  <thead>\n",
       "    <tr style=\"text-align: right;\">\n",
       "      <th></th>\n",
       "      <th>index</th>\n",
       "      <th>city</th>\n",
       "      <th>borough</th>\n",
       "      <th>name</th>\n",
       "      <th>address</th>\n",
       "      <th>X</th>\n",
       "      <th>Y</th>\n",
       "      <th>dong</th>\n",
       "      <th>busStop_num</th>\n",
       "      <th>busStop_180_num</th>\n",
       "    </tr>\n",
       "  </thead>\n",
       "  <tbody>\n",
       "    <tr>\n",
       "      <th>0</th>\n",
       "      <td>1</td>\n",
       "      <td>전라북도</td>\n",
       "      <td>전주시 완산구</td>\n",
       "      <td>다가제일경로당</td>\n",
       "      <td>전라북도 전주시 완산구 전주천동로 200-50(다가동2가)</td>\n",
       "      <td>127.140363</td>\n",
       "      <td>35.814468</td>\n",
       "      <td>중앙동</td>\n",
       "      <td>12</td>\n",
       "      <td>0</td>\n",
       "    </tr>\n",
       "    <tr>\n",
       "      <th>1</th>\n",
       "      <td>2</td>\n",
       "      <td>전라북도</td>\n",
       "      <td>전주시 완산구</td>\n",
       "      <td>태평 2경로당</td>\n",
       "      <td>전라북도 전주시 완산구 물레방아1길 43-68(태평동)</td>\n",
       "      <td>127.136285</td>\n",
       "      <td>35.822145</td>\n",
       "      <td>중앙동</td>\n",
       "      <td>9</td>\n",
       "      <td>0</td>\n",
       "    </tr>\n",
       "  </tbody>\n",
       "</table>\n",
       "</div>"
      ],
      "text/plain": [
       "   index  city  borough     name                            address  \\\n",
       "0      1  전라북도  전주시 완산구  다가제일경로당   전라북도 전주시 완산구 전주천동로 200-50(다가동2가)   \n",
       "1      2  전라북도  전주시 완산구  태평 2경로당     전라북도 전주시 완산구 물레방아1길 43-68(태평동)   \n",
       "\n",
       "            X          Y dong  busStop_num  busStop_180_num  \n",
       "0  127.140363  35.814468  중앙동           12                0  \n",
       "1  127.136285  35.822145  중앙동            9                0  "
      ]
     },
     "execution_count": 70,
     "metadata": {},
     "output_type": "execute_result"
    }
   ],
   "source": [
    "cnt_df=pd.concat([df, cnt_all, cnt_180], axis=1, join='inner')\n",
    "cnt_df.head(2)"
   ]
  },
  {
   "cell_type": "code",
   "execution_count": 71,
   "metadata": {},
   "outputs": [
    {
     "data": {
      "text/html": [
       "<div>\n",
       "<style scoped>\n",
       "    .dataframe tbody tr th:only-of-type {\n",
       "        vertical-align: middle;\n",
       "    }\n",
       "\n",
       "    .dataframe tbody tr th {\n",
       "        vertical-align: top;\n",
       "    }\n",
       "\n",
       "    .dataframe thead th {\n",
       "        text-align: right;\n",
       "    }\n",
       "</style>\n",
       "<table border=\"1\" class=\"dataframe\">\n",
       "  <thead>\n",
       "    <tr style=\"text-align: right;\">\n",
       "      <th></th>\n",
       "      <th>index</th>\n",
       "      <th>city</th>\n",
       "      <th>borough</th>\n",
       "      <th>name</th>\n",
       "      <th>address</th>\n",
       "      <th>X</th>\n",
       "      <th>Y</th>\n",
       "      <th>dong</th>\n",
       "      <th>busStop_num</th>\n",
       "      <th>busStop_180_num</th>\n",
       "    </tr>\n",
       "  </thead>\n",
       "  <tbody>\n",
       "    <tr>\n",
       "      <th>0</th>\n",
       "      <td>1</td>\n",
       "      <td>전라북도</td>\n",
       "      <td>전주시 완산구</td>\n",
       "      <td>다가제일경로당</td>\n",
       "      <td>전라북도 전주시 완산구 전주천동로 200-50(다가동2가)</td>\n",
       "      <td>127.140363</td>\n",
       "      <td>35.814468</td>\n",
       "      <td>중앙동</td>\n",
       "      <td>12</td>\n",
       "      <td>0</td>\n",
       "    </tr>\n",
       "    <tr>\n",
       "      <th>1</th>\n",
       "      <td>2</td>\n",
       "      <td>전라북도</td>\n",
       "      <td>전주시 완산구</td>\n",
       "      <td>태평 2경로당</td>\n",
       "      <td>전라북도 전주시 완산구 물레방아1길 43-68(태평동)</td>\n",
       "      <td>127.136285</td>\n",
       "      <td>35.822145</td>\n",
       "      <td>중앙동</td>\n",
       "      <td>9</td>\n",
       "      <td>0</td>\n",
       "    </tr>\n",
       "    <tr>\n",
       "      <th>2</th>\n",
       "      <td>3</td>\n",
       "      <td>전라북도</td>\n",
       "      <td>전주시 완산구</td>\n",
       "      <td>태평 1경로당</td>\n",
       "      <td>전라북도 전주시 완산구 공북로67-5(태평동)</td>\n",
       "      <td>127.138975</td>\n",
       "      <td>35.826229</td>\n",
       "      <td>중앙동</td>\n",
       "      <td>12</td>\n",
       "      <td>0</td>\n",
       "    </tr>\n",
       "    <tr>\n",
       "      <th>3</th>\n",
       "      <td>4</td>\n",
       "      <td>전라북도</td>\n",
       "      <td>전주시 완산구</td>\n",
       "      <td>연수정경로당</td>\n",
       "      <td>전라북도 전주시 완산구 전라감영5길 19-11(중앙동3가)</td>\n",
       "      <td>127.145157</td>\n",
       "      <td>35.817350</td>\n",
       "      <td>중앙동</td>\n",
       "      <td>20</td>\n",
       "      <td>0</td>\n",
       "    </tr>\n",
       "    <tr>\n",
       "      <th>4</th>\n",
       "      <td>5</td>\n",
       "      <td>전라북도</td>\n",
       "      <td>전주시 완산구</td>\n",
       "      <td>일심자모경로당</td>\n",
       "      <td>전라북도 전주시 완산구 전주객사2길 46-8(고사동)</td>\n",
       "      <td>127.140980</td>\n",
       "      <td>35.818853</td>\n",
       "      <td>중앙동</td>\n",
       "      <td>19</td>\n",
       "      <td>0</td>\n",
       "    </tr>\n",
       "    <tr>\n",
       "      <th>...</th>\n",
       "      <td>...</td>\n",
       "      <td>...</td>\n",
       "      <td>...</td>\n",
       "      <td>...</td>\n",
       "      <td>...</td>\n",
       "      <td>...</td>\n",
       "      <td>...</td>\n",
       "      <td>...</td>\n",
       "      <td>...</td>\n",
       "      <td>...</td>\n",
       "    </tr>\n",
       "    <tr>\n",
       "      <th>617</th>\n",
       "      <td>618</td>\n",
       "      <td>전라북도</td>\n",
       "      <td>전주시 덕진구</td>\n",
       "      <td>동산경로당</td>\n",
       "      <td>전라북도 전주시 덕진구 호성동산길 57</td>\n",
       "      <td>127.153592</td>\n",
       "      <td>35.869172</td>\n",
       "      <td>호성동</td>\n",
       "      <td>2</td>\n",
       "      <td>0</td>\n",
       "    </tr>\n",
       "    <tr>\n",
       "      <th>618</th>\n",
       "      <td>619</td>\n",
       "      <td>전라북도</td>\n",
       "      <td>전주시 덕진구</td>\n",
       "      <td>만수(진흥2차)경로당</td>\n",
       "      <td>전라북도 전주시 덕진구 호성로 136</td>\n",
       "      <td>127.146591</td>\n",
       "      <td>35.864256</td>\n",
       "      <td>호성동</td>\n",
       "      <td>6</td>\n",
       "      <td>0</td>\n",
       "    </tr>\n",
       "    <tr>\n",
       "      <th>619</th>\n",
       "      <td>620</td>\n",
       "      <td>전라북도</td>\n",
       "      <td>전주시 덕진구</td>\n",
       "      <td>진흥더블파크1단지경로당</td>\n",
       "      <td>전라북도 전주시 덕진구 호성로 132</td>\n",
       "      <td>127.149085</td>\n",
       "      <td>35.861975</td>\n",
       "      <td>호성동</td>\n",
       "      <td>5</td>\n",
       "      <td>0</td>\n",
       "    </tr>\n",
       "    <tr>\n",
       "      <th>620</th>\n",
       "      <td>621</td>\n",
       "      <td>전라북도</td>\n",
       "      <td>전주시 덕진구</td>\n",
       "      <td>신동아2차아파트경로당</td>\n",
       "      <td>전라북도 전주시 덕진구 호성1길 30</td>\n",
       "      <td>127.153277</td>\n",
       "      <td>35.857128</td>\n",
       "      <td>호성동</td>\n",
       "      <td>17</td>\n",
       "      <td>0</td>\n",
       "    </tr>\n",
       "    <tr>\n",
       "      <th>621</th>\n",
       "      <td>622</td>\n",
       "      <td>전라북도</td>\n",
       "      <td>전주시 덕진구</td>\n",
       "      <td>진흥더블파크3단지경로당</td>\n",
       "      <td>전라북도 전주시 덕진구 호성로 170</td>\n",
       "      <td>127.145591</td>\n",
       "      <td>35.865681</td>\n",
       "      <td>호성동</td>\n",
       "      <td>6</td>\n",
       "      <td>0</td>\n",
       "    </tr>\n",
       "  </tbody>\n",
       "</table>\n",
       "<p>622 rows × 10 columns</p>\n",
       "</div>"
      ],
      "text/plain": [
       "     index  city  borough          name                            address  \\\n",
       "0        1  전라북도  전주시 완산구       다가제일경로당   전라북도 전주시 완산구 전주천동로 200-50(다가동2가)   \n",
       "1        2  전라북도  전주시 완산구       태평 2경로당     전라북도 전주시 완산구 물레방아1길 43-68(태평동)   \n",
       "2        3  전라북도  전주시 완산구       태평 1경로당          전라북도 전주시 완산구 공북로67-5(태평동)   \n",
       "3        4  전라북도  전주시 완산구        연수정경로당   전라북도 전주시 완산구 전라감영5길 19-11(중앙동3가)   \n",
       "4        5  전라북도  전주시 완산구       일심자모경로당      전라북도 전주시 완산구 전주객사2길 46-8(고사동)   \n",
       "..     ...   ...      ...           ...                                ...   \n",
       "617    618  전라북도  전주시 덕진구         동산경로당              전라북도 전주시 덕진구 호성동산길 57   \n",
       "618    619  전라북도  전주시 덕진구   만수(진흥2차)경로당               전라북도 전주시 덕진구 호성로 136   \n",
       "619    620  전라북도  전주시 덕진구  진흥더블파크1단지경로당               전라북도 전주시 덕진구 호성로 132   \n",
       "620    621  전라북도  전주시 덕진구   신동아2차아파트경로당               전라북도 전주시 덕진구 호성1길 30   \n",
       "621    622  전라북도  전주시 덕진구  진흥더블파크3단지경로당               전라북도 전주시 덕진구 호성로 170   \n",
       "\n",
       "              X          Y dong  busStop_num  busStop_180_num  \n",
       "0    127.140363  35.814468  중앙동           12                0  \n",
       "1    127.136285  35.822145  중앙동            9                0  \n",
       "2    127.138975  35.826229  중앙동           12                0  \n",
       "3    127.145157  35.817350  중앙동           20                0  \n",
       "4    127.140980  35.818853  중앙동           19                0  \n",
       "..          ...        ...  ...          ...              ...  \n",
       "617  127.153592  35.869172  호성동            2                0  \n",
       "618  127.146591  35.864256  호성동            6                0  \n",
       "619  127.149085  35.861975  호성동            5                0  \n",
       "620  127.153277  35.857128  호성동           17                0  \n",
       "621  127.145591  35.865681  호성동            6                0  \n",
       "\n",
       "[622 rows x 10 columns]"
      ]
     },
     "execution_count": 71,
     "metadata": {},
     "output_type": "execute_result"
    }
   ],
   "source": [
    "cnt_df"
   ]
  },
  {
   "cell_type": "code",
   "execution_count": 72,
   "metadata": {},
   "outputs": [],
   "source": [
    "cnt_df.to_csv(\"over180_num.csv\", encoding='euc-kr')"
   ]
  },
  {
   "cell_type": "code",
   "execution_count": null,
   "metadata": {},
   "outputs": [],
   "source": []
  },
  {
   "cell_type": "code",
   "execution_count": null,
   "metadata": {},
   "outputs": [],
   "source": []
  }
 ],
 "metadata": {
  "kernelspec": {
   "display_name": "Python 3",
   "language": "python",
   "name": "python3"
  },
  "language_info": {
   "codemirror_mode": {
    "name": "ipython",
    "version": 3
   },
   "file_extension": ".py",
   "mimetype": "text/x-python",
   "name": "python",
   "nbconvert_exporter": "python",
   "pygments_lexer": "ipython3",
   "version": "3.8.3"
  }
 },
 "nbformat": 4,
 "nbformat_minor": 4
}

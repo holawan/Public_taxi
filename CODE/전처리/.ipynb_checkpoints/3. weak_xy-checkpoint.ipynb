{
 "cells": [
  {
   "cell_type": "code",
   "execution_count": 2,
   "metadata": {},
   "outputs": [],
   "source": [
    "import pandas as pd"
   ]
  },
  {
   "cell_type": "code",
   "execution_count": 19,
   "metadata": {},
   "outputs": [
    {
     "name": "stdout",
     "output_type": "stream",
     "text": [
      "weak    Unnamed: 0  정류장명  x_count  y_count\n",
      "0         127  양전마을       12       12\n",
      "1         128  황제식품       12       12\n",
      "2         144  지암입구       12       12\n",
      "xy       정류장명           X          Y\n",
      "0      BYC  127.007970  35.820713\n",
      "1      BYC  127.007781  35.820431\n",
      "2  CTS전북방송  127.146407  35.819997\n"
     ]
    }
   ],
   "source": [
    "weak=pd.read_csv('weak_stop.csv', encoding='EUC-KR')\n",
    "print(\"weak\",weak.head(3))\n",
    "xy=pd.read_csv('stop_xy2.csv', encoding='EUC-KR')\n",
    "xy1=xy.columns = ['정류장명','X','Y']\n",
    "print(\"xy\",xy.head(3))"
   ]
  },
  {
   "cell_type": "code",
   "execution_count": 27,
   "metadata": {},
   "outputs": [],
   "source": [
    "xy.to_csv(\"xy.csv\",encoding='utf-8')"
   ]
  },
  {
   "cell_type": "code",
   "execution_count": 25,
   "metadata": {},
   "outputs": [],
   "source": []
  },
  {
   "cell_type": "code",
   "execution_count": 26,
   "metadata": {},
   "outputs": [
    {
     "data": {
      "text/plain": [
       "0            BYC\n",
       "2        CTS전북방송\n",
       "3        JTV전주방송\n",
       "5        KT북전주지점\n",
       "7         KT정보센터\n",
       "          ...   \n",
       "2644    흑석대승푸른맨션\n",
       "2646     흑석송원아파트\n",
       "2648        흥국생명\n",
       "2649        흥국화재\n",
       "2650    힐스테이트효자동\n",
       "Name: 정류장명, Length: 1390, dtype: object"
      ]
     },
     "execution_count": 26,
     "metadata": {},
     "output_type": "execute_result"
    }
   ],
   "source": []
  },
  {
   "cell_type": "code",
   "execution_count": 28,
   "metadata": {},
   "outputs": [
    {
     "name": "stdout",
     "output_type": "stream",
     "text": [
      "xyweak       정류장명  Unnamed: 0  x_count  y_count\n",
      "0     갈동마을         389        2        2\n",
      "1       갈전         384        3        3\n",
      "2  고려온천아파트         493        2        2\n"
     ]
    }
   ],
   "source": [
    "xyweak=pd.merge(xy,weak)\n",
    "print(\"xyweak\",xyweak.head(3))"
   ]
  },
  {
   "cell_type": "code",
   "execution_count": 29,
   "metadata": {},
   "outputs": [],
   "source": [
    "xyweak.to_csv(\"weak_xy.csv\",encoding=\"utf-8\")"
   ]
  },
  {
   "cell_type": "code",
   "execution_count": null,
   "metadata": {},
   "outputs": [],
   "source": []
  },
  {
   "cell_type": "code",
   "execution_count": null,
   "metadata": {},
   "outputs": [],
   "source": []
  }
 ],
 "metadata": {
  "kernelspec": {
   "display_name": "Python 3",
   "language": "python",
   "name": "python3"
  },
  "language_info": {
   "codemirror_mode": {
    "name": "ipython",
    "version": 3
   },
   "file_extension": ".py",
   "mimetype": "text/x-python",
   "name": "python",
   "nbconvert_exporter": "python",
   "pygments_lexer": "ipython3",
   "version": "3.9.0"
  }
 },
 "nbformat": 4,
 "nbformat_minor": 4
}

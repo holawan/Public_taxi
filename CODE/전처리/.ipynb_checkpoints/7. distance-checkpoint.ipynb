{
 "cells": [
  {
   "cell_type": "markdown",
   "metadata": {},
   "source": [
    "# 7. 마을회관과 주요 변수의 최단 거리\n",
    "- 버스정류장 최단거리\n",
    "- 병원 최단거리\n",
    "- 상점 최단거리\n",
    "- 복지관, 도서관, 영화관 최단거리"
   ]
  },
  {
   "cell_type": "code",
   "execution_count": 41,
   "metadata": {},
   "outputs": [],
   "source": [
    "import pandas as pd\n",
    "from pandas import DataFrame\n",
    "import numbers\n",
    "import math\n",
    "from openpyxl import load_workbook\n",
    "import numpy as np"
   ]
  },
  {
   "cell_type": "code",
   "execution_count": 42,
   "metadata": {},
   "outputs": [],
   "source": [
    "senior_df=pd.read_csv('final_senior_center.csv', encoding='utf-8') # 경로당 데이터\n",
    "#print(senior_df.head(5))\n",
    "\n",
    "jeonju_df=senior_df[\"borough\"].str.contains(\"전주시\") # 전주시만 추출\n",
    "\n",
    "df=senior_df[jeonju_df]\n",
    "#print(df[\"address\"].tail(2))"
   ]
  },
  {
   "cell_type": "code",
   "execution_count": 43,
   "metadata": {},
   "outputs": [],
   "source": [
    "bus_df=pd.read_csv('busStop.csv', encoding='utf-8') # 버스정류장 데이터\n",
    "#print(bus_df.head(2))\n",
    "\n",
    "hospital_df=pd.read_csv('Hospital.csv', encoding='utf-8') # 병원 데이터\n",
    "#print(hospital_df.head(2))\n",
    "\n",
    "store_df=pd.read_csv('store.csv', encoding='utf-8') # 상점 데이터 마트+시장\n",
    "#print(store_df.head(2))\n",
    "\n",
    "welfare_df=pd.read_csv('welfare_center.csv', encoding='utf-8') # 복지관 데이터\n",
    "#print(welfare_df.head(2))\n",
    "\n",
    "library_df=pd.read_csv('library.csv', encoding='utf-8') # 도서관 데이터\n",
    "#print(library_df.head(2))\n",
    "\n",
    "theater_df=pd.read_csv('theater.csv', encoding='utf-8') # 영화관 데이터\n",
    "#print(theater_df.head(2))\n",
    "\n"
   ]
  },
  {
   "cell_type": "code",
   "execution_count": 44,
   "metadata": {},
   "outputs": [],
   "source": [
    "class GeoUtil: # x좌표 y좌표 km로 변환해서 x1 y1 x2 y2 차이 구하기\n",
    "    \"\"\"\n",
    "    Geographical Utils\n",
    "    \"\"\"\n",
    "    @staticmethod\n",
    "    def degree2radius(degree):\n",
    "        return degree * (math.pi / 180)\n",
    "\n",
    "    @staticmethod\n",
    "    def get_harversion_distance(x1, y1, x2, y2, round_decimal_digits=5):\n",
    "        \"\"\"\n",
    "        경위도 (x1,y1)과 (x2,y2) 점의 거리를 반환\n",
    "        Harversion Formula 이용하여 2개의 경위도간 거래를 구함(단위:Km)\n",
    "        \"\"\"\n",
    "        if x1 is None or y1 is None or x2 is None or y2 is None:\n",
    "            return None\n",
    "\n",
    "        R = 6371  # 지구의 반경(단위: km)\n",
    "        dLon = GeoUtil.degree2radius(x2 - x1)\n",
    "        dLat = GeoUtil.degree2radius(y2 - y1)\n",
    "\n",
    "        a = math.sin(dLat / 2) * math.sin(dLat / 2) \\\n",
    "            + (math.cos(GeoUtil.degree2radius(y1)) \\\n",
    "               * math.cos(GeoUtil.degree2radius(y2)) \\\n",
    "               * math.sin(dLon / 2) * math.sin(dLon / 2))\n",
    "        b = 2 * math.atan2(math.sqrt(a), math.sqrt(1 - a))\n",
    "        return round(R * b, round_decimal_digits)"
   ]
  },
  {
   "cell_type": "code",
   "execution_count": 45,
   "metadata": {},
   "outputs": [],
   "source": [
    "center_x=df['X'] # 경로당(마을회관) x 좌표\n",
    "center_y=df['Y'] # 경로당(마을회관) y 좌표\n",
    "\n",
    "busStop_x=bus_df['X'] # 버스정류장 x 좌표\n",
    "busStop_y=bus_df['Y'] # 버스정류장 y 좌표\n",
    "\n",
    "hospital_x=hospital_df['X'] # 병원 x 좌표\n",
    "hospital_y=hospital_df['Y'] # 병원 y 좌표\n",
    "\n",
    "store_x=store_df['X'] # 상점 x 좌표\n",
    "store_y=store_df['Y'] # 상점 y 좌표\n",
    "\n",
    "welfare_x=welfare_df['Longitude'] # 복지관 x 좌표\n",
    "welfare_y=welfare_df['Latitude'] # 복지관 y 좌표\n",
    "\n",
    "library_x=library_df['X'] # 도서관 x 좌표\n",
    "library_y=library_df['Y'] # 도서관 y 좌표\n",
    "\n",
    "theater_x=theater_df['X'] # 영화관 x 좌표\n",
    "theater_y=theater_df['Y'] # 영화관 y 좌표"
   ]
  },
  {
   "cell_type": "code",
   "execution_count": 46,
   "metadata": {},
   "outputs": [],
   "source": [
    "# 최단 거리 구하기 함수\n",
    "def distance_func(center_df, parameter_df, X, Y):\n",
    "    min_distance=10000 # 최솟 거리 초기화\n",
    "    distance=[] # 최단거리 리스트\n",
    "\n",
    "    for k in range(len(center_df)): # 리스트 초기화\n",
    "        distance.append(0)\n",
    "        \n",
    "    # 경로당에서 제일 가까운 변수의 거리\n",
    "    for i in range(0, len(center_df)):\n",
    "        for j in range(0, len(parameter_df)):\n",
    "            if (GeoUtil.get_harversion_distance(center_x[i], center_y[i], X[j], Y[j])) <= min_distance:\n",
    "                min_distance = GeoUtil.get_harversion_distance(center_x[i], center_y[i], X[j], Y[j])\n",
    "        distance[i]=min_distance\n",
    "        min_distance=10000\n",
    "        \n",
    "    \n",
    "    distance_df=pd.DataFrame(distance) # 리스트 -> 데이터프레임\n",
    "    \n",
    "    return distance_df # 최단 거리 dataframe 반환"
   ]
  },
  {
   "cell_type": "markdown",
   "metadata": {},
   "source": [
    "### 마을회관과 '버스정류장' 최단거리"
   ]
  },
  {
   "cell_type": "code",
   "execution_count": 47,
   "metadata": {},
   "outputs": [
    {
     "name": "stdout",
     "output_type": "stream",
     "text": [
      "   busStop_distance\n",
      "0           0.06108\n",
      "1           0.11142\n",
      "2           0.12349\n",
      "3           0.07438\n",
      "4           0.19573\n",
      "5           0.04412\n",
      "6           0.11142\n",
      "7           0.16262\n",
      "8           0.05336\n",
      "9           0.20379\n",
      "622\n",
      "버스정류장 평균 거리:  busStop_distance    0.167751\n",
      "dtype: float64 \n",
      "버스정류장 최대 거리:  busStop_distance    0.74678\n",
      "dtype: float64 \n",
      "버스정류장 최소 거리:  busStop_distance    0.00452\n",
      "dtype: float64\n"
     ]
    }
   ],
   "source": [
    "busStop=distance_func(df, bus_df, busStop_x, busStop_y) # 버스정류장\n",
    "\n",
    "busStop.columns=['busStop_distance'] # column name 변환\n",
    "\n",
    "#print(busStop.head(10))\n",
    "#print(len(busStop))\n",
    "\n",
    "print(\"버스정류장 평균 거리: \", busStop.mean(), \"\\n버스정류장 최대 거리: \", busStop.max(), \"\\n버스정류장 최소 거리: \", busStop.min())\n"
   ]
  },
  {
   "cell_type": "markdown",
   "metadata": {},
   "source": [
    "### 마을회관과 '병원' 최단거리"
   ]
  },
  {
   "cell_type": "code",
   "execution_count": 48,
   "metadata": {},
   "outputs": [
    {
     "name": "stdout",
     "output_type": "stream",
     "text": [
      "   hospital_distance\n",
      "0            0.23747\n",
      "1            0.39255\n",
      "2            0.30154\n",
      "3            0.31038\n",
      "4            0.14143\n",
      "5            0.34087\n",
      "6            0.39255\n",
      "7            0.19521\n",
      "8            0.04239\n",
      "9            0.43587\n",
      "622\n",
      "병원 평균 거리:  hospital_distance    0.617095\n",
      "dtype: float64 \n",
      "병원 최대 거리:  hospital_distance    4.48638\n",
      "dtype: float64 \n",
      "병원 최소 거리:  hospital_distance    0.0\n",
      "dtype: float64\n"
     ]
    }
   ],
   "source": [
    "hospital=distance_func(df, hospital_df, hospital_x, hospital_y) # 병원 \n",
    "\n",
    "hospital.columns=['hospital_distance'] # column name 변환\n",
    "\n",
    "print(hospital.head(10))\n",
    "print(len(hospital))\n",
    "\n",
    "print(\"병원 평균 거리: \", hospital.mean(), \"\\n병원 최대 거리: \", hospital.max(), \"\\n병원 최소 거리: \", hospital.min())\n"
   ]
  },
  {
   "cell_type": "markdown",
   "metadata": {},
   "source": [
    "### 마을회관과 '상권' 최단거리"
   ]
  },
  {
   "cell_type": "code",
   "execution_count": 49,
   "metadata": {},
   "outputs": [
    {
     "name": "stdout",
     "output_type": "stream",
     "text": [
      "   store_distance\n",
      "0         0.53407\n",
      "1         0.65370\n",
      "2         0.33578\n",
      "3         0.18369\n",
      "4         0.24473\n",
      "5         0.48870\n",
      "6         0.65370\n",
      "7         0.06177\n",
      "8         0.34885\n",
      "9         0.33519\n",
      "622\n",
      "상점 평균 거리:  store_distance    0.985297\n",
      "dtype: float64 \n",
      "상점 최대 거리:  store_distance    7.14211\n",
      "dtype: float64 \n",
      "상점 최소 거리:  store_distance    0.00534\n",
      "dtype: float64\n"
     ]
    }
   ],
   "source": [
    "store=distance_func(df, store_df, store_x, store_y) # 상점\n",
    "\n",
    "store.columns=['store_distance'] # column name 변환\n",
    "\n",
    "print(store.head(10))\n",
    "print(len(store))\n",
    "\n",
    "print(\"상점 평균 거리: \", store.mean(), \"\\n상점 최대 거리: \", store.max(), \"\\n상점 최소 거리: \", store.min())\n"
   ]
  },
  {
   "cell_type": "markdown",
   "metadata": {},
   "source": [
    "### 마을회관과 '복지관' 최단거리"
   ]
  },
  {
   "cell_type": "code",
   "execution_count": 50,
   "metadata": {},
   "outputs": [
    {
     "name": "stdout",
     "output_type": "stream",
     "text": [
      "   welfare_distance\n",
      "0           0.89070\n",
      "1           0.80000\n",
      "2           0.36825\n",
      "3           1.07579\n",
      "4           0.90881\n",
      "5           0.51389\n",
      "6           0.80000\n",
      "7           0.22263\n",
      "8           1.06469\n",
      "9           0.45135\n",
      "622\n",
      "복지관 평균 거리:  welfare_distance    1.865216\n",
      "dtype: float64 \n",
      "복지관 최대 거리:  welfare_distance    11.57986\n",
      "dtype: float64 \n",
      "복지관 최소 거리:  welfare_distance    0.00167\n",
      "dtype: float64\n"
     ]
    }
   ],
   "source": [
    "welfare=distance_func(df, welfare_df, welfare_x, welfare_y) # 복지관\n",
    "\n",
    "welfare.columns=['welfare_distance'] # column name 변환\n",
    "\n",
    "print(welfare.head(10))\n",
    "print(len(welfare))\n",
    "\n",
    "print(\"복지관 평균 거리: \", welfare.mean(), \"\\n복지관 최대 거리: \", welfare.max(), \"\\n복지관 최소 거리: \", welfare.min())\n"
   ]
  },
  {
   "cell_type": "markdown",
   "metadata": {},
   "source": [
    "### 마을회관과 '도서관' 최단거리"
   ]
  },
  {
   "cell_type": "code",
   "execution_count": 51,
   "metadata": {},
   "outputs": [
    {
     "name": "stdout",
     "output_type": "stream",
     "text": [
      "   library_distance\n",
      "0           0.81714\n",
      "1           0.06763\n",
      "2           0.45716\n",
      "3           0.93437\n",
      "4           0.54402\n",
      "5           0.45000\n",
      "6           0.06763\n",
      "7           0.61079\n",
      "8           0.91199\n",
      "9           0.29218\n",
      "622\n",
      "도서관 평균 거리:  library_distance    0.922632\n",
      "dtype: float64 \n",
      "도서관 최대 거리:  library_distance    6.93444\n",
      "dtype: float64 \n",
      "도서관 최소 거리:  library_distance    0.01017\n",
      "dtype: float64\n"
     ]
    }
   ],
   "source": [
    "library=distance_func(df, library_df, library_x, library_y) # 도서관\n",
    "\n",
    "library.columns=['library_distance'] # column name 변환\n",
    "\n",
    "print(library.head(10))\n",
    "print(len(library))\n",
    "\n",
    "print(\"도서관 평균 거리: \", library.mean(), \"\\n도서관 최대 거리: \", library.max(), \"\\n도서관 최소 거리: \", library.min())\n"
   ]
  },
  {
   "cell_type": "markdown",
   "metadata": {},
   "source": [
    "### 마을회관과 '영화관' 최단거리"
   ]
  },
  {
   "cell_type": "code",
   "execution_count": 52,
   "metadata": {},
   "outputs": [
    {
     "name": "stdout",
     "output_type": "stream",
     "text": [
      "   theater_distance\n",
      "0           0.62717\n",
      "1           0.52256\n",
      "2           0.64072\n",
      "3           0.37513\n",
      "4           0.13873\n",
      "5           0.74691\n",
      "6           0.52256\n",
      "7           0.42357\n",
      "8           0.50958\n",
      "9           0.49328\n",
      "622\n",
      "영화관 평균 거리:  theater_distance    2.026586\n",
      "dtype: float64 \n",
      "영화관 최대 거리:  theater_distance    11.00666\n",
      "dtype: float64 \n",
      "영화관 최소 거리:  theater_distance    0.13127\n",
      "dtype: float64\n"
     ]
    }
   ],
   "source": [
    "theater=distance_func(df, theater_df, theater_x, theater_y) # 영화관\n",
    "\n",
    "theater.columns=['theater_distance'] # column name 변환\n",
    "\n",
    "print(theater.head(10))\n",
    "print(len(theater))\n",
    "\n",
    "print(\"영화관 평균 거리: \", theater.mean(), \"\\n영화관 최대 거리: \", theater.max(), \"\\n영화관 최소 거리: \", theater.min())\n"
   ]
  },
  {
   "cell_type": "code",
   "execution_count": 53,
   "metadata": {},
   "outputs": [
    {
     "name": "stdout",
     "output_type": "stream",
     "text": [
      "   index  city  borough     name                            address  \\\n",
      "0      1  전라북도  전주시 완산구  다가제일경로당   전라북도 전주시 완산구 전주천동로 200-50(다가동2가)   \n",
      "1      2  전라북도  전주시 완산구  태평 2경로당     전라북도 전주시 완산구 물레방아1길 43-68(태평동)   \n",
      "2      3  전라북도  전주시 완산구  태평 1경로당          전라북도 전주시 완산구 공북로67-5(태평동)   \n",
      "3      4  전라북도  전주시 완산구   연수정경로당   전라북도 전주시 완산구 전라감영5길 19-11(중앙동3가)   \n",
      "4      5  전라북도  전주시 완산구  일심자모경로당      전라북도 전주시 완산구 전주객사2길 46-8(고사동)   \n",
      "\n",
      "            X          Y dong  busStop_distance  hospital_distance  \\\n",
      "0  127.140363  35.814468  중앙동           0.06108            0.23747   \n",
      "1  127.136285  35.822145  중앙동           0.11142            0.39255   \n",
      "2  127.138975  35.826229  중앙동           0.12349            0.30154   \n",
      "3  127.145157  35.817350  중앙동           0.07438            0.31038   \n",
      "4  127.140980  35.818853  중앙동           0.19573            0.14143   \n",
      "\n",
      "   store_distance  welfare_distance  library_distance  theater_distance  \n",
      "0         0.53407           0.89070           0.81714           0.62717  \n",
      "1         0.65370           0.80000           0.06763           0.52256  \n",
      "2         0.33578           0.36825           0.45716           0.64072  \n",
      "3         0.18369           1.07579           0.93437           0.37513  \n",
      "4         0.24473           0.90881           0.54402           0.13873  \n"
     ]
    }
   ],
   "source": [
    "# 전처리한 데이터 합치기\n",
    "final_df=pd.concat([df, busStop, hospital, store, welfare, library, theater],axis=1, join='inner')\n",
    "alldf=final_df.dropna(axis=1)\n",
    "print(alldf.head(5))"
   ]
  },
  {
   "cell_type": "code",
   "execution_count": 28,
   "metadata": {},
   "outputs": [],
   "source": [
    "alldf.to_csv(\"final_distance.csv\", encoding='euc-kr') # csv 변환"
   ]
  },
  {
   "cell_type": "markdown",
   "metadata": {},
   "source": [
    "### '동' 기준으로 변환"
   ]
  },
  {
   "cell_type": "code",
   "execution_count": 65,
   "metadata": {},
   "outputs": [],
   "source": [
    "# 동별 dictionary\n",
    "def convert_To_dong_dict(parameter_df, parameter_distance):\n",
    "    \n",
    "    # parameter_distance dong별 분류\n",
    "    \n",
    "    # 완산구 행정동 거리 평균값\n",
    "    중앙동_mean=(parameter_df[parameter_distance].groupby(df[\"dong\"]==\"중앙동\")).mean()\n",
    "    풍남동_mean=(parameter_df[parameter_distance].groupby(df[\"dong\"]==\"풍남동\")).mean()\n",
    "    노송동_mean=(parameter_df[parameter_distance].groupby(df[\"dong\"]==\"노송동\")).mean()\n",
    "    완산동_mean=(parameter_df[parameter_distance].groupby(df[\"dong\"]==\"완산동\")).mean()\n",
    "    동서학동_mean=(parameter_df[parameter_distance].groupby(df[\"dong\"]==\"동서학동\")).mean()\n",
    "    서서학동_mean=(parameter_df[parameter_distance].groupby(df[\"dong\"]==\"서서학동\")).mean()\n",
    "    중화산동_mean=(parameter_df[parameter_distance].groupby(df[\"dong\"]==\"중화산동\")).mean()\n",
    "    평화동_mean=(parameter_df[parameter_distance].groupby(df[\"dong\"]==\"평화동\")).mean()\n",
    "    서신동_mean=(parameter_df[parameter_distance].groupby(df[\"dong\"]==\"서신동\")).mean()\n",
    "    삼천동_mean=(parameter_df[parameter_distance].groupby(df[\"dong\"]==\"삼천동\")).mean()\n",
    "    효자동_mean=(parameter_df[parameter_distance].groupby(df[\"dong\"]==\"효자동\")).mean()\n",
    "\n",
    "    # 덕진구 행정도 거리 평균값\n",
    "    진북동_mean=(parameter_df[parameter_distance].groupby(df[\"dong\"]==\"진북동\")).mean()\n",
    "    인후동_mean=(parameter_df[parameter_distance].groupby(df[\"dong\"]==\"인후동\")).mean()\n",
    "    덕진동_mean=(parameter_df[parameter_distance].groupby(df[\"dong\"]==\"덕진동\")).mean()\n",
    "    금암동_mean=(parameter_df[parameter_distance].groupby(df[\"dong\"]==\"금암동\")).mean()\n",
    "    팔복동_mean=(parameter_df[parameter_distance].groupby(df[\"dong\"]==\"팔복동\")).mean()\n",
    "    우아동_mean=(parameter_df[parameter_distance].groupby(df[\"dong\"]==\"우아동\")).mean()\n",
    "    호성동_mean=(parameter_df[parameter_distance].groupby(df[\"dong\"]==\"호성동\")).mean()\n",
    "    송천동_mean=(parameter_df[parameter_distance].groupby(df[\"dong\"]==\"송천동\")).mean()\n",
    "    조촌동_mean=(parameter_df[parameter_distance].groupby(df[\"dong\"]==\"조촌동\")).mean()\n",
    "    여의동_mean=(parameter_df[parameter_distance].groupby(df[\"dong\"]==\"여의동\")).mean()\n",
    "    혁신동_mean=(parameter_df[parameter_distance].groupby(df[\"dong\"]==\"혁신동\")).mean()\n",
    "    \n",
    "    # dictionary 만들기\n",
    "    \n",
    "    wansan_dict={\"중앙동\": 중앙동_mean, \"풍남동\": 풍남동_mean, \"노송동\": 노송동_mean, \"완산동\": 완산동_mean, \"동서학동\": 동서학동_mean, \"서서학동\": 서서학동_mean,\n",
    "             \"중화산동\": 중화산동_mean, \"평화동\": 평화동_mean, \"서신동\": 서신동_mean, \"삼천동\": 삼천동_mean, \"효자동\": 효자동_mean,}\n",
    "\n",
    "    deokjin_dict={\"진북동\": 진북동_mean, \"인후동\": 인후동_mean, \"덕진동\": 덕진동_mean, \"금암동\": 금암동_mean, \"팔복동\": 팔복동_mean, \n",
    "              \"우아동\": 우아동_mean, \"호성동\": 호성동_mean, \"송천동\": 송천동_mean, \"조촌동\": 조촌동_mean, \"여의동\": 여의동_mean, \"혁신동\": 혁신동_mean}\n",
    "    \n",
    "    # dictionary -> dataframe 변환\n",
    "    wansan=pd.DataFrame(wansan_dict)\n",
    "    deokjin=pd.DataFrame(deokjin_dict)\n",
    "    \n",
    "    # 행 열 transpose\n",
    "    wansan=np.transpose(wansan)\n",
    "    deokjin=np.transpose(deokjin)\n",
    "    \n",
    "    dong_distance=pd.concat([wansan,deokjin],axis=0, join='inner') # 완산구 + 덕진구 거리 데이터프레임\n",
    "    dong_distance=dong_distance.dropna(axis=1)\n",
    "    #print(dong_distance.head(5))\n",
    "\n",
    "    dong_distance=dong_distance.drop([False], axis='columns') # False열 삭제\n",
    "    \n",
    "    return dong_distance"
   ]
  },
  {
   "cell_type": "code",
   "execution_count": 66,
   "metadata": {},
   "outputs": [
    {
     "name": "stdout",
     "output_type": "stream",
     "text": [
      "dong  busStop_distance\n",
      "중앙동           0.114141\n",
      "풍남동           0.213948\n"
     ]
    }
   ],
   "source": [
    "# 버스정류장 최단거리\n",
    "busStop_df=convert_To_dong_dict(busStop, \"busStop_distance\")\n",
    "\n",
    "busStop_df.rename(columns={True:\"busStop_distance\"}, inplace=True)\n",
    "print(busStop_df.head(2))"
   ]
  },
  {
   "cell_type": "code",
   "execution_count": 67,
   "metadata": {},
   "outputs": [
    {
     "name": "stdout",
     "output_type": "stream",
     "text": [
      "dong  hospital_distance\n",
      "중앙동            0.279026\n",
      "풍남동            1.157429\n"
     ]
    }
   ],
   "source": [
    "# 병원 최단거리\n",
    "hospital_df=convert_To_dong_dict(hospital, \"hospital_distance\")\n",
    "\n",
    "hospital_df.rename(columns={True:\"hospital_distance\"}, inplace=True)\n",
    "print(hospital_df.head(2))\n"
   ]
  },
  {
   "cell_type": "code",
   "execution_count": 68,
   "metadata": {},
   "outputs": [
    {
     "name": "stdout",
     "output_type": "stream",
     "text": [
      "dong  store_distance\n",
      "중앙동         0.384018\n",
      "풍남동         1.453672\n"
     ]
    }
   ],
   "source": [
    "# 상점 최단거리\n",
    "store_df=convert_To_dong_dict(store, \"store_distance\")\n",
    "\n",
    "store_df.rename(columns={True:\"store_distance\"}, inplace=True)\n",
    "print(store_df.head(2))"
   ]
  },
  {
   "cell_type": "code",
   "execution_count": 69,
   "metadata": {},
   "outputs": [
    {
     "name": "stdout",
     "output_type": "stream",
     "text": [
      "dong  welfare_distance\n",
      "중앙동           0.709611\n",
      "풍남동           2.580567\n"
     ]
    }
   ],
   "source": [
    "# 복지관 최단거리\n",
    "welfare_df=convert_To_dong_dict(welfare, \"welfare_distance\")\n",
    "\n",
    "welfare_df.rename(columns={True:\"welfare_distance\"}, inplace=True)\n",
    "print(welfare_df.head(2))"
   ]
  },
  {
   "cell_type": "code",
   "execution_count": 70,
   "metadata": {},
   "outputs": [
    {
     "name": "stdout",
     "output_type": "stream",
     "text": [
      "dong  library_distance\n",
      "중앙동           0.515291\n",
      "풍남동           1.249478\n"
     ]
    }
   ],
   "source": [
    "# 도서관\n",
    "library_df=convert_To_dong_dict(library, \"library_distance\")\n",
    "\n",
    "library_df.rename(columns={True:\"library_distance\"}, inplace=True)\n",
    "print(library_df.head(2))"
   ]
  },
  {
   "cell_type": "code",
   "execution_count": 71,
   "metadata": {},
   "outputs": [
    {
     "name": "stdout",
     "output_type": "stream",
     "text": [
      "dong  theater_distance\n",
      "중앙동           0.500021\n",
      "풍남동           2.900363\n"
     ]
    }
   ],
   "source": [
    "# 영화관\n",
    "theater_df=convert_To_dong_dict(theater, \"theater_distance\")\n",
    "\n",
    "theater_df.rename(columns={True:\"theater_distance\"}, inplace=True)\n",
    "print(theater_df.head(2))"
   ]
  },
  {
   "cell_type": "code",
   "execution_count": 74,
   "metadata": {},
   "outputs": [
    {
     "data": {
      "text/html": [
       "<div>\n",
       "<style scoped>\n",
       "    .dataframe tbody tr th:only-of-type {\n",
       "        vertical-align: middle;\n",
       "    }\n",
       "\n",
       "    .dataframe tbody tr th {\n",
       "        vertical-align: top;\n",
       "    }\n",
       "\n",
       "    .dataframe thead th {\n",
       "        text-align: right;\n",
       "    }\n",
       "</style>\n",
       "<table border=\"1\" class=\"dataframe\">\n",
       "  <thead>\n",
       "    <tr style=\"text-align: right;\">\n",
       "      <th>dong</th>\n",
       "      <th>busStop_distance</th>\n",
       "      <th>hospital_distance</th>\n",
       "      <th>store_distance</th>\n",
       "      <th>welfare_distance</th>\n",
       "      <th>library_distance</th>\n",
       "      <th>theater_distance</th>\n",
       "    </tr>\n",
       "  </thead>\n",
       "  <tbody>\n",
       "    <tr>\n",
       "      <th>중앙동</th>\n",
       "      <td>0.114141</td>\n",
       "      <td>0.279026</td>\n",
       "      <td>0.384018</td>\n",
       "      <td>0.709611</td>\n",
       "      <td>0.515291</td>\n",
       "      <td>0.500021</td>\n",
       "    </tr>\n",
       "    <tr>\n",
       "      <th>풍남동</th>\n",
       "      <td>0.213948</td>\n",
       "      <td>1.157429</td>\n",
       "      <td>1.453672</td>\n",
       "      <td>2.580567</td>\n",
       "      <td>1.249478</td>\n",
       "      <td>2.900363</td>\n",
       "    </tr>\n",
       "    <tr>\n",
       "      <th>노송동</th>\n",
       "      <td>0.163273</td>\n",
       "      <td>0.698263</td>\n",
       "      <td>0.621190</td>\n",
       "      <td>0.464716</td>\n",
       "      <td>0.571752</td>\n",
       "      <td>1.219143</td>\n",
       "    </tr>\n",
       "    <tr>\n",
       "      <th>완산동</th>\n",
       "      <td>0.163606</td>\n",
       "      <td>0.550629</td>\n",
       "      <td>0.926139</td>\n",
       "      <td>1.336842</td>\n",
       "      <td>0.809468</td>\n",
       "      <td>2.055115</td>\n",
       "    </tr>\n",
       "    <tr>\n",
       "      <th>동서학동</th>\n",
       "      <td>0.227236</td>\n",
       "      <td>2.065219</td>\n",
       "      <td>2.641862</td>\n",
       "      <td>1.785272</td>\n",
       "      <td>2.108561</td>\n",
       "      <td>3.415451</td>\n",
       "    </tr>\n",
       "    <tr>\n",
       "      <th>서서학동</th>\n",
       "      <td>0.112030</td>\n",
       "      <td>0.303961</td>\n",
       "      <td>1.210981</td>\n",
       "      <td>0.414152</td>\n",
       "      <td>0.348145</td>\n",
       "      <td>1.505737</td>\n",
       "    </tr>\n",
       "    <tr>\n",
       "      <th>중화산동</th>\n",
       "      <td>0.174448</td>\n",
       "      <td>0.245665</td>\n",
       "      <td>0.690392</td>\n",
       "      <td>0.731727</td>\n",
       "      <td>0.453257</td>\n",
       "      <td>1.113395</td>\n",
       "    </tr>\n",
       "    <tr>\n",
       "      <th>평화동</th>\n",
       "      <td>0.180038</td>\n",
       "      <td>0.561003</td>\n",
       "      <td>0.883880</td>\n",
       "      <td>0.931022</td>\n",
       "      <td>0.949253</td>\n",
       "      <td>1.384978</td>\n",
       "    </tr>\n",
       "    <tr>\n",
       "      <th>서신동</th>\n",
       "      <td>0.118992</td>\n",
       "      <td>0.464628</td>\n",
       "      <td>0.362306</td>\n",
       "      <td>1.775042</td>\n",
       "      <td>0.382636</td>\n",
       "      <td>0.784147</td>\n",
       "    </tr>\n",
       "    <tr>\n",
       "      <th>삼천동</th>\n",
       "      <td>0.159486</td>\n",
       "      <td>0.447414</td>\n",
       "      <td>1.281139</td>\n",
       "      <td>1.820914</td>\n",
       "      <td>1.199177</td>\n",
       "      <td>1.852970</td>\n",
       "    </tr>\n",
       "    <tr>\n",
       "      <th>효자동</th>\n",
       "      <td>0.184728</td>\n",
       "      <td>0.444034</td>\n",
       "      <td>0.459343</td>\n",
       "      <td>1.610418</td>\n",
       "      <td>0.659387</td>\n",
       "      <td>0.960556</td>\n",
       "    </tr>\n",
       "    <tr>\n",
       "      <th>진북동</th>\n",
       "      <td>0.117039</td>\n",
       "      <td>0.434664</td>\n",
       "      <td>1.192313</td>\n",
       "      <td>1.675281</td>\n",
       "      <td>1.056304</td>\n",
       "      <td>1.781592</td>\n",
       "    </tr>\n",
       "    <tr>\n",
       "      <th>인후동</th>\n",
       "      <td>0.150074</td>\n",
       "      <td>0.403537</td>\n",
       "      <td>0.531396</td>\n",
       "      <td>0.782586</td>\n",
       "      <td>0.471591</td>\n",
       "      <td>2.083258</td>\n",
       "    </tr>\n",
       "    <tr>\n",
       "      <th>덕진동</th>\n",
       "      <td>0.171172</td>\n",
       "      <td>0.466077</td>\n",
       "      <td>0.672214</td>\n",
       "      <td>0.917707</td>\n",
       "      <td>0.589354</td>\n",
       "      <td>1.438256</td>\n",
       "    </tr>\n",
       "    <tr>\n",
       "      <th>금암동</th>\n",
       "      <td>0.185149</td>\n",
       "      <td>0.313921</td>\n",
       "      <td>0.509701</td>\n",
       "      <td>0.667344</td>\n",
       "      <td>0.390474</td>\n",
       "      <td>1.532490</td>\n",
       "    </tr>\n",
       "    <tr>\n",
       "      <th>팔복동</th>\n",
       "      <td>0.170409</td>\n",
       "      <td>1.083489</td>\n",
       "      <td>1.307575</td>\n",
       "      <td>1.884313</td>\n",
       "      <td>0.700388</td>\n",
       "      <td>2.240663</td>\n",
       "    </tr>\n",
       "    <tr>\n",
       "      <th>우아동</th>\n",
       "      <td>0.211560</td>\n",
       "      <td>0.622823</td>\n",
       "      <td>1.395453</td>\n",
       "      <td>1.831933</td>\n",
       "      <td>1.149140</td>\n",
       "      <td>3.753784</td>\n",
       "    </tr>\n",
       "    <tr>\n",
       "      <th>호성동</th>\n",
       "      <td>0.209014</td>\n",
       "      <td>0.978572</td>\n",
       "      <td>1.154572</td>\n",
       "      <td>2.902837</td>\n",
       "      <td>0.972590</td>\n",
       "      <td>2.793214</td>\n",
       "    </tr>\n",
       "    <tr>\n",
       "      <th>송천동</th>\n",
       "      <td>0.180372</td>\n",
       "      <td>0.739836</td>\n",
       "      <td>1.070010</td>\n",
       "      <td>2.035060</td>\n",
       "      <td>0.974144</td>\n",
       "      <td>1.356345</td>\n",
       "    </tr>\n",
       "    <tr>\n",
       "      <th>조촌동</th>\n",
       "      <td>0.149538</td>\n",
       "      <td>0.918896</td>\n",
       "      <td>2.509620</td>\n",
       "      <td>6.587327</td>\n",
       "      <td>2.312499</td>\n",
       "      <td>6.081181</td>\n",
       "    </tr>\n",
       "    <tr>\n",
       "      <th>여의동</th>\n",
       "      <td>0.141635</td>\n",
       "      <td>0.800315</td>\n",
       "      <td>0.919533</td>\n",
       "      <td>4.271458</td>\n",
       "      <td>1.564453</td>\n",
       "      <td>4.052703</td>\n",
       "    </tr>\n",
       "    <tr>\n",
       "      <th>혁신동</th>\n",
       "      <td>0.150970</td>\n",
       "      <td>1.316440</td>\n",
       "      <td>1.429753</td>\n",
       "      <td>5.346923</td>\n",
       "      <td>3.414707</td>\n",
       "      <td>4.360517</td>\n",
       "    </tr>\n",
       "  </tbody>\n",
       "</table>\n",
       "</div>"
      ],
      "text/plain": [
       "dong  busStop_distance  hospital_distance  store_distance  welfare_distance  \\\n",
       "중앙동           0.114141           0.279026        0.384018          0.709611   \n",
       "풍남동           0.213948           1.157429        1.453672          2.580567   \n",
       "노송동           0.163273           0.698263        0.621190          0.464716   \n",
       "완산동           0.163606           0.550629        0.926139          1.336842   \n",
       "동서학동          0.227236           2.065219        2.641862          1.785272   \n",
       "서서학동          0.112030           0.303961        1.210981          0.414152   \n",
       "중화산동          0.174448           0.245665        0.690392          0.731727   \n",
       "평화동           0.180038           0.561003        0.883880          0.931022   \n",
       "서신동           0.118992           0.464628        0.362306          1.775042   \n",
       "삼천동           0.159486           0.447414        1.281139          1.820914   \n",
       "효자동           0.184728           0.444034        0.459343          1.610418   \n",
       "진북동           0.117039           0.434664        1.192313          1.675281   \n",
       "인후동           0.150074           0.403537        0.531396          0.782586   \n",
       "덕진동           0.171172           0.466077        0.672214          0.917707   \n",
       "금암동           0.185149           0.313921        0.509701          0.667344   \n",
       "팔복동           0.170409           1.083489        1.307575          1.884313   \n",
       "우아동           0.211560           0.622823        1.395453          1.831933   \n",
       "호성동           0.209014           0.978572        1.154572          2.902837   \n",
       "송천동           0.180372           0.739836        1.070010          2.035060   \n",
       "조촌동           0.149538           0.918896        2.509620          6.587327   \n",
       "여의동           0.141635           0.800315        0.919533          4.271458   \n",
       "혁신동           0.150970           1.316440        1.429753          5.346923   \n",
       "\n",
       "dong  library_distance  theater_distance  \n",
       "중앙동           0.515291          0.500021  \n",
       "풍남동           1.249478          2.900363  \n",
       "노송동           0.571752          1.219143  \n",
       "완산동           0.809468          2.055115  \n",
       "동서학동          2.108561          3.415451  \n",
       "서서학동          0.348145          1.505737  \n",
       "중화산동          0.453257          1.113395  \n",
       "평화동           0.949253          1.384978  \n",
       "서신동           0.382636          0.784147  \n",
       "삼천동           1.199177          1.852970  \n",
       "효자동           0.659387          0.960556  \n",
       "진북동           1.056304          1.781592  \n",
       "인후동           0.471591          2.083258  \n",
       "덕진동           0.589354          1.438256  \n",
       "금암동           0.390474          1.532490  \n",
       "팔복동           0.700388          2.240663  \n",
       "우아동           1.149140          3.753784  \n",
       "호성동           0.972590          2.793214  \n",
       "송천동           0.974144          1.356345  \n",
       "조촌동           2.312499          6.081181  \n",
       "여의동           1.564453          4.052703  \n",
       "혁신동           3.414707          4.360517  "
      ]
     },
     "execution_count": 74,
     "metadata": {},
     "output_type": "execute_result"
    }
   ],
   "source": [
    "# '동' 기준 dataframe -> 최종 합산\n",
    "\n",
    "final_distance_dong=pd.concat([busStop_df, hospital_df, store_df, welfare_df, library_df, theater_df],axis=1, join='inner')\n",
    "final_distance_dong"
   ]
  },
  {
   "cell_type": "code",
   "execution_count": 75,
   "metadata": {},
   "outputs": [],
   "source": [
    "final_distance_dong.to_csv(\"final_distance_dong.csv\", encoding='euc-kr') # csv 변환"
   ]
  },
  {
   "cell_type": "code",
   "execution_count": null,
   "metadata": {},
   "outputs": [],
   "source": []
  }
 ],
 "metadata": {
  "kernelspec": {
   "display_name": "Python 3",
   "language": "python",
   "name": "python3"
  },
  "language_info": {
   "codemirror_mode": {
    "name": "ipython",
    "version": 3
   },
   "file_extension": ".py",
   "mimetype": "text/x-python",
   "name": "python",
   "nbconvert_exporter": "python",
   "pygments_lexer": "ipython3",
   "version": "3.9.0"
  }
 },
 "nbformat": 4,
 "nbformat_minor": 4
}

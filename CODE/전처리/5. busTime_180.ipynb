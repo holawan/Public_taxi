{
 "cells": [
  {
   "cell_type": "markdown",
   "metadata": {},
   "source": [
    "# 5. 마을회관 500m 내 180분 이상 버스정류장 수"
   ]
  },
  {
   "cell_type": "code",
   "execution_count": null,
   "metadata": {},
   "outputs": [],
   "source": [
    "import pandas as pd\n",
    "import numpy as np\n",
    "from pandas import DataFrame"
   ]
  },
  {
   "cell_type": "code",
   "execution_count": null,
   "metadata": {},
   "outputs": [],
   "source": [
    "route=pd.read_csv('dongwan_busRoute.csv', encoding='utf-8')\n",
    "print(\"route:\\n\", route.head(3))\n",
    "\n",
    "bus_time=pd.read_csv('busTime_all.csv', encoding='utf-8')\n",
    "print(\"time:\\n\", bus_time.head(3))\n"
   ]
  },
  {
   "cell_type": "code",
   "execution_count": null,
   "metadata": {},
   "outputs": [],
   "source": [
    "busTime_180=bus_time[bus_time['배차간격']>=180]\n",
    "#print(busTime_180)"
   ]
  },
  {
   "cell_type": "code",
   "execution_count": null,
   "metadata": {},
   "outputs": [],
   "source": [
    "y=pd.DataFrame(route[\"정류장명\"].value_counts())\n",
    "y.reset_index(inplace=True)\n",
    "\n",
    "#print(y.head(2))\n",
    "#print(y['정류장명'].head(3))"
   ]
  },
  {
   "cell_type": "code",
   "execution_count": null,
   "metadata": {},
   "outputs": [],
   "source": [
    "merge_df=pd.merge(busTime_180, route, how='left')\n",
    "print(type(merge_df))\n",
    "#print(len(merge_df))\n",
    "#print(list(merge_df))"
   ]
  },
  {
   "cell_type": "code",
   "execution_count": null,
   "metadata": {},
   "outputs": [],
   "source": [
    "x=pd.DataFrame(merge_df['정류장명'].value_counts())\n",
    "x.reset_index(inplace=True)\n",
    "print(x.head(2))"
   ]
  },
  {
   "cell_type": "code",
   "execution_count": null,
   "metadata": {},
   "outputs": [],
   "source": [
    "print(list(y))\n",
    "print(y['index'].head(3))\n",
    "print(len(x)); print(len(y))"
   ]
  },
  {
   "cell_type": "code",
   "execution_count": null,
   "metadata": {},
   "outputs": [],
   "source": [
    "\n",
    "x=x.rename({'index':'정류장명', '정류장명':'x_count'}, axis='columns')\n",
    "print(x.head(3))\n",
    "y=y.rename({'index':'정류장명', '정류장명':'y_count'}, axis='columns')\n",
    "print(y.head(3))\n",
    "    "
   ]
  },
  {
   "cell_type": "code",
   "execution_count": null,
   "metadata": {},
   "outputs": [],
   "source": [
    "merge_xy=pd.merge(x, y, how='left')\n",
    "print(merge_xy.head(3))"
   ]
  },
  {
   "cell_type": "code",
   "execution_count": null,
   "metadata": {},
   "outputs": [],
   "source": [
    "result=pd.DataFrame(merge_xy[merge_xy['x_count']==merge_xy['y_count']])"
   ]
  },
  {
   "cell_type": "code",
   "execution_count": null,
   "metadata": {},
   "outputs": [],
   "source": [
    "print(result)"
   ]
  },
  {
   "cell_type": "code",
   "execution_count": null,
   "metadata": {},
   "outputs": [],
   "source": [
    "print(result['정류장명'])"
   ]
  },
  {
   "cell_type": "code",
   "execution_count": null,
   "metadata": {},
   "outputs": [],
   "source": [
    "bus_180=pd.merge(result, route, on='정류장명', how='left')"
   ]
  },
  {
   "cell_type": "code",
   "execution_count": null,
   "metadata": {},
   "outputs": [],
   "source": [
    "bus_180=bus_180.drop_duplicates(['정류장명'])\n",
    "bus_180=bus_180.reset_index(drop=True, inplace=False)"
   ]
  },
  {
   "cell_type": "code",
   "execution_count": null,
   "metadata": {},
   "outputs": [],
   "source": [
    "print(bus_180)"
   ]
  },
  {
   "cell_type": "code",
   "execution_count": null,
   "metadata": {},
   "outputs": [],
   "source": [
    "senior_df=pd.read_csv('final_senior_center.csv', encoding='utf-8') # 경로당 데이터\n",
    "#print(senior_df.head(5))\n",
    "\n",
    "jeonju_df=senior_df[\"borough\"].str.contains(\"전주시\") # 전주시만 추출\n",
    "\n",
    "df=senior_df[jeonju_df]\n",
    "#print(df[\"address\"].tail(2))"
   ]
  },
  {
   "cell_type": "code",
   "execution_count": null,
   "metadata": {},
   "outputs": [],
   "source": [
    "bus_df=pd.read_csv('busStop.csv', encoding='utf-8') # 버스정류장 데이터\n",
    "#bus_df.head(2)"
   ]
  },
  {
   "cell_type": "code",
   "execution_count": null,
   "metadata": {},
   "outputs": [],
   "source": [
    "!pip install import_ipynb\n",
    "import import_ipynb\n",
    "import busStop_distance\n",
    "\n",
    "GeoUtil=busStop_distance.GeoUtil()\n"
   ]
  },
  {
   "cell_type": "code",
   "execution_count": null,
   "metadata": {},
   "outputs": [],
   "source": [
    "center_x=df['X'] # 경로당(마을회관) x 좌표\n",
    "center_y=df['Y'] # 경로당(마을회관) y 좌표\n",
    "\n",
    "busStop_x=bus_df['X'] # 버스정류장 x 좌표\n",
    "busStop_y=bus_df['Y'] # 버스정류장 y 좌표\n",
    "\n",
    "bus_180_x=bus_180['LNG'] # 180분 이상 버정 x\n",
    "bus_180_y=bus_180['LAT'] # 180분 이상 버정 y"
   ]
  },
  {
   "cell_type": "code",
   "execution_count": null,
   "metadata": {},
   "outputs": [],
   "source": [
    "print(bus_180_x.head(2)); print(bus_180_y.head(2))\n",
    "\n",
    "print(center_x.head(2)); print(center_y.head(2))"
   ]
  },
  {
   "cell_type": "code",
   "execution_count": null,
   "metadata": {},
   "outputs": [],
   "source": [
    "cnt_all=[] # 경로당에서 버스정류장까지 거리 리스트\n",
    "cnt_180=[]\n",
    "\n",
    "for k in range(len(df)): # 리스트 초기화\n",
    "    cnt_all.append(0)\n",
    "    cnt_180.append(0)\n",
    "    \n",
    "#stop_name=bus_df['busStop']\n",
    "#stop_name_180=result['정류장명']\n",
    "\n",
    "\n",
    "for i in range(0, len(df)): # 경로당에서 제일 가까운 버스정류장까지 거리\n",
    "    for j in range(0, len(bus_df)):\n",
    "        if (GeoUtil.get_harversion_distance(center_x[i], center_y[i], busStop_x[j], busStop_y[j])) <= 0.5:\n",
    "            cnt_all[i]+=1\n",
    "            \n",
    "    for j in range(0, len(bus_180)):\n",
    "        if (GeoUtil.get_harversion_distance(center_x[i], center_y[i], bus_180_x[j], bus_180_y[j])) <= 0.5:\n",
    "            cnt_180[i]+=1\n",
    "           "
   ]
  },
  {
   "cell_type": "code",
   "execution_count": null,
   "metadata": {},
   "outputs": [],
   "source": [
    "cnt_all=pd.DataFrame(cnt_all)\n",
    "cnt_all.columns=['busStop_num']\n",
    "\n",
    "cnt_180=pd.DataFrame(cnt_180)\n",
    "cnt_180.columns=['busStop_180_num']"
   ]
  },
  {
   "cell_type": "code",
   "execution_count": null,
   "metadata": {},
   "outputs": [],
   "source": [
    "cnt_df=pd.concat([df, cnt_all, cnt_180], axis=1, join='inner')\n",
    "cnt_df.head(2)"
   ]
  },
  {
   "cell_type": "code",
   "execution_count": null,
   "metadata": {},
   "outputs": [],
   "source": [
    "cnt_df"
   ]
  },
  {
   "cell_type": "code",
   "execution_count": null,
   "metadata": {},
   "outputs": [],
   "source": [
    "cnt_df.to_csv(\"over180_num.csv\", encoding='euc-kr')"
   ]
  },
  {
   "cell_type": "code",
   "execution_count": null,
   "metadata": {},
   "outputs": [],
   "source": []
  },
  {
   "cell_type": "code",
   "execution_count": null,
   "metadata": {},
   "outputs": [],
   "source": []
  }
 ],
 "metadata": {
  "kernelspec": {
   "display_name": "Python 3",
   "language": "python",
   "name": "python3"
  },
  "language_info": {
   "codemirror_mode": {
    "name": "ipython",
    "version": 3
   },
   "file_extension": ".py",
   "mimetype": "text/x-python",
   "name": "python",
   "nbconvert_exporter": "python",
   "pygments_lexer": "ipython3",
   "version": "3.9.0"
  }
 },
 "nbformat": 4,
 "nbformat_minor": 4
}

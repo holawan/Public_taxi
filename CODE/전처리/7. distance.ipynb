{
 "cells": [
  {
   "cell_type": "markdown",
   "metadata": {},
   "source": [
    "# 7. 마을회관과 주요 변수의 최단 거리\n",
    "- 버스정류장 최단거리\n",
    "- 병원 최단거리\n",
    "- 상점 최단거리\n",
    "- 복지관, 도서관, 영화관 최단거리"
   ]
  },
  {
   "cell_type": "code",
   "execution_count": null,
   "metadata": {},
   "outputs": [],
   "source": [
    "import pandas as pd\n",
    "from pandas import DataFrame\n",
    "import numbers\n",
    "import math\n",
    "from openpyxl import load_workbook\n",
    "import numpy as np"
   ]
  },
  {
   "cell_type": "code",
   "execution_count": null,
   "metadata": {},
   "outputs": [],
   "source": [
    "senior_df=pd.read_csv('final_senior_center.csv', encoding='utf-8') # 경로당 데이터\n",
    "#print(senior_df.head(5))\n",
    "\n",
    "jeonju_df=senior_df[\"borough\"].str.contains(\"전주시\") # 전주시만 추출\n",
    "\n",
    "df=senior_df[jeonju_df]\n",
    "#print(df[\"address\"].tail(2))"
   ]
  },
  {
   "cell_type": "code",
   "execution_count": null,
   "metadata": {},
   "outputs": [],
   "source": [
    "bus_df=pd.read_csv('busStop.csv', encoding='utf-8') # 버스정류장 데이터\n",
    "#print(bus_df.head(2))\n",
    "\n",
    "hospital_df=pd.read_csv('Hospital.csv', encoding='utf-8') # 병원 데이터\n",
    "#print(hospital_df.head(2))\n",
    "\n",
    "store_df=pd.read_csv('store.csv', encoding='utf-8') # 상점 데이터 마트+시장\n",
    "#print(store_df.head(2))\n",
    "\n",
    "welfare_df=pd.read_csv('welfare_center.csv', encoding='utf-8') # 복지관 데이터\n",
    "#print(welfare_df.head(2))\n",
    "\n",
    "library_df=pd.read_csv('library.csv', encoding='utf-8') # 도서관 데이터\n",
    "#print(library_df.head(2))\n",
    "\n",
    "theater_df=pd.read_csv('theater.csv', encoding='utf-8') # 영화관 데이터\n",
    "#print(theater_df.head(2))\n",
    "\n"
   ]
  },
  {
   "cell_type": "code",
   "execution_count": null,
   "metadata": {},
   "outputs": [],
   "source": [
    "class GeoUtil: # x좌표 y좌표 km로 변환해서 x1 y1 x2 y2 차이 구하기\n",
    "    \"\"\"\n",
    "    Geographical Utils\n",
    "    \"\"\"\n",
    "    @staticmethod\n",
    "    def degree2radius(degree):\n",
    "        return degree * (math.pi / 180)\n",
    "\n",
    "    @staticmethod\n",
    "    def get_harversion_distance(x1, y1, x2, y2, round_decimal_digits=5):\n",
    "        \"\"\"\n",
    "        경위도 (x1,y1)과 (x2,y2) 점의 거리를 반환\n",
    "        Harversion Formula 이용하여 2개의 경위도간 거래를 구함(단위:Km)\n",
    "        \"\"\"\n",
    "        if x1 is None or y1 is None or x2 is None or y2 is None:\n",
    "            return None\n",
    "\n",
    "        R = 6371  # 지구의 반경(단위: km)\n",
    "        dLon = GeoUtil.degree2radius(x2 - x1)\n",
    "        dLat = GeoUtil.degree2radius(y2 - y1)\n",
    "\n",
    "        a = math.sin(dLat / 2) * math.sin(dLat / 2) \\\n",
    "            + (math.cos(GeoUtil.degree2radius(y1)) \\\n",
    "               * math.cos(GeoUtil.degree2radius(y2)) \\\n",
    "               * math.sin(dLon / 2) * math.sin(dLon / 2))\n",
    "        b = 2 * math.atan2(math.sqrt(a), math.sqrt(1 - a))\n",
    "        return round(R * b, round_decimal_digits)"
   ]
  },
  {
   "cell_type": "code",
   "execution_count": null,
   "metadata": {},
   "outputs": [],
   "source": [
    "center_x=df['X'] # 경로당(마을회관) x 좌표\n",
    "center_y=df['Y'] # 경로당(마을회관) y 좌표\n",
    "\n",
    "busStop_x=bus_df['X'] # 버스정류장 x 좌표\n",
    "busStop_y=bus_df['Y'] # 버스정류장 y 좌표\n",
    "\n",
    "hospital_x=hospital_df['X'] # 병원 x 좌표\n",
    "hospital_y=hospital_df['Y'] # 병원 y 좌표\n",
    "\n",
    "store_x=store_df['X'] # 상점 x 좌표\n",
    "store_y=store_df['Y'] # 상점 y 좌표\n",
    "\n",
    "welfare_x=welfare_df['Longitude'] # 복지관 x 좌표\n",
    "welfare_y=welfare_df['Latitude'] # 복지관 y 좌표\n",
    "\n",
    "library_x=library_df['X'] # 도서관 x 좌표\n",
    "library_y=library_df['Y'] # 도서관 y 좌표\n",
    "\n",
    "theater_x=theater_df['X'] # 영화관 x 좌표\n",
    "theater_y=theater_df['Y'] # 영화관 y 좌표"
   ]
  },
  {
   "cell_type": "code",
   "execution_count": null,
   "metadata": {},
   "outputs": [],
   "source": [
    "# 최단 거리 구하기 함수\n",
    "def distance_func(center_df, parameter_df, X, Y):\n",
    "    min_distance=10000 # 최솟 거리 초기화\n",
    "    distance=[] # 최단거리 리스트\n",
    "\n",
    "    for k in range(len(center_df)): # 리스트 초기화\n",
    "        distance.append(0)\n",
    "        \n",
    "    # 경로당에서 제일 가까운 변수의 거리\n",
    "    for i in range(0, len(center_df)):\n",
    "        for j in range(0, len(parameter_df)):\n",
    "            if (GeoUtil.get_harversion_distance(center_x[i], center_y[i], X[j], Y[j])) <= min_distance:\n",
    "                min_distance = GeoUtil.get_harversion_distance(center_x[i], center_y[i], X[j], Y[j])\n",
    "        distance[i]=min_distance\n",
    "        min_distance=10000\n",
    "        \n",
    "    \n",
    "    distance_df=pd.DataFrame(distance) # 리스트 -> 데이터프레임\n",
    "    \n",
    "    return distance_df # 최단 거리 dataframe 반환"
   ]
  },
  {
   "cell_type": "markdown",
   "metadata": {},
   "source": [
    "### 마을회관과 '버스정류장' 최단거리"
   ]
  },
  {
   "cell_type": "code",
   "execution_count": null,
   "metadata": {},
   "outputs": [],
   "source": [
    "busStop=distance_func(df, bus_df, busStop_x, busStop_y) # 버스정류장\n",
    "\n",
    "busStop.columns=['busStop_distance'] # column name 변환\n",
    "\n",
    "#print(busStop.head(10))\n",
    "#print(len(busStop))\n",
    "\n",
    "print(\"버스정류장 평균 거리: \", busStop.mean(), \"\\n버스정류장 최대 거리: \", busStop.max(), \"\\n버스정류장 최소 거리: \", busStop.min())\n"
   ]
  },
  {
   "cell_type": "markdown",
   "metadata": {},
   "source": [
    "### 마을회관과 '병원' 최단거리"
   ]
  },
  {
   "cell_type": "code",
   "execution_count": null,
   "metadata": {},
   "outputs": [],
   "source": [
    "hospital=distance_func(df, hospital_df, hospital_x, hospital_y) # 병원 \n",
    "\n",
    "hospital.columns=['hospital_distance'] # column name 변환\n",
    "\n",
    "print(hospital.head(10))\n",
    "print(len(hospital))\n",
    "\n",
    "print(\"병원 평균 거리: \", hospital.mean(), \"\\n병원 최대 거리: \", hospital.max(), \"\\n병원 최소 거리: \", hospital.min())\n"
   ]
  },
  {
   "cell_type": "markdown",
   "metadata": {},
   "source": [
    "### 마을회관과 '상권' 최단거리"
   ]
  },
  {
   "cell_type": "code",
   "execution_count": null,
   "metadata": {},
   "outputs": [],
   "source": [
    "store=distance_func(df, store_df, store_x, store_y) # 상점\n",
    "\n",
    "store.columns=['store_distance'] # column name 변환\n",
    "\n",
    "print(store.head(10))\n",
    "print(len(store))\n",
    "\n",
    "print(\"상점 평균 거리: \", store.mean(), \"\\n상점 최대 거리: \", store.max(), \"\\n상점 최소 거리: \", store.min())\n"
   ]
  },
  {
   "cell_type": "markdown",
   "metadata": {},
   "source": [
    "### 마을회관과 '복지관' 최단거리"
   ]
  },
  {
   "cell_type": "code",
   "execution_count": null,
   "metadata": {},
   "outputs": [],
   "source": [
    "welfare=distance_func(df, welfare_df, welfare_x, welfare_y) # 복지관\n",
    "\n",
    "welfare.columns=['welfare_distance'] # column name 변환\n",
    "\n",
    "print(welfare.head(10))\n",
    "print(len(welfare))\n",
    "\n",
    "print(\"복지관 평균 거리: \", welfare.mean(), \"\\n복지관 최대 거리: \", welfare.max(), \"\\n복지관 최소 거리: \", welfare.min())\n"
   ]
  },
  {
   "cell_type": "markdown",
   "metadata": {},
   "source": [
    "### 마을회관과 '도서관' 최단거리"
   ]
  },
  {
   "cell_type": "code",
   "execution_count": null,
   "metadata": {},
   "outputs": [],
   "source": [
    "library=distance_func(df, library_df, library_x, library_y) # 도서관\n",
    "\n",
    "library.columns=['library_distance'] # column name 변환\n",
    "\n",
    "print(library.head(10))\n",
    "print(len(library))\n",
    "\n",
    "print(\"도서관 평균 거리: \", library.mean(), \"\\n도서관 최대 거리: \", library.max(), \"\\n도서관 최소 거리: \", library.min())\n"
   ]
  },
  {
   "cell_type": "markdown",
   "metadata": {},
   "source": [
    "### 마을회관과 '영화관' 최단거리"
   ]
  },
  {
   "cell_type": "code",
   "execution_count": null,
   "metadata": {},
   "outputs": [],
   "source": [
    "theater=distance_func(df, theater_df, theater_x, theater_y) # 영화관\n",
    "\n",
    "theater.columns=['theater_distance'] # column name 변환\n",
    "\n",
    "print(theater.head(10))\n",
    "print(len(theater))\n",
    "\n",
    "print(\"영화관 평균 거리: \", theater.mean(), \"\\n영화관 최대 거리: \", theater.max(), \"\\n영화관 최소 거리: \", theater.min())\n"
   ]
  },
  {
   "cell_type": "code",
   "execution_count": null,
   "metadata": {},
   "outputs": [],
   "source": [
    "# 전처리한 데이터 합치기\n",
    "final_df=pd.concat([df, busStop, hospital, store, welfare, library, theater],axis=1, join='inner')\n",
    "alldf=final_df.dropna(axis=1)\n",
    "print(alldf.head(5))"
   ]
  },
  {
   "cell_type": "code",
   "execution_count": null,
   "metadata": {},
   "outputs": [],
   "source": [
    "alldf.to_csv(\"final_distance.csv\", encoding='euc-kr') # csv 변환"
   ]
  },
  {
   "cell_type": "markdown",
   "metadata": {},
   "source": [
    "### '동' 기준으로 변환"
   ]
  },
  {
   "cell_type": "code",
   "execution_count": null,
   "metadata": {},
   "outputs": [],
   "source": [
    "# 동별 dictionary\n",
    "def convert_To_dong_dict(parameter_df, parameter_distance):\n",
    "    \n",
    "    # parameter_distance dong별 분류\n",
    "    \n",
    "    # 완산구 행정동 거리 평균값\n",
    "    중앙동_mean=(parameter_df[parameter_distance].groupby(df[\"dong\"]==\"중앙동\")).mean()\n",
    "    풍남동_mean=(parameter_df[parameter_distance].groupby(df[\"dong\"]==\"풍남동\")).mean()\n",
    "    노송동_mean=(parameter_df[parameter_distance].groupby(df[\"dong\"]==\"노송동\")).mean()\n",
    "    완산동_mean=(parameter_df[parameter_distance].groupby(df[\"dong\"]==\"완산동\")).mean()\n",
    "    동서학동_mean=(parameter_df[parameter_distance].groupby(df[\"dong\"]==\"동서학동\")).mean()\n",
    "    서서학동_mean=(parameter_df[parameter_distance].groupby(df[\"dong\"]==\"서서학동\")).mean()\n",
    "    중화산동_mean=(parameter_df[parameter_distance].groupby(df[\"dong\"]==\"중화산동\")).mean()\n",
    "    평화동_mean=(parameter_df[parameter_distance].groupby(df[\"dong\"]==\"평화동\")).mean()\n",
    "    서신동_mean=(parameter_df[parameter_distance].groupby(df[\"dong\"]==\"서신동\")).mean()\n",
    "    삼천동_mean=(parameter_df[parameter_distance].groupby(df[\"dong\"]==\"삼천동\")).mean()\n",
    "    효자동_mean=(parameter_df[parameter_distance].groupby(df[\"dong\"]==\"효자동\")).mean()\n",
    "\n",
    "    # 덕진구 행정도 거리 평균값\n",
    "    진북동_mean=(parameter_df[parameter_distance].groupby(df[\"dong\"]==\"진북동\")).mean()\n",
    "    인후동_mean=(parameter_df[parameter_distance].groupby(df[\"dong\"]==\"인후동\")).mean()\n",
    "    덕진동_mean=(parameter_df[parameter_distance].groupby(df[\"dong\"]==\"덕진동\")).mean()\n",
    "    금암동_mean=(parameter_df[parameter_distance].groupby(df[\"dong\"]==\"금암동\")).mean()\n",
    "    팔복동_mean=(parameter_df[parameter_distance].groupby(df[\"dong\"]==\"팔복동\")).mean()\n",
    "    우아동_mean=(parameter_df[parameter_distance].groupby(df[\"dong\"]==\"우아동\")).mean()\n",
    "    호성동_mean=(parameter_df[parameter_distance].groupby(df[\"dong\"]==\"호성동\")).mean()\n",
    "    송천동_mean=(parameter_df[parameter_distance].groupby(df[\"dong\"]==\"송천동\")).mean()\n",
    "    조촌동_mean=(parameter_df[parameter_distance].groupby(df[\"dong\"]==\"조촌동\")).mean()\n",
    "    여의동_mean=(parameter_df[parameter_distance].groupby(df[\"dong\"]==\"여의동\")).mean()\n",
    "    혁신동_mean=(parameter_df[parameter_distance].groupby(df[\"dong\"]==\"혁신동\")).mean()\n",
    "    \n",
    "    # dictionary 만들기\n",
    "    \n",
    "    wansan_dict={\"중앙동\": 중앙동_mean, \"풍남동\": 풍남동_mean, \"노송동\": 노송동_mean, \"완산동\": 완산동_mean, \"동서학동\": 동서학동_mean, \"서서학동\": 서서학동_mean,\n",
    "             \"중화산동\": 중화산동_mean, \"평화동\": 평화동_mean, \"서신동\": 서신동_mean, \"삼천동\": 삼천동_mean, \"효자동\": 효자동_mean,}\n",
    "\n",
    "    deokjin_dict={\"진북동\": 진북동_mean, \"인후동\": 인후동_mean, \"덕진동\": 덕진동_mean, \"금암동\": 금암동_mean, \"팔복동\": 팔복동_mean, \n",
    "              \"우아동\": 우아동_mean, \"호성동\": 호성동_mean, \"송천동\": 송천동_mean, \"조촌동\": 조촌동_mean, \"여의동\": 여의동_mean, \"혁신동\": 혁신동_mean}\n",
    "    \n",
    "    # dictionary -> dataframe 변환\n",
    "    wansan=pd.DataFrame(wansan_dict)\n",
    "    deokjin=pd.DataFrame(deokjin_dict)\n",
    "    \n",
    "    # 행 열 transpose\n",
    "    wansan=np.transpose(wansan)\n",
    "    deokjin=np.transpose(deokjin)\n",
    "    \n",
    "    dong_distance=pd.concat([wansan,deokjin],axis=0, join='inner') # 완산구 + 덕진구 거리 데이터프레임\n",
    "    dong_distance=dong_distance.dropna(axis=1)\n",
    "    #print(dong_distance.head(5))\n",
    "\n",
    "    dong_distance=dong_distance.drop([False], axis='columns') # False열 삭제\n",
    "    \n",
    "    return dong_distance"
   ]
  },
  {
   "cell_type": "code",
   "execution_count": null,
   "metadata": {},
   "outputs": [],
   "source": [
    "# 버스정류장 최단거리\n",
    "busStop_df=convert_To_dong_dict(busStop, \"busStop_distance\")\n",
    "\n",
    "busStop_df.rename(columns={True:\"busStop_distance\"}, inplace=True)\n",
    "print(busStop_df.head(2))"
   ]
  },
  {
   "cell_type": "code",
   "execution_count": null,
   "metadata": {},
   "outputs": [],
   "source": [
    "# 병원 최단거리\n",
    "hospital_df=convert_To_dong_dict(hospital, \"hospital_distance\")\n",
    "\n",
    "hospital_df.rename(columns={True:\"hospital_distance\"}, inplace=True)\n",
    "print(hospital_df.head(2))\n"
   ]
  },
  {
   "cell_type": "code",
   "execution_count": null,
   "metadata": {},
   "outputs": [],
   "source": [
    "# 상점 최단거리\n",
    "store_df=convert_To_dong_dict(store, \"store_distance\")\n",
    "\n",
    "store_df.rename(columns={True:\"store_distance\"}, inplace=True)\n",
    "print(store_df.head(2))"
   ]
  },
  {
   "cell_type": "code",
   "execution_count": null,
   "metadata": {},
   "outputs": [],
   "source": [
    "# 복지관 최단거리\n",
    "welfare_df=convert_To_dong_dict(welfare, \"welfare_distance\")\n",
    "\n",
    "welfare_df.rename(columns={True:\"welfare_distance\"}, inplace=True)\n",
    "print(welfare_df.head(2))"
   ]
  },
  {
   "cell_type": "code",
   "execution_count": null,
   "metadata": {},
   "outputs": [],
   "source": [
    "# 도서관\n",
    "library_df=convert_To_dong_dict(library, \"library_distance\")\n",
    "\n",
    "library_df.rename(columns={True:\"library_distance\"}, inplace=True)\n",
    "print(library_df.head(2))"
   ]
  },
  {
   "cell_type": "code",
   "execution_count": null,
   "metadata": {},
   "outputs": [],
   "source": [
    "# 영화관\n",
    "theater_df=convert_To_dong_dict(theater, \"theater_distance\")\n",
    "\n",
    "theater_df.rename(columns={True:\"theater_distance\"}, inplace=True)\n",
    "print(theater_df.head(2))"
   ]
  },
  {
   "cell_type": "code",
   "execution_count": null,
   "metadata": {},
   "outputs": [],
   "source": [
    "# '동' 기준 dataframe -> 최종 합산\n",
    "\n",
    "final_distance_dong=pd.concat([busStop_df, hospital_df, store_df, welfare_df, library_df, theater_df],axis=1, join='inner')\n",
    "final_distance_dong"
   ]
  },
  {
   "cell_type": "code",
   "execution_count": null,
   "metadata": {},
   "outputs": [],
   "source": [
    "final_distance_dong.to_csv(\"final_distance_dong.csv\", encoding='euc-kr') # csv 변환"
   ]
  },
  {
   "cell_type": "code",
   "execution_count": null,
   "metadata": {},
   "outputs": [],
   "source": []
  }
 ],
 "metadata": {
  "kernelspec": {
   "display_name": "Python 3",
   "language": "python",
   "name": "python3"
  },
  "language_info": {
   "codemirror_mode": {
    "name": "ipython",
    "version": 3
   },
   "file_extension": ".py",
   "mimetype": "text/x-python",
   "name": "python",
   "nbconvert_exporter": "python",
   "pygments_lexer": "ipython3",
   "version": "3.9.0"
  }
 },
 "nbformat": 4,
 "nbformat_minor": 4
}

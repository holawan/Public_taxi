{
 "cells": [
  {
   "cell_type": "markdown",
   "metadata": {},
   "source": [
    "# 6. 마을회관 500m 내 버스 정류장의 '버스 배차시간의 평균'"
   ]
  },
  {
   "cell_type": "code",
   "execution_count": null,
   "metadata": {},
   "outputs": [],
   "source": [
    "import pandas as pd\n",
    "import numpy as np\n",
    "from pandas import DataFrame"
   ]
  },
  {
   "cell_type": "code",
   "execution_count": null,
   "metadata": {},
   "outputs": [],
   "source": [
    "route=pd.read_csv('dongwan_busRoute.csv', encoding='utf-8')\n",
    "print(\"route:\\n\", route.head(3))\n",
    "\n",
    "bus_time=pd.read_csv('busTime_all.csv', encoding='utf-8')\n",
    "print(\"time:\\n\", bus_time.head(3))\n"
   ]
  },
  {
   "cell_type": "code",
   "execution_count": null,
   "metadata": {},
   "outputs": [],
   "source": [
    "busdata=pd.merge(route, bus_time, on='노선번호', how='left')\n",
    "print(busdata)"
   ]
  },
  {
   "cell_type": "code",
   "execution_count": null,
   "metadata": {},
   "outputs": [],
   "source": [
    "# 버스 정류장별 배차간격의 평균\n",
    "mean_time=busdata.groupby(busdata['정류장명'])['배차간격'].mean()\n",
    "#print(type(mean_time))\n",
    "\n",
    "# Series -> DataFrame\n",
    "mean_time=pd.DataFrame(mean_time)\n",
    "mean_time.columns=['mean']\n",
    "mean_time.reset_index(inplace=True)\n",
    "#print(mean_time)\n"
   ]
  },
  {
   "cell_type": "code",
   "execution_count": null,
   "metadata": {},
   "outputs": [],
   "source": [
    "# 버스 정류장별 배차간격 평균 + X,Y 좌표\n",
    "mean_time=pd.merge(mean_time, route, on='정류장명', how='left')\n",
    "mean_time=mean_time.loc[:, ['정류장명', 'mean', 'LAT', 'LNG']]\n",
    "mean_time"
   ]
  },
  {
   "cell_type": "code",
   "execution_count": null,
   "metadata": {},
   "outputs": [],
   "source": [
    "# 중복값 삭제\n",
    "mean_time=mean_time.drop_duplicates(['정류장명'])\n",
    "# 인덱스 재정렬\n",
    "mean_time=mean_time.reset_index(drop=True, inplace=False)"
   ]
  },
  {
   "cell_type": "code",
   "execution_count": null,
   "metadata": {},
   "outputs": [],
   "source": [
    "print(mean_time)"
   ]
  },
  {
   "cell_type": "code",
   "execution_count": null,
   "metadata": {},
   "outputs": [],
   "source": [
    "# 전주시 경로당 데이터\n",
    "senior_df=pd.read_csv('final_senior_center.csv', encoding='utf-8') # 경로당 데이터\n",
    "#print(senior_df.head(5))\n",
    "\n",
    "jeonju_df=senior_df[\"borough\"].str.contains(\"전주시\") # 전주시만 추출\n",
    "\n",
    "df=senior_df[jeonju_df]\n",
    "#print(df[\"address\"].tail(2))"
   ]
  },
  {
   "cell_type": "code",
   "execution_count": null,
   "metadata": {},
   "outputs": [],
   "source": [
    "# busStop_distance 내 GeoUil 함수 불러오기\n",
    "!pip install import_ipynb\n",
    "import import_ipynb\n",
    "import busStop_distance\n",
    "\n",
    "GeoUtil=busStop_distance.GeoUtil()"
   ]
  },
  {
   "cell_type": "code",
   "execution_count": null,
   "metadata": {},
   "outputs": [],
   "source": [
    "center_x=df['X'] # 경로당(마을회관) x 좌표\n",
    "center_y=df['Y'] # 경로당(마을회관) y 좌표\n",
    "\n",
    "busStop_mean_x=mean_time['LNG'] # 버스정류장 x좌표\n",
    "busStop_mean_y=mean_time['LAT'] # 버스정류장 y좌표"
   ]
  },
  {
   "cell_type": "code",
   "execution_count": null,
   "metadata": {},
   "outputs": [],
   "source": [
    "busMean=mean_time['mean']\n",
    "cnt=0\n",
    "busStop=[]\n",
    "final_mean=[]\n",
    "\n",
    "for k in range(len(df)):\n",
    "    busStop.append(0)\n",
    "    final_mean.append(0)\n",
    "    \n",
    "for i in range(0, len(df)):\n",
    "    for j in range(0, len(mean_time)):\n",
    "        if (GeoUtil.get_harversion_distance(center_x[i], center_y[i], busStop_mean_x[j], busStop_mean_y[j])) <= 0.5:\n",
    "            busStop[i]+=busMean[j]\n",
    "            cnt+=1\n",
    "    if cnt!=0:\n",
    "        final_mean[i]=busStop[i]/cnt\n",
    "        cnt=0\n",
    "    else:\n",
    "        final_mean[i]=300\n",
    "        cnt=0"
   ]
  },
  {
   "cell_type": "code",
   "execution_count": null,
   "metadata": {},
   "outputs": [],
   "source": [
    "# 500m 내 버스정류장의 '버스 배차시간 평균'\n",
    "final_mean=pd.DataFrame(final_mean)\n",
    "final_mean.columns=['busTime_mean']"
   ]
  },
  {
   "cell_type": "code",
   "execution_count": null,
   "metadata": {},
   "outputs": [],
   "source": [
    "busStop_mean_time=pd.concat([df, final_mean], axis=1, join='inner')\n",
    "busStop_mean_time.head(2)"
   ]
  },
  {
   "cell_type": "code",
   "execution_count": null,
   "metadata": {},
   "outputs": [],
   "source": [
    "busStop_mean_time.to_csv(\"busStop_mean_time.csv\", encoding='euc-kr')"
   ]
  },
  {
   "cell_type": "code",
   "execution_count": null,
   "metadata": {},
   "outputs": [],
   "source": [
    "# busStop_distance 내 GeoUil 함수 불러오기\n",
    "!pip install import_ipynb\n",
    "import import_ipynb\n",
    "import distance\n",
    "\n",
    "#convert=busStop_distance.convert_To_dong_dict(x, y)"
   ]
  },
  {
   "cell_type": "code",
   "execution_count": null,
   "metadata": {},
   "outputs": [],
   "source": []
  },
  {
   "cell_type": "code",
   "execution_count": null,
   "metadata": {},
   "outputs": [],
   "source": []
  },
  {
   "cell_type": "code",
   "execution_count": null,
   "metadata": {},
   "outputs": [],
   "source": [
    "senior_df=pd.read_csv('final_senior_center.csv', encoding='utf-8') # 경로당 데이터\n",
    "#print(senior_df.head(5))\n",
    "\n",
    "jeonju_df=senior_df[\"borough\"].str.contains(\"전주시\") # 전주시만 추출\n",
    "\n",
    "df=senior_df[jeonju_df]\n",
    "#print(df[\"address\"].tail(2))"
   ]
  },
  {
   "cell_type": "code",
   "execution_count": null,
   "metadata": {},
   "outputs": [],
   "source": [
    "busStop_mean_time"
   ]
  },
  {
   "cell_type": "code",
   "execution_count": null,
   "metadata": {},
   "outputs": [],
   "source": [
    "def convert_To_dong_dict(parameter_df, parameter_distance): # 동별 dictionary\n",
    "    \n",
    "    # parameter_distance dong별 분류\n",
    "    \n",
    "    # 완산구 행정동 거리 평균값\n",
    "    중앙동_mean=(parameter_df[parameter_distance].groupby(df[\"dong\"]==\"중앙동\")).mean()\n",
    "    풍남동_mean=(parameter_df[parameter_distance].groupby(df[\"dong\"]==\"풍남동\")).mean()\n",
    "    노송동_mean=(parameter_df[parameter_distance].groupby(df[\"dong\"]==\"노송동\")).mean()\n",
    "    완산동_mean=(parameter_df[parameter_distance].groupby(df[\"dong\"]==\"완산동\")).mean()\n",
    "    동서학동_mean=(parameter_df[parameter_distance].groupby(df[\"dong\"]==\"동서학동\")).mean()\n",
    "    서서학동_mean=(parameter_df[parameter_distance].groupby(df[\"dong\"]==\"서서학동\")).mean()\n",
    "    중화산동_mean=(parameter_df[parameter_distance].groupby(df[\"dong\"]==\"중화산동\")).mean()\n",
    "    평화동_mean=(parameter_df[parameter_distance].groupby(df[\"dong\"]==\"평화동\")).mean()\n",
    "    서신동_mean=(parameter_df[parameter_distance].groupby(df[\"dong\"]==\"서신동\")).mean()\n",
    "    삼천동_mean=(parameter_df[parameter_distance].groupby(df[\"dong\"]==\"삼천동\")).mean()\n",
    "    효자동_mean=(parameter_df[parameter_distance].groupby(df[\"dong\"]==\"효자동\")).mean()\n",
    "\n",
    "    # 덕진구 행정도 거리 평균값\n",
    "    진북동_mean=(parameter_df[parameter_distance].groupby(df[\"dong\"]==\"진북동\")).mean()\n",
    "    인후동_mean=(parameter_df[parameter_distance].groupby(df[\"dong\"]==\"인후동\")).mean()\n",
    "    덕진동_mean=(parameter_df[parameter_distance].groupby(df[\"dong\"]==\"덕진동\")).mean()\n",
    "    금암동_mean=(parameter_df[parameter_distance].groupby(df[\"dong\"]==\"금암동\")).mean()\n",
    "    팔복동_mean=(parameter_df[parameter_distance].groupby(df[\"dong\"]==\"팔복동\")).mean()\n",
    "    우아동_mean=(parameter_df[parameter_distance].groupby(df[\"dong\"]==\"우아동\")).mean()\n",
    "    호성동_mean=(parameter_df[parameter_distance].groupby(df[\"dong\"]==\"호성동\")).mean()\n",
    "    송천동_mean=(parameter_df[parameter_distance].groupby(df[\"dong\"]==\"송천동\")).mean()\n",
    "    조촌동_mean=(parameter_df[parameter_distance].groupby(df[\"dong\"]==\"조촌동\")).mean()\n",
    "    여의동_mean=(parameter_df[parameter_distance].groupby(df[\"dong\"]==\"여의동\")).mean()\n",
    "    혁신동_mean=(parameter_df[parameter_distance].groupby(df[\"dong\"]==\"혁신동\")).mean()\n",
    "    \n",
    "    # dictionary 만들기\n",
    "    \n",
    "    wansan_dict={\"중앙동\": 중앙동_mean, \"풍남동\": 풍남동_mean, \"노송동\": 노송동_mean, \"완산동\": 완산동_mean, \"동서학동\": 동서학동_mean, \"서서학동\": 서서학동_mean,\n",
    "             \"중화산동\": 중화산동_mean, \"평화동\": 평화동_mean, \"서신동\": 서신동_mean, \"삼천동\": 삼천동_mean, \"효자동\": 효자동_mean,}\n",
    "\n",
    "    deokjin_dict={\"진북동\": 진북동_mean, \"인후동\": 인후동_mean, \"덕진동\": 덕진동_mean, \"금암동\": 금암동_mean, \"팔복동\": 팔복동_mean, \n",
    "              \"우아동\": 우아동_mean, \"호성동\": 호성동_mean, \"송천동\": 송천동_mean, \"조촌동\": 조촌동_mean, \"여의동\": 여의동_mean, \"혁신동\": 혁신동_mean}\n",
    "    \n",
    "    # dictionary -> dataframe 변환\n",
    "    wansan=pd.DataFrame(wansan_dict)\n",
    "    deokjin=pd.DataFrame(deokjin_dict)\n",
    "    \n",
    "    # 행 열 transpose\n",
    "    wansan=np.transpose(wansan)\n",
    "    deokjin=np.transpose(deokjin)\n",
    "    \n",
    "    dong_distance=pd.concat([wansan,deokjin],axis=0, join='inner') # 완산구 + 덕진구 거리 데이터프레임\n",
    "    dong_distance=dong_distance.dropna(axis=1)\n",
    "    #print(dong_distance.head(5))\n",
    "\n",
    "    dong_distance=dong_distance.drop([False], axis='columns') # False열 삭제\n",
    "    \n",
    "    return dong_distance"
   ]
  },
  {
   "cell_type": "code",
   "execution_count": null,
   "metadata": {},
   "outputs": [],
   "source": [
    "busStop_mean=convert_To_dong_dict(busStop_mean_time, \"busTime_mean\")\n",
    "\n",
    "busStop_mean.rename(columns={True:\"busStop_mean_time\"}, inplace=True)\n",
    "print(busStop_mean.head(2))"
   ]
  },
  {
   "cell_type": "code",
   "execution_count": null,
   "metadata": {},
   "outputs": [],
   "source": [
    "busStop_mean.to_csv(\"busStop_mean_time_dong.csv\", encoding='euc-kr')"
   ]
  },
  {
   "cell_type": "code",
   "execution_count": null,
   "metadata": {},
   "outputs": [],
   "source": []
  }
 ],
 "metadata": {
  "kernelspec": {
   "display_name": "Python 3",
   "language": "python",
   "name": "python3"
  },
  "language_info": {
   "codemirror_mode": {
    "name": "ipython",
    "version": 3
   },
   "file_extension": ".py",
   "mimetype": "text/x-python",
   "name": "python",
   "nbconvert_exporter": "python",
   "pygments_lexer": "ipython3",
   "version": "3.9.0"
  }
 },
 "nbformat": 4,
 "nbformat_minor": 4
}

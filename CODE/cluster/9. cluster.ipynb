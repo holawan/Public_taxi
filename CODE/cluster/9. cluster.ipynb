{
 "cells": [
  {
   "cell_type": "markdown",
   "metadata": {},
   "source": [
    "# 9. Clustering\n",
    "\n",
    "### 변수를 기준으로 clustering\n",
    "### 변수 목록\n",
    "- 버스 정류장과 마을회관의 거리\n",
    "- 의료시설과 마을회관의 거리\n",
    "- 상권과 마을회관의 거리\n",
    "- 문화 서비스 센터(1.복지센터 2.도서관 3.영화관)와 마을회관의 거리\n",
    "- 버스 배차 시간의 평균\n",
    "- 노인인구 비율\n"
   ]
  },
  {
   "cell_type": "code",
   "execution_count": 254,
   "metadata": {},
   "outputs": [],
   "source": [
    "import pandas as pd\n",
    "from pandas import DataFrame\n",
    "import numbers\n",
    "import math\n",
    "import numpy as np"
   ]
  },
  {
   "cell_type": "code",
   "execution_count": 255,
   "metadata": {},
   "outputs": [],
   "source": [
    "distance=pd.read_csv(\"final_distance.csv\", encoding='euc-kr') # 버스정류장, 의료시설, 상권, 문화센터와의 거리\n",
    "\n",
    "senior_ratio=pd.read_csv(\"senior_population_dong.csv\", encoding='euc-kr') # 노인 인구 비율\n",
    "#senior_ratio=senior_ratio['aged_population_ratio']\n",
    "\n",
    "bus_time=pd.read_csv(\"busStop_mean_time.csv\", encoding='euc-kr') # 버스 배차 시간\n",
    "bus_time=bus_time['busTime_mean']"
   ]
  },
  {
   "cell_type": "code",
   "execution_count": 256,
   "metadata": {},
   "outputs": [
    {
     "name": "stdout",
     "output_type": "stream",
     "text": [
      "622\n",
      "23\n",
      "622\n"
     ]
    }
   ],
   "source": [
    "# 데이터 길이 확인\n",
    "print(len(distance))\n",
    "print(len(senior_ratio))\n",
    "print(len(bus_time))"
   ]
  },
  {
   "cell_type": "code",
   "execution_count": 257,
   "metadata": {},
   "outputs": [],
   "source": [
    "df=pd.concat([distance, bus_time], axis=1, join='inner') # 거리 + 배차시간"
   ]
  },
  {
   "cell_type": "code",
   "execution_count": 258,
   "metadata": {},
   "outputs": [],
   "source": [
    "df2=pd.merge(df, senior_ratio, on='dong', how='left') # '동'별로 같은 노인인구 비율 부여"
   ]
  },
  {
   "cell_type": "code",
   "execution_count": 260,
   "metadata": {},
   "outputs": [],
   "source": [
    "# 변수 목록 이외 필요 없는 columns 제거\n",
    "final_parameter=df2.drop(['Unnamed: 0_x', 'index', 'city', 'borough', 'address', 'X', 'Y', 'dong', 'Unnamed: 0_y', 'total_population', 'senior_population'], inplace=False, axis=1)"
   ]
  },
  {
   "cell_type": "code",
   "execution_count": null,
   "metadata": {},
   "outputs": [],
   "source": [
    "final_parameter"
   ]
  },
  {
   "cell_type": "code",
   "execution_count": 262,
   "metadata": {},
   "outputs": [],
   "source": [
    "final_parameter.to_csv(\"final_parameter.csv\", encoding='euc-kr') # 최종 변수 파일 csv 저장"
   ]
  },
  {
   "cell_type": "code",
   "execution_count": 263,
   "metadata": {},
   "outputs": [],
   "source": [
    "from sklearn.preprocessing import MinMaxScaler\n",
    "from sklearn.preprocessing import StandardScaler\n",
    "from sklearn.preprocessing import RobustScaler"
   ]
  },
  {
   "cell_type": "code",
   "execution_count": 264,
   "metadata": {},
   "outputs": [],
   "source": [
    "df=final_parameter.drop(['name'], inplace=False, axis=1) # 표준화를 위해 string 값인 ['name'] 삭제"
   ]
  },
  {
   "cell_type": "markdown",
   "metadata": {},
   "source": [
    "### RobustScaler"
   ]
  },
  {
   "cell_type": "code",
   "execution_count": null,
   "metadata": {},
   "outputs": [],
   "source": [
    "# RobustScaler 사용\n",
    "robust_scaler = RobustScaler()\n",
    "robust_scaler.fit(df)\n",
    "df_robust_scaled=robust_scaler.transform(df)\n",
    "np.mean(df_robust_scaled), np.std(df_robust_scaled)"
   ]
  },
  {
   "cell_type": "code",
   "execution_count": 266,
   "metadata": {},
   "outputs": [],
   "source": [
    "df_robust_scaled=pd.DataFrame(df_robust_scaled)\n",
    "df_robust_scaled.columns=df.columns # columns 추가"
   ]
  },
  {
   "cell_type": "code",
   "execution_count": 267,
   "metadata": {},
   "outputs": [],
   "source": [
    "# 결측치 행 제거\n",
    "df_robust_scaled=df_robust_scaled.dropna(axis=0)"
   ]
  },
  {
   "cell_type": "code",
   "execution_count": 268,
   "metadata": {},
   "outputs": [
    {
     "data": {
      "text/plain": [
       "606"
      ]
     },
     "execution_count": 268,
     "metadata": {},
     "output_type": "execute_result"
    }
   ],
   "source": [
    "df_robust_scaled.isnull().sum() # 결측치 확인\n",
    "len(df_robust_scaled)"
   ]
  },
  {
   "cell_type": "markdown",
   "metadata": {},
   "source": [
    "## K-means clustering"
   ]
  },
  {
   "cell_type": "code",
   "execution_count": 269,
   "metadata": {},
   "outputs": [],
   "source": [
    "from sklearn.cluster import KMeans\n",
    "from sklearn.metrics import silhouette_score\n",
    "from scipy.spatial.distance import cdist, pdist\n",
    "import matplotlib.pyplot as plt"
   ]
  },
  {
   "cell_type": "code",
   "execution_count": 270,
   "metadata": {},
   "outputs": [],
   "source": [
    "# 최적의 k 값 찾기\n",
    "wcss=[]\n",
    "for i in range(1,11):\n",
    "    kmeans = KMeans(n_clusters =i,init ='k-means++',random_state=42)\n",
    "    kmeans.fit(df_robust_scaled)\n",
    "    wcss.append(kmeans.inertia_)"
   ]
  },
  {
   "cell_type": "code",
   "execution_count": 271,
   "metadata": {},
   "outputs": [
    {
     "data": {
      "image/png": "[encoded data removed]",
      "text/plain": [
       "<Figure size 720x576 with 1 Axes>"
      ]
     },
     "metadata": {
      "needs_background": "light"
     },
     "output_type": "display_data"
    }
   ],
   "source": [
    "plt.figure(figsize = (10,8))\n",
    "plt.plot(range(1,11),wcss,marker = 'o', linestyle = '--')\n",
    "plt.xlabel('Number of Clusters')\n",
    "plt.ylabel('WCSS')\n",
    "plt.title('K-means Clustering');"
   ]
  },
  {
   "cell_type": "code",
   "execution_count": null,
   "metadata": {},
   "outputs": [],
   "source": [
    "# k = 5\n",
    "kmeans = KMeans(n_clusters = 5, init = 'k-means++',random_state = 42)\n",
    "kmeans.fit(df_robust_scaled)\n",
    "\n",
    "y_predict=kmeans.fit_predict(df_robust_scaled) # k-means clustering 결과\n",
    "#print(y_predict)"
   ]
  },
  {
   "cell_type": "code",
   "execution_count": null,
   "metadata": {},
   "outputs": [],
   "source": [
    "y_predict=pd.DataFrame(y_predict)\n",
    "y_predict.columns=['cluster_grade'] # column 이름 = 'clustering_grade'\n",
    "#y_predict"
   ]
  },
  {
   "cell_type": "code",
   "execution_count": 274,
   "metadata": {},
   "outputs": [
    {
     "data": {
      "text/plain": [
       "606"
      ]
     },
     "execution_count": 274,
     "metadata": {},
     "output_type": "execute_result"
    }
   ],
   "source": [
    "# 결측치 제거\n",
    "final_parameter=final_parameter.dropna(axis=0)\n",
    "#final_parameter.isnull().sum()\n",
    "len(final_parameter)"
   ]
  },
  {
   "cell_type": "code",
   "execution_count": null,
   "metadata": {},
   "outputs": [],
   "source": [
    "# 기존 dataframe + clustering grade\n",
    "# 최종 dataframe\n",
    "cluster_5=pd.concat([final_parameter, y_predict], axis=1, join='inner')"
   ]
  },
  {
   "cell_type": "code",
   "execution_count": 276,
   "metadata": {},
   "outputs": [
    {
     "data": {
      "text/plain": [
       "1    367\n",
       "3    127\n",
       "0     49\n",
       "2     29\n",
       "4     18\n",
       "Name: cluster_grade, dtype: int64"
      ]
     },
     "execution_count": 276,
     "metadata": {},
     "output_type": "execute_result"
    }
   ],
   "source": [
    "# 군집화 마다 개수 확인\n",
    "cluster_5['cluster_grade'].value_counts()"
   ]
  },
  {
   "cell_type": "code",
   "execution_count": 300,
   "metadata": {},
   "outputs": [],
   "source": [
    "cluster_5.to_csv(\"cluster_all.csv\", encoding='euc-kr') # cluster 결과 csv 파일 저장"
   ]
  },
  {
   "cell_type": "markdown",
   "metadata": {},
   "source": [
    "### 군집화 평균"
   ]
  },
  {
   "cell_type": "code",
   "execution_count": 277,
   "metadata": {},
   "outputs": [],
   "source": [
    "grade_0=cluster_5.groupby(cluster_5['cluster_grade']==0).mean()\n",
    "grade_1=cluster_5.groupby(cluster_5['cluster_grade']==1).mean()\n",
    "grade_2=cluster_5.groupby(cluster_5['cluster_grade']==2).mean()\n",
    "grade_3=cluster_5.groupby(cluster_5['cluster_grade']==3).mean()\n",
    "grade_4=cluster_5.groupby(cluster_5['cluster_grade']==4).mean()"
   ]
  },
  {
   "cell_type": "code",
   "execution_count": 280,
   "metadata": {},
   "outputs": [],
   "source": [
    "# 군집화 이름 설정 함수\n",
    "def rename_col(grade_df, grade_name):\n",
    "    grade_df=grade_df.T # 열 이름 변경을 위해 transpose\n",
    "    grade_df=grade_df.drop([False], axis='columns')\n",
    "    grade_df.rename(columns={True:grade_name}, inplace=True)\n",
    "    \n",
    "    grade_df=grade_df.T # 다시 transpose\n",
    "    \n",
    "    return grade_df"
   ]
  },
  {
   "cell_type": "code",
   "execution_count": 281,
   "metadata": {},
   "outputs": [],
   "source": [
    "cluster_0=rename_col(grade_0, 'grade_0')\n",
    "cluster_1=rename_col(grade_1, 'grade_1')\n",
    "cluster_2=rename_col(grade_2, 'grade_2')\n",
    "cluster_3=rename_col(grade_3, 'grade_3')\n",
    "cluster_4=rename_col(grade_4, 'grade_4')"
   ]
  },
  {
   "cell_type": "code",
   "execution_count": 283,
   "metadata": {},
   "outputs": [],
   "source": [
    "# 군집화 평균 dataframe\n",
    "cluster=pd.concat([cluster_0, cluster_1, cluster_2, cluster_3, cluster_4], axis=0)"
   ]
  },
  {
   "cell_type": "code",
   "execution_count": 284,
   "metadata": {},
   "outputs": [
    {
     "data": {
      "text/html": [
       "<div>\n",
       "<style scoped>\n",
       "    .dataframe tbody tr th:only-of-type {\n",
       "        vertical-align: middle;\n",
       "    }\n",
       "\n",
       "    .dataframe tbody tr th {\n",
       "        vertical-align: top;\n",
       "    }\n",
       "\n",
       "    .dataframe thead th {\n",
       "        text-align: right;\n",
       "    }\n",
       "</style>\n",
       "<table border=\"1\" class=\"dataframe\">\n",
       "  <thead>\n",
       "    <tr style=\"text-align: right;\">\n",
       "      <th></th>\n",
       "      <th>busStop_distance</th>\n",
       "      <th>hospital_distance</th>\n",
       "      <th>store_distance</th>\n",
       "      <th>welfare_distance</th>\n",
       "      <th>library_distance</th>\n",
       "      <th>theater_distance</th>\n",
       "      <th>busTime_mean</th>\n",
       "      <th>aged_population_ratio</th>\n",
       "      <th>cluster_grade</th>\n",
       "    </tr>\n",
       "    <tr>\n",
       "      <th>cluster_grade</th>\n",
       "      <th></th>\n",
       "      <th></th>\n",
       "      <th></th>\n",
       "      <th></th>\n",
       "      <th></th>\n",
       "      <th></th>\n",
       "      <th></th>\n",
       "      <th></th>\n",
       "      <th></th>\n",
       "    </tr>\n",
       "  </thead>\n",
       "  <tbody>\n",
       "    <tr>\n",
       "      <th>grade_0</th>\n",
       "      <td>0.170317</td>\n",
       "      <td>1.069559</td>\n",
       "      <td>1.640162</td>\n",
       "      <td>3.151953</td>\n",
       "      <td>1.644202</td>\n",
       "      <td>2.953616</td>\n",
       "      <td>134.286923</td>\n",
       "      <td>0.167230</td>\n",
       "      <td>0.0</td>\n",
       "    </tr>\n",
       "    <tr>\n",
       "      <th>grade_1</th>\n",
       "      <td>0.168050</td>\n",
       "      <td>0.492118</td>\n",
       "      <td>0.681109</td>\n",
       "      <td>1.460326</td>\n",
       "      <td>0.696619</td>\n",
       "      <td>1.513694</td>\n",
       "      <td>98.857343</td>\n",
       "      <td>0.135619</td>\n",
       "      <td>1.0</td>\n",
       "    </tr>\n",
       "    <tr>\n",
       "      <th>grade_2</th>\n",
       "      <td>0.219149</td>\n",
       "      <td>1.748779</td>\n",
       "      <td>2.538689</td>\n",
       "      <td>2.979718</td>\n",
       "      <td>2.297090</td>\n",
       "      <td>3.774114</td>\n",
       "      <td>159.954316</td>\n",
       "      <td>0.189370</td>\n",
       "      <td>2.0</td>\n",
       "    </tr>\n",
       "    <tr>\n",
       "      <th>grade_3</th>\n",
       "      <td>0.153538</td>\n",
       "      <td>0.566128</td>\n",
       "      <td>1.073838</td>\n",
       "      <td>1.458181</td>\n",
       "      <td>0.820227</td>\n",
       "      <td>1.992866</td>\n",
       "      <td>110.627247</td>\n",
       "      <td>0.262204</td>\n",
       "      <td>3.0</td>\n",
       "    </tr>\n",
       "    <tr>\n",
       "      <th>grade_4</th>\n",
       "      <td>0.177885</td>\n",
       "      <td>0.567223</td>\n",
       "      <td>2.633722</td>\n",
       "      <td>4.184901</td>\n",
       "      <td>2.495456</td>\n",
       "      <td>4.375754</td>\n",
       "      <td>108.473722</td>\n",
       "      <td>0.172737</td>\n",
       "      <td>4.0</td>\n",
       "    </tr>\n",
       "  </tbody>\n",
       "</table>\n",
       "</div>"
      ],
      "text/plain": [
       "               busStop_distance  hospital_distance  store_distance  \\\n",
       "cluster_grade                                                        \n",
       "grade_0                0.170317           1.069559        1.640162   \n",
       "grade_1                0.168050           0.492118        0.681109   \n",
       "grade_2                0.219149           1.748779        2.538689   \n",
       "grade_3                0.153538           0.566128        1.073838   \n",
       "grade_4                0.177885           0.567223        2.633722   \n",
       "\n",
       "               welfare_distance  library_distance  theater_distance  \\\n",
       "cluster_grade                                                         \n",
       "grade_0                3.151953          1.644202          2.953616   \n",
       "grade_1                1.460326          0.696619          1.513694   \n",
       "grade_2                2.979718          2.297090          3.774114   \n",
       "grade_3                1.458181          0.820227          1.992866   \n",
       "grade_4                4.184901          2.495456          4.375754   \n",
       "\n",
       "               busTime_mean  aged_population_ratio  cluster_grade  \n",
       "cluster_grade                                                      \n",
       "grade_0          134.286923               0.167230            0.0  \n",
       "grade_1           98.857343               0.135619            1.0  \n",
       "grade_2          159.954316               0.189370            2.0  \n",
       "grade_3          110.627247               0.262204            3.0  \n",
       "grade_4          108.473722               0.172737            4.0  "
      ]
     },
     "execution_count": 284,
     "metadata": {},
     "output_type": "execute_result"
    }
   ],
   "source": [
    "cluster"
   ]
  },
  {
   "cell_type": "markdown",
   "metadata": {},
   "source": [
    "### 군집화 중 교통 취약지역을 최적 지역으로 선정"
   ]
  },
  {
   "cell_type": "code",
   "execution_count": 285,
   "metadata": {},
   "outputs": [],
   "source": [
    "cluster_traffic=cluster.loc[:, ['busStop_distance', 'busTime_mean']]"
   ]
  },
  {
   "cell_type": "code",
   "execution_count": 286,
   "metadata": {},
   "outputs": [
    {
     "data": {
      "text/html": [
       "<div>\n",
       "<style scoped>\n",
       "    .dataframe tbody tr th:only-of-type {\n",
       "        vertical-align: middle;\n",
       "    }\n",
       "\n",
       "    .dataframe tbody tr th {\n",
       "        vertical-align: top;\n",
       "    }\n",
       "\n",
       "    .dataframe thead th {\n",
       "        text-align: right;\n",
       "    }\n",
       "</style>\n",
       "<table border=\"1\" class=\"dataframe\">\n",
       "  <thead>\n",
       "    <tr style=\"text-align: right;\">\n",
       "      <th></th>\n",
       "      <th>busStop_distance</th>\n",
       "      <th>busTime_mean</th>\n",
       "    </tr>\n",
       "    <tr>\n",
       "      <th>cluster_grade</th>\n",
       "      <th></th>\n",
       "      <th></th>\n",
       "    </tr>\n",
       "  </thead>\n",
       "  <tbody>\n",
       "    <tr>\n",
       "      <th>grade_0</th>\n",
       "      <td>0.170317</td>\n",
       "      <td>134.286923</td>\n",
       "    </tr>\n",
       "    <tr>\n",
       "      <th>grade_1</th>\n",
       "      <td>0.168050</td>\n",
       "      <td>98.857343</td>\n",
       "    </tr>\n",
       "    <tr>\n",
       "      <th>grade_2</th>\n",
       "      <td>0.219149</td>\n",
       "      <td>159.954316</td>\n",
       "    </tr>\n",
       "    <tr>\n",
       "      <th>grade_3</th>\n",
       "      <td>0.153538</td>\n",
       "      <td>110.627247</td>\n",
       "    </tr>\n",
       "    <tr>\n",
       "      <th>grade_4</th>\n",
       "      <td>0.177885</td>\n",
       "      <td>108.473722</td>\n",
       "    </tr>\n",
       "  </tbody>\n",
       "</table>\n",
       "</div>"
      ],
      "text/plain": [
       "               busStop_distance  busTime_mean\n",
       "cluster_grade                                \n",
       "grade_0                0.170317    134.286923\n",
       "grade_1                0.168050     98.857343\n",
       "grade_2                0.219149    159.954316\n",
       "grade_3                0.153538    110.627247\n",
       "grade_4                0.177885    108.473722"
      ]
     },
     "execution_count": 286,
     "metadata": {},
     "output_type": "execute_result"
    }
   ],
   "source": [
    "cluster_traffic"
   ]
  },
  {
   "cell_type": "markdown",
   "metadata": {},
   "source": [
    "### grade_2가 교통 취약 지역임을 확인"
   ]
  },
  {
   "cell_type": "code",
   "execution_count": null,
   "metadata": {},
   "outputs": [],
   "source": [
    "grade_2_df=cluster_5[cluster_5['cluster_grade']==2]\n",
    "# grade_2_df"
   ]
  },
  {
   "cell_type": "code",
   "execution_count": 294,
   "metadata": {},
   "outputs": [],
   "source": [
    "center_XY=distance.loc[:, ['name', 'X', 'Y']]\n",
    "grade2_merge=pd.merge(grade_2_df, center_XY, on='name', how='left')\n",
    "#grade2_merge=pd.merge(grade_2_df, distance, on='name', how='left')\n",
    "#grade2_merge"
   ]
  },
  {
   "cell_type": "code",
   "execution_count": 297,
   "metadata": {},
   "outputs": [],
   "source": [
    "grade2_merge.to_csv(\"grade2.csv\", encoding='euc-kr')"
   ]
  },
  {
   "cell_type": "code",
   "execution_count": null,
   "metadata": {},
   "outputs": [],
   "source": []
  }
 ],
 "metadata": {
  "kernelspec": {
   "display_name": "Python 3",
   "language": "python",
   "name": "python3"
  },
  "language_info": {
   "codemirror_mode": {
    "name": "ipython",
    "version": 3
   },
   "file_extension": ".py",
   "mimetype": "text/x-python",
   "name": "python",
   "nbconvert_exporter": "python",
   "pygments_lexer": "ipython3",
   "version": "3.9.0"
  }
 },
 "nbformat": 4,
 "nbformat_minor": 4
}
